{
 "cells": [
  {
   "cell_type": "code",
   "execution_count": 2,
   "id": "542e4c22",
   "metadata": {},
   "outputs": [],
   "source": [
    "import pandas as pd\n",
    "import numpy as np\n",
    "import matplotlib.pyplot as plt\n",
    "import seaborn as sns"
   ]
  },
  {
   "cell_type": "code",
   "execution_count": 3,
   "id": "028da92f",
   "metadata": {},
   "outputs": [],
   "source": [
    "df = pd.read_csv('airnb.csv')"
   ]
  },
  {
   "cell_type": "code",
   "execution_count": 4,
   "id": "f791e2eb",
   "metadata": {},
   "outputs": [
    {
     "data": {
      "application/vnd.microsoft.datawrangler.viewer.v0+json": {
       "columns": [
        {
         "name": "index",
         "rawType": "int64",
         "type": "integer"
        },
        {
         "name": "Title",
         "rawType": "object",
         "type": "string"
        },
        {
         "name": "Detail",
         "rawType": "object",
         "type": "string"
        },
        {
         "name": "Date",
         "rawType": "object",
         "type": "string"
        },
        {
         "name": "Price(in dollar)",
         "rawType": "object",
         "type": "string"
        },
        {
         "name": "Offer price(in dollar)",
         "rawType": "object",
         "type": "unknown"
        },
        {
         "name": "Review and rating",
         "rawType": "object",
         "type": "unknown"
        },
        {
         "name": "Number of bed",
         "rawType": "object",
         "type": "string"
        }
       ],
       "ref": "c4b32310-2958-4557-bd3b-55d54cb545da",
       "rows": [
        [
         "0",
         "Chalet in Skykomish, Washington, US",
         "Sky Haus - A-Frame Cabin",
         "Jun 11 - 16",
         "306.00",
         "229.00",
         "4.85 (531)",
         "4 beds"
        ],
        [
         "1",
         "Cabin in Hancock, New York, US",
         "The Catskill A-Frame - Mid-Century Modern Cabin",
         "Jun 6 - 11",
         "485.00",
         "170.00",
         "4.77 (146)",
         "4 beds"
        ],
        [
         "2",
         "Cabin in West Farmington, Ohio, US",
         "The Triangle: A-Frame Cabin for your city retreat",
         "Jul 9 - 14",
         "119.00",
         "522.00",
         "4.91 (515)",
         "4 beds"
        ],
        [
         "3",
         "Home in Blue Ridge, Georgia, US",
         "*Summer Sizzle* 5 Min to Blue Ridge* Pets* Hot tub",
         "Jun 11 - 16",
         "192.00",
         "348.00",
         "4.94 (88)",
         "5 beds"
        ],
        [
         "4",
         "Treehouse in Grandview, Texas, US",
         "Luxury Treehouse Couples Getaway w/ Peaceful Views",
         "Jun 4 - 9",
         "232.00",
         "196.00",
         "4.99 (222)",
         "1 queen bed"
        ],
        [
         "5",
         "Tiny home in Puerto Escondido, Mexico",
         "Casa Tiny near Casa Wabi",
         "Jun 21 - 26",
         "261.00",
         "148.00",
         "4.84 (555)",
         "1 double bed"
        ],
        [
         "6",
         "Home in Saco, Maine, US",
         "The Beach House. Oceanfront & Sunrise Views!",
         "Jun 4 - 9",
         "607.00",
         null,
         "4.64 (90)",
         "2 queen beds"
        ],
        [
         "7",
         "Chalet in Grand Étang, Canada",
         "• Cedar Peak • 2 Bedroom Barrier-Free Chalet",
         "Jun 8 - 15",
         "381.00",
         null,
         "5.0 (48)",
         "2 beds"
        ],
        [
         "8",
         "Room in Mexico City, Mexico",
         "Room in apartment, traditional neighborhood",
         "Jul 3 - 8",
         "29.00",
         null,
         "4.84 (58)",
         "2 beds"
        ],
        [
         "9",
         "Tiny home in Sandy Valley, Nevada, US",
         "Peacock Tiny House near Las Vegas",
         "Jun 26 - Jul 1",
         "154.00",
         null,
         "4.92 (744)",
         "3 beds"
        ],
        [
         "10",
         "Guest suite in Huntsville, Canada",
         "Hidden Valley’s Guest Suite - explore nature",
         "Sep 4 - 10",
         "207.00",
         null,
         "4.97 (265)",
         "2 beds"
        ],
        [
         "11",
         "Cabin in Nelson, Canada",
         "Downey Family Cabin. Barrel Sauna Included!",
         "Jun 1 - 6",
         "162.00",
         null,
         "4.99 (226)",
         "2 king beds"
        ],
        [
         "12",
         "Dome in Joshua Tree, California, US",
         "Dome in the Desert in Joshua Tree",
         "Jun 1 - 6",
         "268.00",
         null,
         "4.94 (944)",
         "1 king bed"
        ],
        [
         "13",
         "Barn in Vero Beach, Florida, US",
         "Private Barn Studio at Pura Vida Florida Farm",
         "Sep 11 - 16",
         "111.00",
         null,
         "4.95 (417)",
         "2 double beds"
        ],
        [
         "14",
         "Tiny home in Bolton, Vermont, US",
         "Cozy Tiny House Cabin between Burlington and Stowe",
         "Jun 1 - 6",
         "174.00",
         null,
         "4.97 (372)",
         "2 queen beds"
        ],
        [
         "15",
         "Cabin in Ucluelet, Canada",
         "Peace Cabin - private waterfront forest retreat",
         "Sep 8 - 13",
         "497.00",
         null,
         "4.99 (69)",
         "1 king bed"
        ],
        [
         "16",
         "Barn in Essex, Canada",
         "14th Homestead Barn Loft",
         "Jun 11 - 16",
         "163.00",
         null,
         "4.9 (289)",
         "1 king bed"
        ],
        [
         "17",
         "Apartment in Bacalar, Mexico",
         "Lagoon Front Hut: Daily Cleaning, Bikes & Kayaks!",
         "Jun 18 - 23",
         "141.00",
         null,
         "4.89 (633)",
         "1 king bed"
        ],
        [
         "18",
         "Treehouse in Travelers Rest, South Carolina, US",
         "The Forestry House - A modern luxury treehouse.",
         "Aug 20 - 25",
         "282.00",
         "417.00",
         "New",
         "1 bed"
        ],
        [
         "19",
         "Farm stay in Del Norte County, California, US",
         "Underground Hobbit Hole @ Sustainable Ecovillage",
         "Jun 9 - 14",
         "89.00",
         "253.00",
         "4.54 (195)",
         "1 bed"
        ],
        [
         "20",
         "Treehouse in San Carlos, Costa Rica",
         "Rainforest Tree House with Hot Springs",
         "Aug 31 - Sep 5",
         "132.00",
         null,
         "4.84 (763)",
         "3 beds"
        ],
        [
         "21",
         "Treehouse in Frazeysburg, Ohio, US",
         "Tullihas in the Trees Off-Grid Treehouse",
         "Jun 4 - 9",
         "143.00",
         null,
         "4.98 (181)",
         "2 beds"
        ],
        [
         "22",
         "Cabin in Rodney, Canada",
         "SECLUDED LAKESIDE CABIN",
         "Jul 23 - 28",
         "463.00",
         null,
         "4.99 (172)",
         "3 beds"
        ],
        [
         "23",
         "Room in La Habana, Cuba",
         "Fauria Colonial House (Room 3)",
         "Jun 21 - 26",
         "29.00",
         null,
         "4.92 (75)",
         "1 bed"
        ],
        [
         "24",
         "Dome in Terlingua, Texas, US",
         "Domeland: Off-grid Adobe Dome near Big Bend",
         "Jul 9 - 14",
         "136.00",
         null,
         "4.95 (863)",
         "5 beds"
        ],
        [
         "25",
         "Home in Port Angeles, Washington, US",
         "Lake Sutherland Waterfront Cabin w/ Expansive Dock",
         "Sep 1 - 6",
         "688.00",
         null,
         "4.82 (83)",
         "1 king bed"
        ],
        [
         "26",
         "Treehouse in Fredericksburg, Texas, US",
         "Luxury Tree House X Magical Romantic Forest! Pool!",
         "Jun 18 - 23",
         "658.00",
         null,
         "4.91 (142)",
         "1 king bed"
        ],
        [
         "27",
         "Cottage in Harcourt, Canada",
         "Scandinavian-Inspired Tiny Home Experience",
         "Sep 3 - 8",
         "392.00",
         null,
         "4.98 (95)",
         "2 beds"
        ],
        [
         "28",
         "Tiny home in Medellín, Colombia",
         "Tiny House Cubo Nube Santa Elena 40 min. Medellin.",
         "Jun 17 - 22",
         "67.00",
         null,
         "4.95 (197)",
         "1 queen bed"
        ],
        [
         "29",
         "Cabin in Medellín, Colombia",
         "Chalet Boutique Saltamontes Santa Elena",
         "Jun 4 - 9",
         "51.00",
         null,
         "4.94 (232)",
         "2 beds"
        ],
        [
         "30",
         "Cabin in Bryson City, North Carolina, US",
         "Secluded View! A-Frame Hot Tub and Fire Pit",
         "Jun 19 - 24",
         "354.00",
         null,
         "4.95 (20)",
         "1 queen bed"
        ],
        [
         "31",
         "Place to stay in Retiro, Colombia",
         "★ BubbleSky Glamping ★ One Night Under Stars ★3",
         "Jun 23 - 28",
         "107.00",
         null,
         "4.9 (154)",
         "2 king beds"
        ],
        [
         "32",
         "Cabin in Bluefields, Jamaica",
         "Cozy Oceanview Cabin",
         "Jul 14 - 21",
         "102.00",
         null,
         "4.88 (76)",
         "1 king bed"
        ],
        [
         "33",
         "Hut in Bavaro, Dominican Republic",
         "Hut #1 Romantic Luxury Beachfront",
         "Jul 1 - 6",
         "171.00",
         null,
         "4.89 (377)",
         "2 beds"
        ],
        [
         "34",
         "Treehouse in Marion, North Carolina, US",
         "Treehouse w/Breathtaking Views+HotTub+Hiking+Falls",
         "Aug 12 - 17",
         "286.00",
         null,
         "5.0 (21)",
         "1 queen bed"
        ],
        [
         "35",
         "Dome in Sandgate, Vermont, US",
         "“Whimsical Stone Abode” - Boston Magazine",
         "Jun 6 - 11",
         "301.00",
         null,
         "5.0 (244)",
         "1 queen bed"
        ],
        [
         "36",
         "Condo in Puerto Vallarta, Mexico",
         "Buddha Loft in Romantic Zone of Puerto Vallarta",
         "Jul 12 - 17",
         "112.00",
         "146.00",
         "4.85 (175)",
         "1 bed"
        ],
        [
         "37",
         "Cabin in Sanbornton, New Hampshire, US",
         "The G Frame...an offGrid Cabin + woodstove sauna",
         "Jun 4 - 9",
         "169.00",
         "1,089.00",
         "4.96 (395)",
         "2 king beds"
        ],
        [
         "38",
         "Room in La Habana, Cuba",
         "Casa Blanca B&B with beautiful terrace &sea views",
         "Sep 11 - 16",
         "43.00",
         "630.00",
         "4.82 (359)",
         "2 king beds"
        ],
        [
         "39",
         "Home in Moss Beach, California, US",
         "Walk to the Beach from this Ocean Front Home",
         "Jun 1 - 6",
         "1,463.00",
         "225.00",
         "4.94 (149)",
         "9 beds"
        ],
        [
         "40",
         "Cottage in Wheatley, Canada",
         "Cozy Modern Beach House w/ Pool, Hot Tub & More!",
         "Jun 4 - 11",
         "764.00",
         "819.00",
         "4.74 (19)",
         "2 queen beds"
        ],
        [
         "41",
         "Cabin in Topanga, California, US",
         "Crystal Cabin, Restored Vintage Lodge in Topanga State Park",
         "Jun 3 - 8",
         "225.00",
         null,
         "4.94 (209)",
         "1 double bed"
        ],
        [
         "42",
         "Chalet in Cajicá, Colombia",
         "Casa Anís",
         "Jun 1 - 6",
         "40.00",
         null,
         "4.96 (202)",
         "3 beds"
        ],
        [
         "43",
         "Cabin in Center Conway, New Hampshire, US",
         "Warm Pine A-frame Nestled In The Trees!",
         "Jul 1 - 6",
         "287.00",
         null,
         "4.79 (536)",
         "1 double bed"
        ],
        [
         "44",
         "Cottage in Renous, Canada",
         "Hambrook Point Cottage “Homestead”",
         "Jun 25 - 30",
         "93.00",
         null,
         "4.87 (360)",
         "3 beds"
        ],
        [
         "45",
         "Tiny home in Huntsville, Missouri, US",
         "O’s Barn Cabin",
         "Jul 4 - 9",
         "118.00",
         null,
         "4.94 (296)",
         "2 double beds"
        ],
        [
         "46",
         "Tiny home in Castleton, Canada",
         "Artsy \"Glamping\" experience",
         "Jul 21 - 26",
         "138.00",
         null,
         "4.91 (278)",
         "3 beds"
        ],
        [
         "47",
         "Cottage in Bodega Bay, California, US",
         "Seamist Beach Cottage, Private Beach & Ocean views",
         "Aug 13 - 18",
         "670.00",
         null,
         "4.7 (256)",
         "2 beds"
        ],
        [
         "48",
         "Cabin in Rocky View County, Canada",
         "100+ Year old Rustic Log Cabin near Ghost Lake",
         "Aug 25 - 30",
         "135.00",
         null,
         "4.83 (459)",
         "1 sofa bed"
        ],
        [
         "49",
         "Houseboat in Low, Canada",
         "The Dragon + Private Island",
         "Jun 1 - 6",
         "178.00",
         null,
         "4.87 (61)",
         "1 queen bed"
        ]
       ],
       "shape": {
        "columns": 7,
        "rows": 953
       }
      },
      "text/html": [
       "<div>\n",
       "<style scoped>\n",
       "    .dataframe tbody tr th:only-of-type {\n",
       "        vertical-align: middle;\n",
       "    }\n",
       "\n",
       "    .dataframe tbody tr th {\n",
       "        vertical-align: top;\n",
       "    }\n",
       "\n",
       "    .dataframe thead th {\n",
       "        text-align: right;\n",
       "    }\n",
       "</style>\n",
       "<table border=\"1\" class=\"dataframe\">\n",
       "  <thead>\n",
       "    <tr style=\"text-align: right;\">\n",
       "      <th></th>\n",
       "      <th>Title</th>\n",
       "      <th>Detail</th>\n",
       "      <th>Date</th>\n",
       "      <th>Price(in dollar)</th>\n",
       "      <th>Offer price(in dollar)</th>\n",
       "      <th>Review and rating</th>\n",
       "      <th>Number of bed</th>\n",
       "    </tr>\n",
       "  </thead>\n",
       "  <tbody>\n",
       "    <tr>\n",
       "      <th>0</th>\n",
       "      <td>Chalet in Skykomish, Washington, US</td>\n",
       "      <td>Sky Haus - A-Frame Cabin</td>\n",
       "      <td>Jun 11 - 16</td>\n",
       "      <td>306.00</td>\n",
       "      <td>229.00</td>\n",
       "      <td>4.85 (531)</td>\n",
       "      <td>4 beds</td>\n",
       "    </tr>\n",
       "    <tr>\n",
       "      <th>1</th>\n",
       "      <td>Cabin in Hancock, New York, US</td>\n",
       "      <td>The Catskill A-Frame - Mid-Century Modern Cabin</td>\n",
       "      <td>Jun 6 - 11</td>\n",
       "      <td>485.00</td>\n",
       "      <td>170.00</td>\n",
       "      <td>4.77 (146)</td>\n",
       "      <td>4 beds</td>\n",
       "    </tr>\n",
       "    <tr>\n",
       "      <th>2</th>\n",
       "      <td>Cabin in West Farmington, Ohio, US</td>\n",
       "      <td>The Triangle: A-Frame Cabin for your city retreat</td>\n",
       "      <td>Jul 9 - 14</td>\n",
       "      <td>119.00</td>\n",
       "      <td>522.00</td>\n",
       "      <td>4.91 (515)</td>\n",
       "      <td>4 beds</td>\n",
       "    </tr>\n",
       "    <tr>\n",
       "      <th>3</th>\n",
       "      <td>Home in Blue Ridge, Georgia, US</td>\n",
       "      <td>*Summer Sizzle* 5 Min to Blue Ridge* Pets* Hot...</td>\n",
       "      <td>Jun 11 - 16</td>\n",
       "      <td>192.00</td>\n",
       "      <td>348.00</td>\n",
       "      <td>4.94 (88)</td>\n",
       "      <td>5 beds</td>\n",
       "    </tr>\n",
       "    <tr>\n",
       "      <th>4</th>\n",
       "      <td>Treehouse in Grandview, Texas, US</td>\n",
       "      <td>Luxury Treehouse Couples Getaway w/ Peaceful V...</td>\n",
       "      <td>Jun 4 - 9</td>\n",
       "      <td>232.00</td>\n",
       "      <td>196.00</td>\n",
       "      <td>4.99 (222)</td>\n",
       "      <td>1 queen bed</td>\n",
       "    </tr>\n",
       "    <tr>\n",
       "      <th>...</th>\n",
       "      <td>...</td>\n",
       "      <td>...</td>\n",
       "      <td>...</td>\n",
       "      <td>...</td>\n",
       "      <td>...</td>\n",
       "      <td>...</td>\n",
       "      <td>...</td>\n",
       "    </tr>\n",
       "    <tr>\n",
       "      <th>948</th>\n",
       "      <td>Guest suite in Lake Worth</td>\n",
       "      <td>The Garden Suite at the Historic Chateau Bleu</td>\n",
       "      <td>May 1 - 6</td>\n",
       "      <td>141.00</td>\n",
       "      <td>NaN</td>\n",
       "      <td>4.85 (82)</td>\n",
       "      <td>1 king bed</td>\n",
       "    </tr>\n",
       "    <tr>\n",
       "      <th>949</th>\n",
       "      <td>Room in Kissimmee</td>\n",
       "      <td>Private Room in Orlando/Kissimmee (2Twins) T1</td>\n",
       "      <td>May 1 - 6</td>\n",
       "      <td>43.00</td>\n",
       "      <td>NaN</td>\n",
       "      <td>4.9 (300)</td>\n",
       "      <td>1 king bed</td>\n",
       "    </tr>\n",
       "    <tr>\n",
       "      <th>950</th>\n",
       "      <td>Guesthouse in San Antonio</td>\n",
       "      <td>Casa Alexander</td>\n",
       "      <td>May 1 - 6</td>\n",
       "      <td>73.00</td>\n",
       "      <td>NaN</td>\n",
       "      <td>4.92 (282)</td>\n",
       "      <td>5 beds</td>\n",
       "    </tr>\n",
       "    <tr>\n",
       "      <th>951</th>\n",
       "      <td>Apartment in Englewood</td>\n",
       "      <td>BEACH FRONT Unit w/ Pool Sandy Toe's # 5</td>\n",
       "      <td>May 7 - 12</td>\n",
       "      <td>233.00</td>\n",
       "      <td>NaN</td>\n",
       "      <td>4.96 (318)</td>\n",
       "      <td>4 beds</td>\n",
       "    </tr>\n",
       "    <tr>\n",
       "      <th>952</th>\n",
       "      <td>Room in Long Beach</td>\n",
       "      <td>Across the Street from Beach Getaway/Near Conv...</td>\n",
       "      <td>May 1 - 6</td>\n",
       "      <td>106.00</td>\n",
       "      <td>NaN</td>\n",
       "      <td>4.85 (97)</td>\n",
       "      <td>4 beds</td>\n",
       "    </tr>\n",
       "  </tbody>\n",
       "</table>\n",
       "<p>953 rows × 7 columns</p>\n",
       "</div>"
      ],
      "text/plain": [
       "                                   Title  \\\n",
       "0    Chalet in Skykomish, Washington, US   \n",
       "1         Cabin in Hancock, New York, US   \n",
       "2     Cabin in West Farmington, Ohio, US   \n",
       "3        Home in Blue Ridge, Georgia, US   \n",
       "4      Treehouse in Grandview, Texas, US   \n",
       "..                                   ...   \n",
       "948            Guest suite in Lake Worth   \n",
       "949                    Room in Kissimmee   \n",
       "950            Guesthouse in San Antonio   \n",
       "951               Apartment in Englewood   \n",
       "952                   Room in Long Beach   \n",
       "\n",
       "                                                Detail         Date  \\\n",
       "0                             Sky Haus - A-Frame Cabin  Jun 11 - 16   \n",
       "1      The Catskill A-Frame - Mid-Century Modern Cabin   Jun 6 - 11   \n",
       "2    The Triangle: A-Frame Cabin for your city retreat   Jul 9 - 14   \n",
       "3    *Summer Sizzle* 5 Min to Blue Ridge* Pets* Hot...  Jun 11 - 16   \n",
       "4    Luxury Treehouse Couples Getaway w/ Peaceful V...    Jun 4 - 9   \n",
       "..                                                 ...          ...   \n",
       "948      The Garden Suite at the Historic Chateau Bleu    May 1 - 6   \n",
       "949      Private Room in Orlando/Kissimmee (2Twins) T1    May 1 - 6   \n",
       "950                                     Casa Alexander    May 1 - 6   \n",
       "951           BEACH FRONT Unit w/ Pool Sandy Toe's # 5   May 7 - 12   \n",
       "952  Across the Street from Beach Getaway/Near Conv...    May 1 - 6   \n",
       "\n",
       "    Price(in dollar) Offer price(in dollar) Review and rating Number of bed  \n",
       "0             306.00                 229.00        4.85 (531)        4 beds  \n",
       "1             485.00                 170.00        4.77 (146)        4 beds  \n",
       "2             119.00                 522.00        4.91 (515)        4 beds  \n",
       "3             192.00                 348.00         4.94 (88)        5 beds  \n",
       "4             232.00                 196.00        4.99 (222)   1 queen bed  \n",
       "..               ...                    ...               ...           ...  \n",
       "948           141.00                    NaN         4.85 (82)    1 king bed  \n",
       "949            43.00                    NaN         4.9 (300)    1 king bed  \n",
       "950            73.00                    NaN        4.92 (282)        5 beds  \n",
       "951           233.00                    NaN        4.96 (318)        4 beds  \n",
       "952           106.00                    NaN         4.85 (97)        4 beds  \n",
       "\n",
       "[953 rows x 7 columns]"
      ]
     },
     "execution_count": 4,
     "metadata": {},
     "output_type": "execute_result"
    }
   ],
   "source": [
    "df"
   ]
  },
  {
   "cell_type": "code",
   "execution_count": 5,
   "id": "effa7c79",
   "metadata": {},
   "outputs": [
    {
     "data": {
      "text/plain": [
       "(953, 7)"
      ]
     },
     "execution_count": 5,
     "metadata": {},
     "output_type": "execute_result"
    }
   ],
   "source": [
    "df.shape"
   ]
  },
  {
   "cell_type": "code",
   "execution_count": 6,
   "id": "f9ba4124",
   "metadata": {},
   "outputs": [
    {
     "name": "stdout",
     "output_type": "stream",
     "text": [
      "<class 'pandas.core.frame.DataFrame'>\n",
      "RangeIndex: 953 entries, 0 to 952\n",
      "Data columns (total 7 columns):\n",
      " #   Column                  Non-Null Count  Dtype \n",
      "---  ------                  --------------  ----- \n",
      " 0   Title                   953 non-null    object\n",
      " 1   Detail                  953 non-null    object\n",
      " 2   Date                    953 non-null    object\n",
      " 3   Price(in dollar)        953 non-null    object\n",
      " 4   Offer price(in dollar)  166 non-null    object\n",
      " 5   Review and rating       947 non-null    object\n",
      " 6   Number of bed           953 non-null    object\n",
      "dtypes: object(7)\n",
      "memory usage: 52.2+ KB\n"
     ]
    }
   ],
   "source": [
    "df.info()"
   ]
  },
  {
   "cell_type": "code",
   "execution_count": 7,
   "id": "e1feb572",
   "metadata": {},
   "outputs": [
    {
     "data": {
      "text/plain": [
       "Index(['Title', 'Detail', 'Date', 'Price(in dollar)', 'Offer price(in dollar)',\n",
       "       'Review and rating', 'Number of bed'],\n",
       "      dtype='object')"
      ]
     },
     "execution_count": 7,
     "metadata": {},
     "output_type": "execute_result"
    }
   ],
   "source": [
    "df.columns"
   ]
  },
  {
   "cell_type": "code",
   "execution_count": 8,
   "id": "b6a2bdcb",
   "metadata": {},
   "outputs": [],
   "source": [
    "def remove_comma_covert(col_name):\n",
    "    df[col_name] = (\n",
    "        df[col_name].astype(str)\n",
    "        .str.replace(',','')\n",
    "        .astype(float))\n",
    "    return df"
   ]
  },
  {
   "cell_type": "code",
   "execution_count": 9,
   "id": "95196a0f",
   "metadata": {},
   "outputs": [
    {
     "data": {
      "application/vnd.microsoft.datawrangler.viewer.v0+json": {
       "columns": [
        {
         "name": "index",
         "rawType": "int64",
         "type": "integer"
        },
        {
         "name": "Title",
         "rawType": "object",
         "type": "string"
        },
        {
         "name": "Detail",
         "rawType": "object",
         "type": "string"
        },
        {
         "name": "Date",
         "rawType": "object",
         "type": "string"
        },
        {
         "name": "Price(in dollar)",
         "rawType": "float64",
         "type": "float"
        },
        {
         "name": "Offer price(in dollar)",
         "rawType": "object",
         "type": "unknown"
        },
        {
         "name": "Review and rating",
         "rawType": "object",
         "type": "unknown"
        },
        {
         "name": "Number of bed",
         "rawType": "object",
         "type": "string"
        }
       ],
       "ref": "d6c39d85-f5aa-41fa-a7af-bbd0d605fc27",
       "rows": [
        [
         "0",
         "Chalet in Skykomish, Washington, US",
         "Sky Haus - A-Frame Cabin",
         "Jun 11 - 16",
         "306.0",
         "229.00",
         "4.85 (531)",
         "4 beds"
        ],
        [
         "1",
         "Cabin in Hancock, New York, US",
         "The Catskill A-Frame - Mid-Century Modern Cabin",
         "Jun 6 - 11",
         "485.0",
         "170.00",
         "4.77 (146)",
         "4 beds"
        ],
        [
         "2",
         "Cabin in West Farmington, Ohio, US",
         "The Triangle: A-Frame Cabin for your city retreat",
         "Jul 9 - 14",
         "119.0",
         "522.00",
         "4.91 (515)",
         "4 beds"
        ],
        [
         "3",
         "Home in Blue Ridge, Georgia, US",
         "*Summer Sizzle* 5 Min to Blue Ridge* Pets* Hot tub",
         "Jun 11 - 16",
         "192.0",
         "348.00",
         "4.94 (88)",
         "5 beds"
        ],
        [
         "4",
         "Treehouse in Grandview, Texas, US",
         "Luxury Treehouse Couples Getaway w/ Peaceful Views",
         "Jun 4 - 9",
         "232.0",
         "196.00",
         "4.99 (222)",
         "1 queen bed"
        ],
        [
         "5",
         "Tiny home in Puerto Escondido, Mexico",
         "Casa Tiny near Casa Wabi",
         "Jun 21 - 26",
         "261.0",
         "148.00",
         "4.84 (555)",
         "1 double bed"
        ],
        [
         "6",
         "Home in Saco, Maine, US",
         "The Beach House. Oceanfront & Sunrise Views!",
         "Jun 4 - 9",
         "607.0",
         null,
         "4.64 (90)",
         "2 queen beds"
        ],
        [
         "7",
         "Chalet in Grand Étang, Canada",
         "• Cedar Peak • 2 Bedroom Barrier-Free Chalet",
         "Jun 8 - 15",
         "381.0",
         null,
         "5.0 (48)",
         "2 beds"
        ],
        [
         "8",
         "Room in Mexico City, Mexico",
         "Room in apartment, traditional neighborhood",
         "Jul 3 - 8",
         "29.0",
         null,
         "4.84 (58)",
         "2 beds"
        ],
        [
         "9",
         "Tiny home in Sandy Valley, Nevada, US",
         "Peacock Tiny House near Las Vegas",
         "Jun 26 - Jul 1",
         "154.0",
         null,
         "4.92 (744)",
         "3 beds"
        ],
        [
         "10",
         "Guest suite in Huntsville, Canada",
         "Hidden Valley’s Guest Suite - explore nature",
         "Sep 4 - 10",
         "207.0",
         null,
         "4.97 (265)",
         "2 beds"
        ],
        [
         "11",
         "Cabin in Nelson, Canada",
         "Downey Family Cabin. Barrel Sauna Included!",
         "Jun 1 - 6",
         "162.0",
         null,
         "4.99 (226)",
         "2 king beds"
        ],
        [
         "12",
         "Dome in Joshua Tree, California, US",
         "Dome in the Desert in Joshua Tree",
         "Jun 1 - 6",
         "268.0",
         null,
         "4.94 (944)",
         "1 king bed"
        ],
        [
         "13",
         "Barn in Vero Beach, Florida, US",
         "Private Barn Studio at Pura Vida Florida Farm",
         "Sep 11 - 16",
         "111.0",
         null,
         "4.95 (417)",
         "2 double beds"
        ],
        [
         "14",
         "Tiny home in Bolton, Vermont, US",
         "Cozy Tiny House Cabin between Burlington and Stowe",
         "Jun 1 - 6",
         "174.0",
         null,
         "4.97 (372)",
         "2 queen beds"
        ],
        [
         "15",
         "Cabin in Ucluelet, Canada",
         "Peace Cabin - private waterfront forest retreat",
         "Sep 8 - 13",
         "497.0",
         null,
         "4.99 (69)",
         "1 king bed"
        ],
        [
         "16",
         "Barn in Essex, Canada",
         "14th Homestead Barn Loft",
         "Jun 11 - 16",
         "163.0",
         null,
         "4.9 (289)",
         "1 king bed"
        ],
        [
         "17",
         "Apartment in Bacalar, Mexico",
         "Lagoon Front Hut: Daily Cleaning, Bikes & Kayaks!",
         "Jun 18 - 23",
         "141.0",
         null,
         "4.89 (633)",
         "1 king bed"
        ],
        [
         "18",
         "Treehouse in Travelers Rest, South Carolina, US",
         "The Forestry House - A modern luxury treehouse.",
         "Aug 20 - 25",
         "282.0",
         "417.00",
         "New",
         "1 bed"
        ],
        [
         "19",
         "Farm stay in Del Norte County, California, US",
         "Underground Hobbit Hole @ Sustainable Ecovillage",
         "Jun 9 - 14",
         "89.0",
         "253.00",
         "4.54 (195)",
         "1 bed"
        ],
        [
         "20",
         "Treehouse in San Carlos, Costa Rica",
         "Rainforest Tree House with Hot Springs",
         "Aug 31 - Sep 5",
         "132.0",
         null,
         "4.84 (763)",
         "3 beds"
        ],
        [
         "21",
         "Treehouse in Frazeysburg, Ohio, US",
         "Tullihas in the Trees Off-Grid Treehouse",
         "Jun 4 - 9",
         "143.0",
         null,
         "4.98 (181)",
         "2 beds"
        ],
        [
         "22",
         "Cabin in Rodney, Canada",
         "SECLUDED LAKESIDE CABIN",
         "Jul 23 - 28",
         "463.0",
         null,
         "4.99 (172)",
         "3 beds"
        ],
        [
         "23",
         "Room in La Habana, Cuba",
         "Fauria Colonial House (Room 3)",
         "Jun 21 - 26",
         "29.0",
         null,
         "4.92 (75)",
         "1 bed"
        ],
        [
         "24",
         "Dome in Terlingua, Texas, US",
         "Domeland: Off-grid Adobe Dome near Big Bend",
         "Jul 9 - 14",
         "136.0",
         null,
         "4.95 (863)",
         "5 beds"
        ],
        [
         "25",
         "Home in Port Angeles, Washington, US",
         "Lake Sutherland Waterfront Cabin w/ Expansive Dock",
         "Sep 1 - 6",
         "688.0",
         null,
         "4.82 (83)",
         "1 king bed"
        ],
        [
         "26",
         "Treehouse in Fredericksburg, Texas, US",
         "Luxury Tree House X Magical Romantic Forest! Pool!",
         "Jun 18 - 23",
         "658.0",
         null,
         "4.91 (142)",
         "1 king bed"
        ],
        [
         "27",
         "Cottage in Harcourt, Canada",
         "Scandinavian-Inspired Tiny Home Experience",
         "Sep 3 - 8",
         "392.0",
         null,
         "4.98 (95)",
         "2 beds"
        ],
        [
         "28",
         "Tiny home in Medellín, Colombia",
         "Tiny House Cubo Nube Santa Elena 40 min. Medellin.",
         "Jun 17 - 22",
         "67.0",
         null,
         "4.95 (197)",
         "1 queen bed"
        ],
        [
         "29",
         "Cabin in Medellín, Colombia",
         "Chalet Boutique Saltamontes Santa Elena",
         "Jun 4 - 9",
         "51.0",
         null,
         "4.94 (232)",
         "2 beds"
        ],
        [
         "30",
         "Cabin in Bryson City, North Carolina, US",
         "Secluded View! A-Frame Hot Tub and Fire Pit",
         "Jun 19 - 24",
         "354.0",
         null,
         "4.95 (20)",
         "1 queen bed"
        ],
        [
         "31",
         "Place to stay in Retiro, Colombia",
         "★ BubbleSky Glamping ★ One Night Under Stars ★3",
         "Jun 23 - 28",
         "107.0",
         null,
         "4.9 (154)",
         "2 king beds"
        ],
        [
         "32",
         "Cabin in Bluefields, Jamaica",
         "Cozy Oceanview Cabin",
         "Jul 14 - 21",
         "102.0",
         null,
         "4.88 (76)",
         "1 king bed"
        ],
        [
         "33",
         "Hut in Bavaro, Dominican Republic",
         "Hut #1 Romantic Luxury Beachfront",
         "Jul 1 - 6",
         "171.0",
         null,
         "4.89 (377)",
         "2 beds"
        ],
        [
         "34",
         "Treehouse in Marion, North Carolina, US",
         "Treehouse w/Breathtaking Views+HotTub+Hiking+Falls",
         "Aug 12 - 17",
         "286.0",
         null,
         "5.0 (21)",
         "1 queen bed"
        ],
        [
         "35",
         "Dome in Sandgate, Vermont, US",
         "“Whimsical Stone Abode” - Boston Magazine",
         "Jun 6 - 11",
         "301.0",
         null,
         "5.0 (244)",
         "1 queen bed"
        ],
        [
         "36",
         "Condo in Puerto Vallarta, Mexico",
         "Buddha Loft in Romantic Zone of Puerto Vallarta",
         "Jul 12 - 17",
         "112.0",
         "146.00",
         "4.85 (175)",
         "1 bed"
        ],
        [
         "37",
         "Cabin in Sanbornton, New Hampshire, US",
         "The G Frame...an offGrid Cabin + woodstove sauna",
         "Jun 4 - 9",
         "169.0",
         "1,089.00",
         "4.96 (395)",
         "2 king beds"
        ],
        [
         "38",
         "Room in La Habana, Cuba",
         "Casa Blanca B&B with beautiful terrace &sea views",
         "Sep 11 - 16",
         "43.0",
         "630.00",
         "4.82 (359)",
         "2 king beds"
        ],
        [
         "39",
         "Home in Moss Beach, California, US",
         "Walk to the Beach from this Ocean Front Home",
         "Jun 1 - 6",
         "1463.0",
         "225.00",
         "4.94 (149)",
         "9 beds"
        ],
        [
         "40",
         "Cottage in Wheatley, Canada",
         "Cozy Modern Beach House w/ Pool, Hot Tub & More!",
         "Jun 4 - 11",
         "764.0",
         "819.00",
         "4.74 (19)",
         "2 queen beds"
        ],
        [
         "41",
         "Cabin in Topanga, California, US",
         "Crystal Cabin, Restored Vintage Lodge in Topanga State Park",
         "Jun 3 - 8",
         "225.0",
         null,
         "4.94 (209)",
         "1 double bed"
        ],
        [
         "42",
         "Chalet in Cajicá, Colombia",
         "Casa Anís",
         "Jun 1 - 6",
         "40.0",
         null,
         "4.96 (202)",
         "3 beds"
        ],
        [
         "43",
         "Cabin in Center Conway, New Hampshire, US",
         "Warm Pine A-frame Nestled In The Trees!",
         "Jul 1 - 6",
         "287.0",
         null,
         "4.79 (536)",
         "1 double bed"
        ],
        [
         "44",
         "Cottage in Renous, Canada",
         "Hambrook Point Cottage “Homestead”",
         "Jun 25 - 30",
         "93.0",
         null,
         "4.87 (360)",
         "3 beds"
        ],
        [
         "45",
         "Tiny home in Huntsville, Missouri, US",
         "O’s Barn Cabin",
         "Jul 4 - 9",
         "118.0",
         null,
         "4.94 (296)",
         "2 double beds"
        ],
        [
         "46",
         "Tiny home in Castleton, Canada",
         "Artsy \"Glamping\" experience",
         "Jul 21 - 26",
         "138.0",
         null,
         "4.91 (278)",
         "3 beds"
        ],
        [
         "47",
         "Cottage in Bodega Bay, California, US",
         "Seamist Beach Cottage, Private Beach & Ocean views",
         "Aug 13 - 18",
         "670.0",
         null,
         "4.7 (256)",
         "2 beds"
        ],
        [
         "48",
         "Cabin in Rocky View County, Canada",
         "100+ Year old Rustic Log Cabin near Ghost Lake",
         "Aug 25 - 30",
         "135.0",
         null,
         "4.83 (459)",
         "1 sofa bed"
        ],
        [
         "49",
         "Houseboat in Low, Canada",
         "The Dragon + Private Island",
         "Jun 1 - 6",
         "178.0",
         null,
         "4.87 (61)",
         "1 queen bed"
        ]
       ],
       "shape": {
        "columns": 7,
        "rows": 953
       }
      },
      "text/html": [
       "<div>\n",
       "<style scoped>\n",
       "    .dataframe tbody tr th:only-of-type {\n",
       "        vertical-align: middle;\n",
       "    }\n",
       "\n",
       "    .dataframe tbody tr th {\n",
       "        vertical-align: top;\n",
       "    }\n",
       "\n",
       "    .dataframe thead th {\n",
       "        text-align: right;\n",
       "    }\n",
       "</style>\n",
       "<table border=\"1\" class=\"dataframe\">\n",
       "  <thead>\n",
       "    <tr style=\"text-align: right;\">\n",
       "      <th></th>\n",
       "      <th>Title</th>\n",
       "      <th>Detail</th>\n",
       "      <th>Date</th>\n",
       "      <th>Price(in dollar)</th>\n",
       "      <th>Offer price(in dollar)</th>\n",
       "      <th>Review and rating</th>\n",
       "      <th>Number of bed</th>\n",
       "    </tr>\n",
       "  </thead>\n",
       "  <tbody>\n",
       "    <tr>\n",
       "      <th>0</th>\n",
       "      <td>Chalet in Skykomish, Washington, US</td>\n",
       "      <td>Sky Haus - A-Frame Cabin</td>\n",
       "      <td>Jun 11 - 16</td>\n",
       "      <td>306.0</td>\n",
       "      <td>229.00</td>\n",
       "      <td>4.85 (531)</td>\n",
       "      <td>4 beds</td>\n",
       "    </tr>\n",
       "    <tr>\n",
       "      <th>1</th>\n",
       "      <td>Cabin in Hancock, New York, US</td>\n",
       "      <td>The Catskill A-Frame - Mid-Century Modern Cabin</td>\n",
       "      <td>Jun 6 - 11</td>\n",
       "      <td>485.0</td>\n",
       "      <td>170.00</td>\n",
       "      <td>4.77 (146)</td>\n",
       "      <td>4 beds</td>\n",
       "    </tr>\n",
       "    <tr>\n",
       "      <th>2</th>\n",
       "      <td>Cabin in West Farmington, Ohio, US</td>\n",
       "      <td>The Triangle: A-Frame Cabin for your city retreat</td>\n",
       "      <td>Jul 9 - 14</td>\n",
       "      <td>119.0</td>\n",
       "      <td>522.00</td>\n",
       "      <td>4.91 (515)</td>\n",
       "      <td>4 beds</td>\n",
       "    </tr>\n",
       "    <tr>\n",
       "      <th>3</th>\n",
       "      <td>Home in Blue Ridge, Georgia, US</td>\n",
       "      <td>*Summer Sizzle* 5 Min to Blue Ridge* Pets* Hot...</td>\n",
       "      <td>Jun 11 - 16</td>\n",
       "      <td>192.0</td>\n",
       "      <td>348.00</td>\n",
       "      <td>4.94 (88)</td>\n",
       "      <td>5 beds</td>\n",
       "    </tr>\n",
       "    <tr>\n",
       "      <th>4</th>\n",
       "      <td>Treehouse in Grandview, Texas, US</td>\n",
       "      <td>Luxury Treehouse Couples Getaway w/ Peaceful V...</td>\n",
       "      <td>Jun 4 - 9</td>\n",
       "      <td>232.0</td>\n",
       "      <td>196.00</td>\n",
       "      <td>4.99 (222)</td>\n",
       "      <td>1 queen bed</td>\n",
       "    </tr>\n",
       "    <tr>\n",
       "      <th>...</th>\n",
       "      <td>...</td>\n",
       "      <td>...</td>\n",
       "      <td>...</td>\n",
       "      <td>...</td>\n",
       "      <td>...</td>\n",
       "      <td>...</td>\n",
       "      <td>...</td>\n",
       "    </tr>\n",
       "    <tr>\n",
       "      <th>948</th>\n",
       "      <td>Guest suite in Lake Worth</td>\n",
       "      <td>The Garden Suite at the Historic Chateau Bleu</td>\n",
       "      <td>May 1 - 6</td>\n",
       "      <td>141.0</td>\n",
       "      <td>NaN</td>\n",
       "      <td>4.85 (82)</td>\n",
       "      <td>1 king bed</td>\n",
       "    </tr>\n",
       "    <tr>\n",
       "      <th>949</th>\n",
       "      <td>Room in Kissimmee</td>\n",
       "      <td>Private Room in Orlando/Kissimmee (2Twins) T1</td>\n",
       "      <td>May 1 - 6</td>\n",
       "      <td>43.0</td>\n",
       "      <td>NaN</td>\n",
       "      <td>4.9 (300)</td>\n",
       "      <td>1 king bed</td>\n",
       "    </tr>\n",
       "    <tr>\n",
       "      <th>950</th>\n",
       "      <td>Guesthouse in San Antonio</td>\n",
       "      <td>Casa Alexander</td>\n",
       "      <td>May 1 - 6</td>\n",
       "      <td>73.0</td>\n",
       "      <td>NaN</td>\n",
       "      <td>4.92 (282)</td>\n",
       "      <td>5 beds</td>\n",
       "    </tr>\n",
       "    <tr>\n",
       "      <th>951</th>\n",
       "      <td>Apartment in Englewood</td>\n",
       "      <td>BEACH FRONT Unit w/ Pool Sandy Toe's # 5</td>\n",
       "      <td>May 7 - 12</td>\n",
       "      <td>233.0</td>\n",
       "      <td>NaN</td>\n",
       "      <td>4.96 (318)</td>\n",
       "      <td>4 beds</td>\n",
       "    </tr>\n",
       "    <tr>\n",
       "      <th>952</th>\n",
       "      <td>Room in Long Beach</td>\n",
       "      <td>Across the Street from Beach Getaway/Near Conv...</td>\n",
       "      <td>May 1 - 6</td>\n",
       "      <td>106.0</td>\n",
       "      <td>NaN</td>\n",
       "      <td>4.85 (97)</td>\n",
       "      <td>4 beds</td>\n",
       "    </tr>\n",
       "  </tbody>\n",
       "</table>\n",
       "<p>953 rows × 7 columns</p>\n",
       "</div>"
      ],
      "text/plain": [
       "                                   Title  \\\n",
       "0    Chalet in Skykomish, Washington, US   \n",
       "1         Cabin in Hancock, New York, US   \n",
       "2     Cabin in West Farmington, Ohio, US   \n",
       "3        Home in Blue Ridge, Georgia, US   \n",
       "4      Treehouse in Grandview, Texas, US   \n",
       "..                                   ...   \n",
       "948            Guest suite in Lake Worth   \n",
       "949                    Room in Kissimmee   \n",
       "950            Guesthouse in San Antonio   \n",
       "951               Apartment in Englewood   \n",
       "952                   Room in Long Beach   \n",
       "\n",
       "                                                Detail         Date  \\\n",
       "0                             Sky Haus - A-Frame Cabin  Jun 11 - 16   \n",
       "1      The Catskill A-Frame - Mid-Century Modern Cabin   Jun 6 - 11   \n",
       "2    The Triangle: A-Frame Cabin for your city retreat   Jul 9 - 14   \n",
       "3    *Summer Sizzle* 5 Min to Blue Ridge* Pets* Hot...  Jun 11 - 16   \n",
       "4    Luxury Treehouse Couples Getaway w/ Peaceful V...    Jun 4 - 9   \n",
       "..                                                 ...          ...   \n",
       "948      The Garden Suite at the Historic Chateau Bleu    May 1 - 6   \n",
       "949      Private Room in Orlando/Kissimmee (2Twins) T1    May 1 - 6   \n",
       "950                                     Casa Alexander    May 1 - 6   \n",
       "951           BEACH FRONT Unit w/ Pool Sandy Toe's # 5   May 7 - 12   \n",
       "952  Across the Street from Beach Getaway/Near Conv...    May 1 - 6   \n",
       "\n",
       "     Price(in dollar) Offer price(in dollar) Review and rating Number of bed  \n",
       "0               306.0                 229.00        4.85 (531)        4 beds  \n",
       "1               485.0                 170.00        4.77 (146)        4 beds  \n",
       "2               119.0                 522.00        4.91 (515)        4 beds  \n",
       "3               192.0                 348.00         4.94 (88)        5 beds  \n",
       "4               232.0                 196.00        4.99 (222)   1 queen bed  \n",
       "..                ...                    ...               ...           ...  \n",
       "948             141.0                    NaN         4.85 (82)    1 king bed  \n",
       "949              43.0                    NaN         4.9 (300)    1 king bed  \n",
       "950              73.0                    NaN        4.92 (282)        5 beds  \n",
       "951             233.0                    NaN        4.96 (318)        4 beds  \n",
       "952             106.0                    NaN         4.85 (97)        4 beds  \n",
       "\n",
       "[953 rows x 7 columns]"
      ]
     },
     "execution_count": 9,
     "metadata": {},
     "output_type": "execute_result"
    }
   ],
   "source": [
    "remove_comma_covert(col_name='Price(in dollar)')"
   ]
  },
  {
   "cell_type": "code",
   "execution_count": 10,
   "id": "7cdcec63",
   "metadata": {},
   "outputs": [
    {
     "data": {
      "application/vnd.microsoft.datawrangler.viewer.v0+json": {
       "columns": [
        {
         "name": "index",
         "rawType": "int64",
         "type": "integer"
        },
        {
         "name": "Title",
         "rawType": "object",
         "type": "string"
        },
        {
         "name": "Detail",
         "rawType": "object",
         "type": "string"
        },
        {
         "name": "Date",
         "rawType": "object",
         "type": "string"
        },
        {
         "name": "Price(in dollar)",
         "rawType": "float64",
         "type": "float"
        },
        {
         "name": "Offer price(in dollar)",
         "rawType": "float64",
         "type": "float"
        },
        {
         "name": "Review and rating",
         "rawType": "object",
         "type": "unknown"
        },
        {
         "name": "Number of bed",
         "rawType": "object",
         "type": "string"
        }
       ],
       "ref": "9755d767-0600-46d8-b96c-92bf279478fe",
       "rows": [
        [
         "0",
         "Chalet in Skykomish, Washington, US",
         "Sky Haus - A-Frame Cabin",
         "Jun 11 - 16",
         "306.0",
         "229.0",
         "4.85 (531)",
         "4 beds"
        ],
        [
         "1",
         "Cabin in Hancock, New York, US",
         "The Catskill A-Frame - Mid-Century Modern Cabin",
         "Jun 6 - 11",
         "485.0",
         "170.0",
         "4.77 (146)",
         "4 beds"
        ],
        [
         "2",
         "Cabin in West Farmington, Ohio, US",
         "The Triangle: A-Frame Cabin for your city retreat",
         "Jul 9 - 14",
         "119.0",
         "522.0",
         "4.91 (515)",
         "4 beds"
        ],
        [
         "3",
         "Home in Blue Ridge, Georgia, US",
         "*Summer Sizzle* 5 Min to Blue Ridge* Pets* Hot tub",
         "Jun 11 - 16",
         "192.0",
         "348.0",
         "4.94 (88)",
         "5 beds"
        ],
        [
         "4",
         "Treehouse in Grandview, Texas, US",
         "Luxury Treehouse Couples Getaway w/ Peaceful Views",
         "Jun 4 - 9",
         "232.0",
         "196.0",
         "4.99 (222)",
         "1 queen bed"
        ],
        [
         "5",
         "Tiny home in Puerto Escondido, Mexico",
         "Casa Tiny near Casa Wabi",
         "Jun 21 - 26",
         "261.0",
         "148.0",
         "4.84 (555)",
         "1 double bed"
        ],
        [
         "6",
         "Home in Saco, Maine, US",
         "The Beach House. Oceanfront & Sunrise Views!",
         "Jun 4 - 9",
         "607.0",
         null,
         "4.64 (90)",
         "2 queen beds"
        ],
        [
         "7",
         "Chalet in Grand Étang, Canada",
         "• Cedar Peak • 2 Bedroom Barrier-Free Chalet",
         "Jun 8 - 15",
         "381.0",
         null,
         "5.0 (48)",
         "2 beds"
        ],
        [
         "8",
         "Room in Mexico City, Mexico",
         "Room in apartment, traditional neighborhood",
         "Jul 3 - 8",
         "29.0",
         null,
         "4.84 (58)",
         "2 beds"
        ],
        [
         "9",
         "Tiny home in Sandy Valley, Nevada, US",
         "Peacock Tiny House near Las Vegas",
         "Jun 26 - Jul 1",
         "154.0",
         null,
         "4.92 (744)",
         "3 beds"
        ],
        [
         "10",
         "Guest suite in Huntsville, Canada",
         "Hidden Valley’s Guest Suite - explore nature",
         "Sep 4 - 10",
         "207.0",
         null,
         "4.97 (265)",
         "2 beds"
        ],
        [
         "11",
         "Cabin in Nelson, Canada",
         "Downey Family Cabin. Barrel Sauna Included!",
         "Jun 1 - 6",
         "162.0",
         null,
         "4.99 (226)",
         "2 king beds"
        ],
        [
         "12",
         "Dome in Joshua Tree, California, US",
         "Dome in the Desert in Joshua Tree",
         "Jun 1 - 6",
         "268.0",
         null,
         "4.94 (944)",
         "1 king bed"
        ],
        [
         "13",
         "Barn in Vero Beach, Florida, US",
         "Private Barn Studio at Pura Vida Florida Farm",
         "Sep 11 - 16",
         "111.0",
         null,
         "4.95 (417)",
         "2 double beds"
        ],
        [
         "14",
         "Tiny home in Bolton, Vermont, US",
         "Cozy Tiny House Cabin between Burlington and Stowe",
         "Jun 1 - 6",
         "174.0",
         null,
         "4.97 (372)",
         "2 queen beds"
        ],
        [
         "15",
         "Cabin in Ucluelet, Canada",
         "Peace Cabin - private waterfront forest retreat",
         "Sep 8 - 13",
         "497.0",
         null,
         "4.99 (69)",
         "1 king bed"
        ],
        [
         "16",
         "Barn in Essex, Canada",
         "14th Homestead Barn Loft",
         "Jun 11 - 16",
         "163.0",
         null,
         "4.9 (289)",
         "1 king bed"
        ],
        [
         "17",
         "Apartment in Bacalar, Mexico",
         "Lagoon Front Hut: Daily Cleaning, Bikes & Kayaks!",
         "Jun 18 - 23",
         "141.0",
         null,
         "4.89 (633)",
         "1 king bed"
        ],
        [
         "18",
         "Treehouse in Travelers Rest, South Carolina, US",
         "The Forestry House - A modern luxury treehouse.",
         "Aug 20 - 25",
         "282.0",
         "417.0",
         "New",
         "1 bed"
        ],
        [
         "19",
         "Farm stay in Del Norte County, California, US",
         "Underground Hobbit Hole @ Sustainable Ecovillage",
         "Jun 9 - 14",
         "89.0",
         "253.0",
         "4.54 (195)",
         "1 bed"
        ],
        [
         "20",
         "Treehouse in San Carlos, Costa Rica",
         "Rainforest Tree House with Hot Springs",
         "Aug 31 - Sep 5",
         "132.0",
         null,
         "4.84 (763)",
         "3 beds"
        ],
        [
         "21",
         "Treehouse in Frazeysburg, Ohio, US",
         "Tullihas in the Trees Off-Grid Treehouse",
         "Jun 4 - 9",
         "143.0",
         null,
         "4.98 (181)",
         "2 beds"
        ],
        [
         "22",
         "Cabin in Rodney, Canada",
         "SECLUDED LAKESIDE CABIN",
         "Jul 23 - 28",
         "463.0",
         null,
         "4.99 (172)",
         "3 beds"
        ],
        [
         "23",
         "Room in La Habana, Cuba",
         "Fauria Colonial House (Room 3)",
         "Jun 21 - 26",
         "29.0",
         null,
         "4.92 (75)",
         "1 bed"
        ],
        [
         "24",
         "Dome in Terlingua, Texas, US",
         "Domeland: Off-grid Adobe Dome near Big Bend",
         "Jul 9 - 14",
         "136.0",
         null,
         "4.95 (863)",
         "5 beds"
        ],
        [
         "25",
         "Home in Port Angeles, Washington, US",
         "Lake Sutherland Waterfront Cabin w/ Expansive Dock",
         "Sep 1 - 6",
         "688.0",
         null,
         "4.82 (83)",
         "1 king bed"
        ],
        [
         "26",
         "Treehouse in Fredericksburg, Texas, US",
         "Luxury Tree House X Magical Romantic Forest! Pool!",
         "Jun 18 - 23",
         "658.0",
         null,
         "4.91 (142)",
         "1 king bed"
        ],
        [
         "27",
         "Cottage in Harcourt, Canada",
         "Scandinavian-Inspired Tiny Home Experience",
         "Sep 3 - 8",
         "392.0",
         null,
         "4.98 (95)",
         "2 beds"
        ],
        [
         "28",
         "Tiny home in Medellín, Colombia",
         "Tiny House Cubo Nube Santa Elena 40 min. Medellin.",
         "Jun 17 - 22",
         "67.0",
         null,
         "4.95 (197)",
         "1 queen bed"
        ],
        [
         "29",
         "Cabin in Medellín, Colombia",
         "Chalet Boutique Saltamontes Santa Elena",
         "Jun 4 - 9",
         "51.0",
         null,
         "4.94 (232)",
         "2 beds"
        ],
        [
         "30",
         "Cabin in Bryson City, North Carolina, US",
         "Secluded View! A-Frame Hot Tub and Fire Pit",
         "Jun 19 - 24",
         "354.0",
         null,
         "4.95 (20)",
         "1 queen bed"
        ],
        [
         "31",
         "Place to stay in Retiro, Colombia",
         "★ BubbleSky Glamping ★ One Night Under Stars ★3",
         "Jun 23 - 28",
         "107.0",
         null,
         "4.9 (154)",
         "2 king beds"
        ],
        [
         "32",
         "Cabin in Bluefields, Jamaica",
         "Cozy Oceanview Cabin",
         "Jul 14 - 21",
         "102.0",
         null,
         "4.88 (76)",
         "1 king bed"
        ],
        [
         "33",
         "Hut in Bavaro, Dominican Republic",
         "Hut #1 Romantic Luxury Beachfront",
         "Jul 1 - 6",
         "171.0",
         null,
         "4.89 (377)",
         "2 beds"
        ],
        [
         "34",
         "Treehouse in Marion, North Carolina, US",
         "Treehouse w/Breathtaking Views+HotTub+Hiking+Falls",
         "Aug 12 - 17",
         "286.0",
         null,
         "5.0 (21)",
         "1 queen bed"
        ],
        [
         "35",
         "Dome in Sandgate, Vermont, US",
         "“Whimsical Stone Abode” - Boston Magazine",
         "Jun 6 - 11",
         "301.0",
         null,
         "5.0 (244)",
         "1 queen bed"
        ],
        [
         "36",
         "Condo in Puerto Vallarta, Mexico",
         "Buddha Loft in Romantic Zone of Puerto Vallarta",
         "Jul 12 - 17",
         "112.0",
         "146.0",
         "4.85 (175)",
         "1 bed"
        ],
        [
         "37",
         "Cabin in Sanbornton, New Hampshire, US",
         "The G Frame...an offGrid Cabin + woodstove sauna",
         "Jun 4 - 9",
         "169.0",
         "1089.0",
         "4.96 (395)",
         "2 king beds"
        ],
        [
         "38",
         "Room in La Habana, Cuba",
         "Casa Blanca B&B with beautiful terrace &sea views",
         "Sep 11 - 16",
         "43.0",
         "630.0",
         "4.82 (359)",
         "2 king beds"
        ],
        [
         "39",
         "Home in Moss Beach, California, US",
         "Walk to the Beach from this Ocean Front Home",
         "Jun 1 - 6",
         "1463.0",
         "225.0",
         "4.94 (149)",
         "9 beds"
        ],
        [
         "40",
         "Cottage in Wheatley, Canada",
         "Cozy Modern Beach House w/ Pool, Hot Tub & More!",
         "Jun 4 - 11",
         "764.0",
         "819.0",
         "4.74 (19)",
         "2 queen beds"
        ],
        [
         "41",
         "Cabin in Topanga, California, US",
         "Crystal Cabin, Restored Vintage Lodge in Topanga State Park",
         "Jun 3 - 8",
         "225.0",
         null,
         "4.94 (209)",
         "1 double bed"
        ],
        [
         "42",
         "Chalet in Cajicá, Colombia",
         "Casa Anís",
         "Jun 1 - 6",
         "40.0",
         null,
         "4.96 (202)",
         "3 beds"
        ],
        [
         "43",
         "Cabin in Center Conway, New Hampshire, US",
         "Warm Pine A-frame Nestled In The Trees!",
         "Jul 1 - 6",
         "287.0",
         null,
         "4.79 (536)",
         "1 double bed"
        ],
        [
         "44",
         "Cottage in Renous, Canada",
         "Hambrook Point Cottage “Homestead”",
         "Jun 25 - 30",
         "93.0",
         null,
         "4.87 (360)",
         "3 beds"
        ],
        [
         "45",
         "Tiny home in Huntsville, Missouri, US",
         "O’s Barn Cabin",
         "Jul 4 - 9",
         "118.0",
         null,
         "4.94 (296)",
         "2 double beds"
        ],
        [
         "46",
         "Tiny home in Castleton, Canada",
         "Artsy \"Glamping\" experience",
         "Jul 21 - 26",
         "138.0",
         null,
         "4.91 (278)",
         "3 beds"
        ],
        [
         "47",
         "Cottage in Bodega Bay, California, US",
         "Seamist Beach Cottage, Private Beach & Ocean views",
         "Aug 13 - 18",
         "670.0",
         null,
         "4.7 (256)",
         "2 beds"
        ],
        [
         "48",
         "Cabin in Rocky View County, Canada",
         "100+ Year old Rustic Log Cabin near Ghost Lake",
         "Aug 25 - 30",
         "135.0",
         null,
         "4.83 (459)",
         "1 sofa bed"
        ],
        [
         "49",
         "Houseboat in Low, Canada",
         "The Dragon + Private Island",
         "Jun 1 - 6",
         "178.0",
         null,
         "4.87 (61)",
         "1 queen bed"
        ]
       ],
       "shape": {
        "columns": 7,
        "rows": 953
       }
      },
      "text/html": [
       "<div>\n",
       "<style scoped>\n",
       "    .dataframe tbody tr th:only-of-type {\n",
       "        vertical-align: middle;\n",
       "    }\n",
       "\n",
       "    .dataframe tbody tr th {\n",
       "        vertical-align: top;\n",
       "    }\n",
       "\n",
       "    .dataframe thead th {\n",
       "        text-align: right;\n",
       "    }\n",
       "</style>\n",
       "<table border=\"1\" class=\"dataframe\">\n",
       "  <thead>\n",
       "    <tr style=\"text-align: right;\">\n",
       "      <th></th>\n",
       "      <th>Title</th>\n",
       "      <th>Detail</th>\n",
       "      <th>Date</th>\n",
       "      <th>Price(in dollar)</th>\n",
       "      <th>Offer price(in dollar)</th>\n",
       "      <th>Review and rating</th>\n",
       "      <th>Number of bed</th>\n",
       "    </tr>\n",
       "  </thead>\n",
       "  <tbody>\n",
       "    <tr>\n",
       "      <th>0</th>\n",
       "      <td>Chalet in Skykomish, Washington, US</td>\n",
       "      <td>Sky Haus - A-Frame Cabin</td>\n",
       "      <td>Jun 11 - 16</td>\n",
       "      <td>306.0</td>\n",
       "      <td>229.0</td>\n",
       "      <td>4.85 (531)</td>\n",
       "      <td>4 beds</td>\n",
       "    </tr>\n",
       "    <tr>\n",
       "      <th>1</th>\n",
       "      <td>Cabin in Hancock, New York, US</td>\n",
       "      <td>The Catskill A-Frame - Mid-Century Modern Cabin</td>\n",
       "      <td>Jun 6 - 11</td>\n",
       "      <td>485.0</td>\n",
       "      <td>170.0</td>\n",
       "      <td>4.77 (146)</td>\n",
       "      <td>4 beds</td>\n",
       "    </tr>\n",
       "    <tr>\n",
       "      <th>2</th>\n",
       "      <td>Cabin in West Farmington, Ohio, US</td>\n",
       "      <td>The Triangle: A-Frame Cabin for your city retreat</td>\n",
       "      <td>Jul 9 - 14</td>\n",
       "      <td>119.0</td>\n",
       "      <td>522.0</td>\n",
       "      <td>4.91 (515)</td>\n",
       "      <td>4 beds</td>\n",
       "    </tr>\n",
       "    <tr>\n",
       "      <th>3</th>\n",
       "      <td>Home in Blue Ridge, Georgia, US</td>\n",
       "      <td>*Summer Sizzle* 5 Min to Blue Ridge* Pets* Hot...</td>\n",
       "      <td>Jun 11 - 16</td>\n",
       "      <td>192.0</td>\n",
       "      <td>348.0</td>\n",
       "      <td>4.94 (88)</td>\n",
       "      <td>5 beds</td>\n",
       "    </tr>\n",
       "    <tr>\n",
       "      <th>4</th>\n",
       "      <td>Treehouse in Grandview, Texas, US</td>\n",
       "      <td>Luxury Treehouse Couples Getaway w/ Peaceful V...</td>\n",
       "      <td>Jun 4 - 9</td>\n",
       "      <td>232.0</td>\n",
       "      <td>196.0</td>\n",
       "      <td>4.99 (222)</td>\n",
       "      <td>1 queen bed</td>\n",
       "    </tr>\n",
       "    <tr>\n",
       "      <th>...</th>\n",
       "      <td>...</td>\n",
       "      <td>...</td>\n",
       "      <td>...</td>\n",
       "      <td>...</td>\n",
       "      <td>...</td>\n",
       "      <td>...</td>\n",
       "      <td>...</td>\n",
       "    </tr>\n",
       "    <tr>\n",
       "      <th>948</th>\n",
       "      <td>Guest suite in Lake Worth</td>\n",
       "      <td>The Garden Suite at the Historic Chateau Bleu</td>\n",
       "      <td>May 1 - 6</td>\n",
       "      <td>141.0</td>\n",
       "      <td>NaN</td>\n",
       "      <td>4.85 (82)</td>\n",
       "      <td>1 king bed</td>\n",
       "    </tr>\n",
       "    <tr>\n",
       "      <th>949</th>\n",
       "      <td>Room in Kissimmee</td>\n",
       "      <td>Private Room in Orlando/Kissimmee (2Twins) T1</td>\n",
       "      <td>May 1 - 6</td>\n",
       "      <td>43.0</td>\n",
       "      <td>NaN</td>\n",
       "      <td>4.9 (300)</td>\n",
       "      <td>1 king bed</td>\n",
       "    </tr>\n",
       "    <tr>\n",
       "      <th>950</th>\n",
       "      <td>Guesthouse in San Antonio</td>\n",
       "      <td>Casa Alexander</td>\n",
       "      <td>May 1 - 6</td>\n",
       "      <td>73.0</td>\n",
       "      <td>NaN</td>\n",
       "      <td>4.92 (282)</td>\n",
       "      <td>5 beds</td>\n",
       "    </tr>\n",
       "    <tr>\n",
       "      <th>951</th>\n",
       "      <td>Apartment in Englewood</td>\n",
       "      <td>BEACH FRONT Unit w/ Pool Sandy Toe's # 5</td>\n",
       "      <td>May 7 - 12</td>\n",
       "      <td>233.0</td>\n",
       "      <td>NaN</td>\n",
       "      <td>4.96 (318)</td>\n",
       "      <td>4 beds</td>\n",
       "    </tr>\n",
       "    <tr>\n",
       "      <th>952</th>\n",
       "      <td>Room in Long Beach</td>\n",
       "      <td>Across the Street from Beach Getaway/Near Conv...</td>\n",
       "      <td>May 1 - 6</td>\n",
       "      <td>106.0</td>\n",
       "      <td>NaN</td>\n",
       "      <td>4.85 (97)</td>\n",
       "      <td>4 beds</td>\n",
       "    </tr>\n",
       "  </tbody>\n",
       "</table>\n",
       "<p>953 rows × 7 columns</p>\n",
       "</div>"
      ],
      "text/plain": [
       "                                   Title  \\\n",
       "0    Chalet in Skykomish, Washington, US   \n",
       "1         Cabin in Hancock, New York, US   \n",
       "2     Cabin in West Farmington, Ohio, US   \n",
       "3        Home in Blue Ridge, Georgia, US   \n",
       "4      Treehouse in Grandview, Texas, US   \n",
       "..                                   ...   \n",
       "948            Guest suite in Lake Worth   \n",
       "949                    Room in Kissimmee   \n",
       "950            Guesthouse in San Antonio   \n",
       "951               Apartment in Englewood   \n",
       "952                   Room in Long Beach   \n",
       "\n",
       "                                                Detail         Date  \\\n",
       "0                             Sky Haus - A-Frame Cabin  Jun 11 - 16   \n",
       "1      The Catskill A-Frame - Mid-Century Modern Cabin   Jun 6 - 11   \n",
       "2    The Triangle: A-Frame Cabin for your city retreat   Jul 9 - 14   \n",
       "3    *Summer Sizzle* 5 Min to Blue Ridge* Pets* Hot...  Jun 11 - 16   \n",
       "4    Luxury Treehouse Couples Getaway w/ Peaceful V...    Jun 4 - 9   \n",
       "..                                                 ...          ...   \n",
       "948      The Garden Suite at the Historic Chateau Bleu    May 1 - 6   \n",
       "949      Private Room in Orlando/Kissimmee (2Twins) T1    May 1 - 6   \n",
       "950                                     Casa Alexander    May 1 - 6   \n",
       "951           BEACH FRONT Unit w/ Pool Sandy Toe's # 5   May 7 - 12   \n",
       "952  Across the Street from Beach Getaway/Near Conv...    May 1 - 6   \n",
       "\n",
       "     Price(in dollar)  Offer price(in dollar) Review and rating Number of bed  \n",
       "0               306.0                   229.0        4.85 (531)        4 beds  \n",
       "1               485.0                   170.0        4.77 (146)        4 beds  \n",
       "2               119.0                   522.0        4.91 (515)        4 beds  \n",
       "3               192.0                   348.0         4.94 (88)        5 beds  \n",
       "4               232.0                   196.0        4.99 (222)   1 queen bed  \n",
       "..                ...                     ...               ...           ...  \n",
       "948             141.0                     NaN         4.85 (82)    1 king bed  \n",
       "949              43.0                     NaN         4.9 (300)    1 king bed  \n",
       "950              73.0                     NaN        4.92 (282)        5 beds  \n",
       "951             233.0                     NaN        4.96 (318)        4 beds  \n",
       "952             106.0                     NaN         4.85 (97)        4 beds  \n",
       "\n",
       "[953 rows x 7 columns]"
      ]
     },
     "execution_count": 10,
     "metadata": {},
     "output_type": "execute_result"
    }
   ],
   "source": [
    "remove_comma_covert(col_name='Offer price(in dollar)')"
   ]
  },
  {
   "cell_type": "code",
   "execution_count": 11,
   "id": "e93e1eb3",
   "metadata": {},
   "outputs": [
    {
     "name": "stdout",
     "output_type": "stream",
     "text": [
      "<class 'pandas.core.frame.DataFrame'>\n",
      "RangeIndex: 953 entries, 0 to 952\n",
      "Data columns (total 7 columns):\n",
      " #   Column                  Non-Null Count  Dtype  \n",
      "---  ------                  --------------  -----  \n",
      " 0   Title                   953 non-null    object \n",
      " 1   Detail                  953 non-null    object \n",
      " 2   Date                    953 non-null    object \n",
      " 3   Price(in dollar)        953 non-null    float64\n",
      " 4   Offer price(in dollar)  166 non-null    float64\n",
      " 5   Review and rating       947 non-null    object \n",
      " 6   Number of bed           953 non-null    object \n",
      "dtypes: float64(2), object(5)\n",
      "memory usage: 52.2+ KB\n"
     ]
    }
   ],
   "source": [
    "df.info()"
   ]
  },
  {
   "cell_type": "code",
   "execution_count": 12,
   "id": "57a74b33",
   "metadata": {},
   "outputs": [],
   "source": [
    "def fill_missing(col_name, method='value', value=None, inplace=False):\n",
    "    target_df = df if inplace else df.copy()\n",
    "\n",
    "    if method == 'mean':\n",
    "        target_df[col_name] = target_df[col_name].fillna(target_df[col_name].mean().round(2))\n",
    "    elif method == 'median':\n",
    "        target_df[col_name] = target_df[col_name].fillna(target_df[col_name].median().round(2))\n",
    "    elif method == 'value':\n",
    "        if value is None:\n",
    "            raise ValueError(\"You must provide a value when method='value'\")\n",
    "        target_df[col_name] = target_df[col_name].fillna(value)\n",
    "    else:\n",
    "        raise ValueError(\"method must be 'value', 'mean', or 'median'\")\n",
    "\n",
    "    if not inplace:\n",
    "        return target_df\n"
   ]
  },
  {
   "cell_type": "code",
   "execution_count": 13,
   "id": "b867241a",
   "metadata": {},
   "outputs": [],
   "source": [
    "fill_missing(col_name='Offer price(in dollar)', method='mean', inplace=True)"
   ]
  },
  {
   "cell_type": "code",
   "execution_count": 14,
   "id": "eabac327",
   "metadata": {},
   "outputs": [
    {
     "name": "stdout",
     "output_type": "stream",
     "text": [
      "<class 'pandas.core.frame.DataFrame'>\n",
      "Index: 947 entries, 0 to 952\n",
      "Data columns (total 7 columns):\n",
      " #   Column                  Non-Null Count  Dtype  \n",
      "---  ------                  --------------  -----  \n",
      " 0   Title                   947 non-null    object \n",
      " 1   Detail                  947 non-null    object \n",
      " 2   Date                    947 non-null    object \n",
      " 3   Price(in dollar)        947 non-null    float64\n",
      " 4   Offer price(in dollar)  947 non-null    float64\n",
      " 5   Review and rating       947 non-null    object \n",
      " 6   Number of bed           947 non-null    object \n",
      "dtypes: float64(2), object(5)\n",
      "memory usage: 59.2+ KB\n"
     ]
    }
   ],
   "source": [
    "df.dropna(axis=0, inplace=True)\n",
    "df.info()"
   ]
  },
  {
   "cell_type": "code",
   "execution_count": 15,
   "id": "0bcdd3c7",
   "metadata": {},
   "outputs": [
    {
     "data": {
      "application/vnd.microsoft.datawrangler.viewer.v0+json": {
       "columns": [
        {
         "name": "index",
         "rawType": "int64",
         "type": "integer"
        },
        {
         "name": "Title",
         "rawType": "object",
         "type": "string"
        },
        {
         "name": "Detail",
         "rawType": "object",
         "type": "string"
        },
        {
         "name": "Date",
         "rawType": "object",
         "type": "string"
        },
        {
         "name": "Price(in dollar)",
         "rawType": "float64",
         "type": "float"
        },
        {
         "name": "Offer price(in dollar)",
         "rawType": "float64",
         "type": "float"
        },
        {
         "name": "Review and rating",
         "rawType": "object",
         "type": "string"
        },
        {
         "name": "Number of bed",
         "rawType": "object",
         "type": "string"
        }
       ],
       "ref": "24f2df57-8853-44a3-80ee-5855d38fa791",
       "rows": [
        [
         "0",
         "Chalet in Skykomish, Washington, US",
         "Sky Haus - A-Frame Cabin",
         "Jun 11 - 16",
         "306.0",
         "229.0",
         "4.85 (531)",
         "4 beds"
        ],
        [
         "1",
         "Cabin in Hancock, New York, US",
         "The Catskill A-Frame - Mid-Century Modern Cabin",
         "Jun 6 - 11",
         "485.0",
         "170.0",
         "4.77 (146)",
         "4 beds"
        ],
        [
         "2",
         "Cabin in West Farmington, Ohio, US",
         "The Triangle: A-Frame Cabin for your city retreat",
         "Jul 9 - 14",
         "119.0",
         "522.0",
         "4.91 (515)",
         "4 beds"
        ],
        [
         "3",
         "Home in Blue Ridge, Georgia, US",
         "*Summer Sizzle* 5 Min to Blue Ridge* Pets* Hot tub",
         "Jun 11 - 16",
         "192.0",
         "348.0",
         "4.94 (88)",
         "5 beds"
        ],
        [
         "4",
         "Treehouse in Grandview, Texas, US",
         "Luxury Treehouse Couples Getaway w/ Peaceful Views",
         "Jun 4 - 9",
         "232.0",
         "196.0",
         "4.99 (222)",
         "1 queen bed"
        ],
        [
         "5",
         "Tiny home in Puerto Escondido, Mexico",
         "Casa Tiny near Casa Wabi",
         "Jun 21 - 26",
         "261.0",
         "148.0",
         "4.84 (555)",
         "1 double bed"
        ],
        [
         "6",
         "Home in Saco, Maine, US",
         "The Beach House. Oceanfront & Sunrise Views!",
         "Jun 4 - 9",
         "607.0",
         "156.56",
         "4.64 (90)",
         "2 queen beds"
        ],
        [
         "7",
         "Chalet in Grand Étang, Canada",
         "• Cedar Peak • 2 Bedroom Barrier-Free Chalet",
         "Jun 8 - 15",
         "381.0",
         "156.56",
         "5.0 (48)",
         "2 beds"
        ],
        [
         "8",
         "Room in Mexico City, Mexico",
         "Room in apartment, traditional neighborhood",
         "Jul 3 - 8",
         "29.0",
         "156.56",
         "4.84 (58)",
         "2 beds"
        ],
        [
         "9",
         "Tiny home in Sandy Valley, Nevada, US",
         "Peacock Tiny House near Las Vegas",
         "Jun 26 - Jul 1",
         "154.0",
         "156.56",
         "4.92 (744)",
         "3 beds"
        ],
        [
         "10",
         "Guest suite in Huntsville, Canada",
         "Hidden Valley’s Guest Suite - explore nature",
         "Sep 4 - 10",
         "207.0",
         "156.56",
         "4.97 (265)",
         "2 beds"
        ],
        [
         "11",
         "Cabin in Nelson, Canada",
         "Downey Family Cabin. Barrel Sauna Included!",
         "Jun 1 - 6",
         "162.0",
         "156.56",
         "4.99 (226)",
         "2 king beds"
        ],
        [
         "12",
         "Dome in Joshua Tree, California, US",
         "Dome in the Desert in Joshua Tree",
         "Jun 1 - 6",
         "268.0",
         "156.56",
         "4.94 (944)",
         "1 king bed"
        ],
        [
         "13",
         "Barn in Vero Beach, Florida, US",
         "Private Barn Studio at Pura Vida Florida Farm",
         "Sep 11 - 16",
         "111.0",
         "156.56",
         "4.95 (417)",
         "2 double beds"
        ],
        [
         "14",
         "Tiny home in Bolton, Vermont, US",
         "Cozy Tiny House Cabin between Burlington and Stowe",
         "Jun 1 - 6",
         "174.0",
         "156.56",
         "4.97 (372)",
         "2 queen beds"
        ],
        [
         "15",
         "Cabin in Ucluelet, Canada",
         "Peace Cabin - private waterfront forest retreat",
         "Sep 8 - 13",
         "497.0",
         "156.56",
         "4.99 (69)",
         "1 king bed"
        ],
        [
         "16",
         "Barn in Essex, Canada",
         "14th Homestead Barn Loft",
         "Jun 11 - 16",
         "163.0",
         "156.56",
         "4.9 (289)",
         "1 king bed"
        ],
        [
         "17",
         "Apartment in Bacalar, Mexico",
         "Lagoon Front Hut: Daily Cleaning, Bikes & Kayaks!",
         "Jun 18 - 23",
         "141.0",
         "156.56",
         "4.89 (633)",
         "1 king bed"
        ],
        [
         "18",
         "Treehouse in Travelers Rest, South Carolina, US",
         "The Forestry House - A modern luxury treehouse.",
         "Aug 20 - 25",
         "282.0",
         "417.0",
         "New",
         "1 bed"
        ],
        [
         "19",
         "Farm stay in Del Norte County, California, US",
         "Underground Hobbit Hole @ Sustainable Ecovillage",
         "Jun 9 - 14",
         "89.0",
         "253.0",
         "4.54 (195)",
         "1 bed"
        ],
        [
         "20",
         "Treehouse in San Carlos, Costa Rica",
         "Rainforest Tree House with Hot Springs",
         "Aug 31 - Sep 5",
         "132.0",
         "156.56",
         "4.84 (763)",
         "3 beds"
        ],
        [
         "21",
         "Treehouse in Frazeysburg, Ohio, US",
         "Tullihas in the Trees Off-Grid Treehouse",
         "Jun 4 - 9",
         "143.0",
         "156.56",
         "4.98 (181)",
         "2 beds"
        ],
        [
         "22",
         "Cabin in Rodney, Canada",
         "SECLUDED LAKESIDE CABIN",
         "Jul 23 - 28",
         "463.0",
         "156.56",
         "4.99 (172)",
         "3 beds"
        ],
        [
         "23",
         "Room in La Habana, Cuba",
         "Fauria Colonial House (Room 3)",
         "Jun 21 - 26",
         "29.0",
         "156.56",
         "4.92 (75)",
         "1 bed"
        ],
        [
         "24",
         "Dome in Terlingua, Texas, US",
         "Domeland: Off-grid Adobe Dome near Big Bend",
         "Jul 9 - 14",
         "136.0",
         "156.56",
         "4.95 (863)",
         "5 beds"
        ],
        [
         "25",
         "Home in Port Angeles, Washington, US",
         "Lake Sutherland Waterfront Cabin w/ Expansive Dock",
         "Sep 1 - 6",
         "688.0",
         "156.56",
         "4.82 (83)",
         "1 king bed"
        ],
        [
         "26",
         "Treehouse in Fredericksburg, Texas, US",
         "Luxury Tree House X Magical Romantic Forest! Pool!",
         "Jun 18 - 23",
         "658.0",
         "156.56",
         "4.91 (142)",
         "1 king bed"
        ],
        [
         "27",
         "Cottage in Harcourt, Canada",
         "Scandinavian-Inspired Tiny Home Experience",
         "Sep 3 - 8",
         "392.0",
         "156.56",
         "4.98 (95)",
         "2 beds"
        ],
        [
         "28",
         "Tiny home in Medellín, Colombia",
         "Tiny House Cubo Nube Santa Elena 40 min. Medellin.",
         "Jun 17 - 22",
         "67.0",
         "156.56",
         "4.95 (197)",
         "1 queen bed"
        ],
        [
         "29",
         "Cabin in Medellín, Colombia",
         "Chalet Boutique Saltamontes Santa Elena",
         "Jun 4 - 9",
         "51.0",
         "156.56",
         "4.94 (232)",
         "2 beds"
        ],
        [
         "30",
         "Cabin in Bryson City, North Carolina, US",
         "Secluded View! A-Frame Hot Tub and Fire Pit",
         "Jun 19 - 24",
         "354.0",
         "156.56",
         "4.95 (20)",
         "1 queen bed"
        ],
        [
         "31",
         "Place to stay in Retiro, Colombia",
         "★ BubbleSky Glamping ★ One Night Under Stars ★3",
         "Jun 23 - 28",
         "107.0",
         "156.56",
         "4.9 (154)",
         "2 king beds"
        ],
        [
         "32",
         "Cabin in Bluefields, Jamaica",
         "Cozy Oceanview Cabin",
         "Jul 14 - 21",
         "102.0",
         "156.56",
         "4.88 (76)",
         "1 king bed"
        ],
        [
         "33",
         "Hut in Bavaro, Dominican Republic",
         "Hut #1 Romantic Luxury Beachfront",
         "Jul 1 - 6",
         "171.0",
         "156.56",
         "4.89 (377)",
         "2 beds"
        ],
        [
         "34",
         "Treehouse in Marion, North Carolina, US",
         "Treehouse w/Breathtaking Views+HotTub+Hiking+Falls",
         "Aug 12 - 17",
         "286.0",
         "156.56",
         "5.0 (21)",
         "1 queen bed"
        ],
        [
         "35",
         "Dome in Sandgate, Vermont, US",
         "“Whimsical Stone Abode” - Boston Magazine",
         "Jun 6 - 11",
         "301.0",
         "156.56",
         "5.0 (244)",
         "1 queen bed"
        ],
        [
         "36",
         "Condo in Puerto Vallarta, Mexico",
         "Buddha Loft in Romantic Zone of Puerto Vallarta",
         "Jul 12 - 17",
         "112.0",
         "146.0",
         "4.85 (175)",
         "1 bed"
        ],
        [
         "37",
         "Cabin in Sanbornton, New Hampshire, US",
         "The G Frame...an offGrid Cabin + woodstove sauna",
         "Jun 4 - 9",
         "169.0",
         "1089.0",
         "4.96 (395)",
         "2 king beds"
        ],
        [
         "38",
         "Room in La Habana, Cuba",
         "Casa Blanca B&B with beautiful terrace &sea views",
         "Sep 11 - 16",
         "43.0",
         "630.0",
         "4.82 (359)",
         "2 king beds"
        ],
        [
         "39",
         "Home in Moss Beach, California, US",
         "Walk to the Beach from this Ocean Front Home",
         "Jun 1 - 6",
         "1463.0",
         "225.0",
         "4.94 (149)",
         "9 beds"
        ],
        [
         "40",
         "Cottage in Wheatley, Canada",
         "Cozy Modern Beach House w/ Pool, Hot Tub & More!",
         "Jun 4 - 11",
         "764.0",
         "819.0",
         "4.74 (19)",
         "2 queen beds"
        ],
        [
         "41",
         "Cabin in Topanga, California, US",
         "Crystal Cabin, Restored Vintage Lodge in Topanga State Park",
         "Jun 3 - 8",
         "225.0",
         "156.56",
         "4.94 (209)",
         "1 double bed"
        ],
        [
         "42",
         "Chalet in Cajicá, Colombia",
         "Casa Anís",
         "Jun 1 - 6",
         "40.0",
         "156.56",
         "4.96 (202)",
         "3 beds"
        ],
        [
         "43",
         "Cabin in Center Conway, New Hampshire, US",
         "Warm Pine A-frame Nestled In The Trees!",
         "Jul 1 - 6",
         "287.0",
         "156.56",
         "4.79 (536)",
         "1 double bed"
        ],
        [
         "44",
         "Cottage in Renous, Canada",
         "Hambrook Point Cottage “Homestead”",
         "Jun 25 - 30",
         "93.0",
         "156.56",
         "4.87 (360)",
         "3 beds"
        ],
        [
         "45",
         "Tiny home in Huntsville, Missouri, US",
         "O’s Barn Cabin",
         "Jul 4 - 9",
         "118.0",
         "156.56",
         "4.94 (296)",
         "2 double beds"
        ],
        [
         "46",
         "Tiny home in Castleton, Canada",
         "Artsy \"Glamping\" experience",
         "Jul 21 - 26",
         "138.0",
         "156.56",
         "4.91 (278)",
         "3 beds"
        ],
        [
         "47",
         "Cottage in Bodega Bay, California, US",
         "Seamist Beach Cottage, Private Beach & Ocean views",
         "Aug 13 - 18",
         "670.0",
         "156.56",
         "4.7 (256)",
         "2 beds"
        ],
        [
         "48",
         "Cabin in Rocky View County, Canada",
         "100+ Year old Rustic Log Cabin near Ghost Lake",
         "Aug 25 - 30",
         "135.0",
         "156.56",
         "4.83 (459)",
         "1 sofa bed"
        ],
        [
         "49",
         "Houseboat in Low, Canada",
         "The Dragon + Private Island",
         "Jun 1 - 6",
         "178.0",
         "156.56",
         "4.87 (61)",
         "1 queen bed"
        ]
       ],
       "shape": {
        "columns": 7,
        "rows": 947
       }
      },
      "text/html": [
       "<div>\n",
       "<style scoped>\n",
       "    .dataframe tbody tr th:only-of-type {\n",
       "        vertical-align: middle;\n",
       "    }\n",
       "\n",
       "    .dataframe tbody tr th {\n",
       "        vertical-align: top;\n",
       "    }\n",
       "\n",
       "    .dataframe thead th {\n",
       "        text-align: right;\n",
       "    }\n",
       "</style>\n",
       "<table border=\"1\" class=\"dataframe\">\n",
       "  <thead>\n",
       "    <tr style=\"text-align: right;\">\n",
       "      <th></th>\n",
       "      <th>Title</th>\n",
       "      <th>Detail</th>\n",
       "      <th>Date</th>\n",
       "      <th>Price(in dollar)</th>\n",
       "      <th>Offer price(in dollar)</th>\n",
       "      <th>Review and rating</th>\n",
       "      <th>Number of bed</th>\n",
       "    </tr>\n",
       "  </thead>\n",
       "  <tbody>\n",
       "    <tr>\n",
       "      <th>0</th>\n",
       "      <td>Chalet in Skykomish, Washington, US</td>\n",
       "      <td>Sky Haus - A-Frame Cabin</td>\n",
       "      <td>Jun 11 - 16</td>\n",
       "      <td>306.0</td>\n",
       "      <td>229.00</td>\n",
       "      <td>4.85 (531)</td>\n",
       "      <td>4 beds</td>\n",
       "    </tr>\n",
       "    <tr>\n",
       "      <th>1</th>\n",
       "      <td>Cabin in Hancock, New York, US</td>\n",
       "      <td>The Catskill A-Frame - Mid-Century Modern Cabin</td>\n",
       "      <td>Jun 6 - 11</td>\n",
       "      <td>485.0</td>\n",
       "      <td>170.00</td>\n",
       "      <td>4.77 (146)</td>\n",
       "      <td>4 beds</td>\n",
       "    </tr>\n",
       "    <tr>\n",
       "      <th>2</th>\n",
       "      <td>Cabin in West Farmington, Ohio, US</td>\n",
       "      <td>The Triangle: A-Frame Cabin for your city retreat</td>\n",
       "      <td>Jul 9 - 14</td>\n",
       "      <td>119.0</td>\n",
       "      <td>522.00</td>\n",
       "      <td>4.91 (515)</td>\n",
       "      <td>4 beds</td>\n",
       "    </tr>\n",
       "    <tr>\n",
       "      <th>3</th>\n",
       "      <td>Home in Blue Ridge, Georgia, US</td>\n",
       "      <td>*Summer Sizzle* 5 Min to Blue Ridge* Pets* Hot...</td>\n",
       "      <td>Jun 11 - 16</td>\n",
       "      <td>192.0</td>\n",
       "      <td>348.00</td>\n",
       "      <td>4.94 (88)</td>\n",
       "      <td>5 beds</td>\n",
       "    </tr>\n",
       "    <tr>\n",
       "      <th>4</th>\n",
       "      <td>Treehouse in Grandview, Texas, US</td>\n",
       "      <td>Luxury Treehouse Couples Getaway w/ Peaceful V...</td>\n",
       "      <td>Jun 4 - 9</td>\n",
       "      <td>232.0</td>\n",
       "      <td>196.00</td>\n",
       "      <td>4.99 (222)</td>\n",
       "      <td>1 queen bed</td>\n",
       "    </tr>\n",
       "    <tr>\n",
       "      <th>...</th>\n",
       "      <td>...</td>\n",
       "      <td>...</td>\n",
       "      <td>...</td>\n",
       "      <td>...</td>\n",
       "      <td>...</td>\n",
       "      <td>...</td>\n",
       "      <td>...</td>\n",
       "    </tr>\n",
       "    <tr>\n",
       "      <th>948</th>\n",
       "      <td>Guest suite in Lake Worth</td>\n",
       "      <td>The Garden Suite at the Historic Chateau Bleu</td>\n",
       "      <td>May 1 - 6</td>\n",
       "      <td>141.0</td>\n",
       "      <td>156.56</td>\n",
       "      <td>4.85 (82)</td>\n",
       "      <td>1 king bed</td>\n",
       "    </tr>\n",
       "    <tr>\n",
       "      <th>949</th>\n",
       "      <td>Room in Kissimmee</td>\n",
       "      <td>Private Room in Orlando/Kissimmee (2Twins) T1</td>\n",
       "      <td>May 1 - 6</td>\n",
       "      <td>43.0</td>\n",
       "      <td>156.56</td>\n",
       "      <td>4.9 (300)</td>\n",
       "      <td>1 king bed</td>\n",
       "    </tr>\n",
       "    <tr>\n",
       "      <th>950</th>\n",
       "      <td>Guesthouse in San Antonio</td>\n",
       "      <td>Casa Alexander</td>\n",
       "      <td>May 1 - 6</td>\n",
       "      <td>73.0</td>\n",
       "      <td>156.56</td>\n",
       "      <td>4.92 (282)</td>\n",
       "      <td>5 beds</td>\n",
       "    </tr>\n",
       "    <tr>\n",
       "      <th>951</th>\n",
       "      <td>Apartment in Englewood</td>\n",
       "      <td>BEACH FRONT Unit w/ Pool Sandy Toe's # 5</td>\n",
       "      <td>May 7 - 12</td>\n",
       "      <td>233.0</td>\n",
       "      <td>156.56</td>\n",
       "      <td>4.96 (318)</td>\n",
       "      <td>4 beds</td>\n",
       "    </tr>\n",
       "    <tr>\n",
       "      <th>952</th>\n",
       "      <td>Room in Long Beach</td>\n",
       "      <td>Across the Street from Beach Getaway/Near Conv...</td>\n",
       "      <td>May 1 - 6</td>\n",
       "      <td>106.0</td>\n",
       "      <td>156.56</td>\n",
       "      <td>4.85 (97)</td>\n",
       "      <td>4 beds</td>\n",
       "    </tr>\n",
       "  </tbody>\n",
       "</table>\n",
       "<p>947 rows × 7 columns</p>\n",
       "</div>"
      ],
      "text/plain": [
       "                                   Title  \\\n",
       "0    Chalet in Skykomish, Washington, US   \n",
       "1         Cabin in Hancock, New York, US   \n",
       "2     Cabin in West Farmington, Ohio, US   \n",
       "3        Home in Blue Ridge, Georgia, US   \n",
       "4      Treehouse in Grandview, Texas, US   \n",
       "..                                   ...   \n",
       "948            Guest suite in Lake Worth   \n",
       "949                    Room in Kissimmee   \n",
       "950            Guesthouse in San Antonio   \n",
       "951               Apartment in Englewood   \n",
       "952                   Room in Long Beach   \n",
       "\n",
       "                                                Detail         Date  \\\n",
       "0                             Sky Haus - A-Frame Cabin  Jun 11 - 16   \n",
       "1      The Catskill A-Frame - Mid-Century Modern Cabin   Jun 6 - 11   \n",
       "2    The Triangle: A-Frame Cabin for your city retreat   Jul 9 - 14   \n",
       "3    *Summer Sizzle* 5 Min to Blue Ridge* Pets* Hot...  Jun 11 - 16   \n",
       "4    Luxury Treehouse Couples Getaway w/ Peaceful V...    Jun 4 - 9   \n",
       "..                                                 ...          ...   \n",
       "948      The Garden Suite at the Historic Chateau Bleu    May 1 - 6   \n",
       "949      Private Room in Orlando/Kissimmee (2Twins) T1    May 1 - 6   \n",
       "950                                     Casa Alexander    May 1 - 6   \n",
       "951           BEACH FRONT Unit w/ Pool Sandy Toe's # 5   May 7 - 12   \n",
       "952  Across the Street from Beach Getaway/Near Conv...    May 1 - 6   \n",
       "\n",
       "     Price(in dollar)  Offer price(in dollar) Review and rating Number of bed  \n",
       "0               306.0                  229.00        4.85 (531)        4 beds  \n",
       "1               485.0                  170.00        4.77 (146)        4 beds  \n",
       "2               119.0                  522.00        4.91 (515)        4 beds  \n",
       "3               192.0                  348.00         4.94 (88)        5 beds  \n",
       "4               232.0                  196.00        4.99 (222)   1 queen bed  \n",
       "..                ...                     ...               ...           ...  \n",
       "948             141.0                  156.56         4.85 (82)    1 king bed  \n",
       "949              43.0                  156.56         4.9 (300)    1 king bed  \n",
       "950              73.0                  156.56        4.92 (282)        5 beds  \n",
       "951             233.0                  156.56        4.96 (318)        4 beds  \n",
       "952             106.0                  156.56         4.85 (97)        4 beds  \n",
       "\n",
       "[947 rows x 7 columns]"
      ]
     },
     "execution_count": 15,
     "metadata": {},
     "output_type": "execute_result"
    }
   ],
   "source": [
    "df"
   ]
  },
  {
   "cell_type": "code",
   "execution_count": 16,
   "id": "c744026b",
   "metadata": {},
   "outputs": [
    {
     "data": {
      "application/vnd.microsoft.datawrangler.viewer.v0+json": {
       "columns": [
        {
         "name": "index",
         "rawType": "int64",
         "type": "integer"
        },
        {
         "name": "Title",
         "rawType": "object",
         "type": "string"
        },
        {
         "name": "Detail",
         "rawType": "object",
         "type": "string"
        },
        {
         "name": "Date",
         "rawType": "object",
         "type": "string"
        },
        {
         "name": "Price(in dollar)",
         "rawType": "float64",
         "type": "float"
        },
        {
         "name": "Offer price(in dollar)",
         "rawType": "float64",
         "type": "float"
        },
        {
         "name": "Review and rating",
         "rawType": "object",
         "type": "string"
        },
        {
         "name": "Number of bed",
         "rawType": "object",
         "type": "string"
        },
        {
         "name": "Rating",
         "rawType": "float64",
         "type": "float"
        },
        {
         "name": "Review",
         "rawType": "int64",
         "type": "integer"
        }
       ],
       "ref": "a4920fc3-7909-4116-908b-81045e0d716f",
       "rows": [
        [
         "0",
         "Chalet in Skykomish, Washington, US",
         "Sky Haus - A-Frame Cabin",
         "Jun 11 - 16",
         "306.0",
         "229.0",
         "4.85 (531)",
         "4 beds",
         "4.85",
         "531"
        ],
        [
         "1",
         "Cabin in Hancock, New York, US",
         "The Catskill A-Frame - Mid-Century Modern Cabin",
         "Jun 6 - 11",
         "485.0",
         "170.0",
         "4.77 (146)",
         "4 beds",
         "4.77",
         "146"
        ],
        [
         "2",
         "Cabin in West Farmington, Ohio, US",
         "The Triangle: A-Frame Cabin for your city retreat",
         "Jul 9 - 14",
         "119.0",
         "522.0",
         "4.91 (515)",
         "4 beds",
         "4.91",
         "515"
        ],
        [
         "3",
         "Home in Blue Ridge, Georgia, US",
         "*Summer Sizzle* 5 Min to Blue Ridge* Pets* Hot tub",
         "Jun 11 - 16",
         "192.0",
         "348.0",
         "4.94 (88)",
         "5 beds",
         "4.94",
         "88"
        ],
        [
         "4",
         "Treehouse in Grandview, Texas, US",
         "Luxury Treehouse Couples Getaway w/ Peaceful Views",
         "Jun 4 - 9",
         "232.0",
         "196.0",
         "4.99 (222)",
         "1 queen bed",
         "4.99",
         "222"
        ]
       ],
       "shape": {
        "columns": 9,
        "rows": 5
       }
      },
      "text/html": [
       "<div>\n",
       "<style scoped>\n",
       "    .dataframe tbody tr th:only-of-type {\n",
       "        vertical-align: middle;\n",
       "    }\n",
       "\n",
       "    .dataframe tbody tr th {\n",
       "        vertical-align: top;\n",
       "    }\n",
       "\n",
       "    .dataframe thead th {\n",
       "        text-align: right;\n",
       "    }\n",
       "</style>\n",
       "<table border=\"1\" class=\"dataframe\">\n",
       "  <thead>\n",
       "    <tr style=\"text-align: right;\">\n",
       "      <th></th>\n",
       "      <th>Title</th>\n",
       "      <th>Detail</th>\n",
       "      <th>Date</th>\n",
       "      <th>Price(in dollar)</th>\n",
       "      <th>Offer price(in dollar)</th>\n",
       "      <th>Review and rating</th>\n",
       "      <th>Number of bed</th>\n",
       "      <th>Rating</th>\n",
       "      <th>Review</th>\n",
       "    </tr>\n",
       "  </thead>\n",
       "  <tbody>\n",
       "    <tr>\n",
       "      <th>0</th>\n",
       "      <td>Chalet in Skykomish, Washington, US</td>\n",
       "      <td>Sky Haus - A-Frame Cabin</td>\n",
       "      <td>Jun 11 - 16</td>\n",
       "      <td>306.0</td>\n",
       "      <td>229.0</td>\n",
       "      <td>4.85 (531)</td>\n",
       "      <td>4 beds</td>\n",
       "      <td>4.85</td>\n",
       "      <td>531</td>\n",
       "    </tr>\n",
       "    <tr>\n",
       "      <th>1</th>\n",
       "      <td>Cabin in Hancock, New York, US</td>\n",
       "      <td>The Catskill A-Frame - Mid-Century Modern Cabin</td>\n",
       "      <td>Jun 6 - 11</td>\n",
       "      <td>485.0</td>\n",
       "      <td>170.0</td>\n",
       "      <td>4.77 (146)</td>\n",
       "      <td>4 beds</td>\n",
       "      <td>4.77</td>\n",
       "      <td>146</td>\n",
       "    </tr>\n",
       "    <tr>\n",
       "      <th>2</th>\n",
       "      <td>Cabin in West Farmington, Ohio, US</td>\n",
       "      <td>The Triangle: A-Frame Cabin for your city retreat</td>\n",
       "      <td>Jul 9 - 14</td>\n",
       "      <td>119.0</td>\n",
       "      <td>522.0</td>\n",
       "      <td>4.91 (515)</td>\n",
       "      <td>4 beds</td>\n",
       "      <td>4.91</td>\n",
       "      <td>515</td>\n",
       "    </tr>\n",
       "    <tr>\n",
       "      <th>3</th>\n",
       "      <td>Home in Blue Ridge, Georgia, US</td>\n",
       "      <td>*Summer Sizzle* 5 Min to Blue Ridge* Pets* Hot...</td>\n",
       "      <td>Jun 11 - 16</td>\n",
       "      <td>192.0</td>\n",
       "      <td>348.0</td>\n",
       "      <td>4.94 (88)</td>\n",
       "      <td>5 beds</td>\n",
       "      <td>4.94</td>\n",
       "      <td>88</td>\n",
       "    </tr>\n",
       "    <tr>\n",
       "      <th>4</th>\n",
       "      <td>Treehouse in Grandview, Texas, US</td>\n",
       "      <td>Luxury Treehouse Couples Getaway w/ Peaceful V...</td>\n",
       "      <td>Jun 4 - 9</td>\n",
       "      <td>232.0</td>\n",
       "      <td>196.0</td>\n",
       "      <td>4.99 (222)</td>\n",
       "      <td>1 queen bed</td>\n",
       "      <td>4.99</td>\n",
       "      <td>222</td>\n",
       "    </tr>\n",
       "  </tbody>\n",
       "</table>\n",
       "</div>"
      ],
      "text/plain": [
       "                                 Title  \\\n",
       "0  Chalet in Skykomish, Washington, US   \n",
       "1       Cabin in Hancock, New York, US   \n",
       "2   Cabin in West Farmington, Ohio, US   \n",
       "3      Home in Blue Ridge, Georgia, US   \n",
       "4    Treehouse in Grandview, Texas, US   \n",
       "\n",
       "                                              Detail         Date  \\\n",
       "0                           Sky Haus - A-Frame Cabin  Jun 11 - 16   \n",
       "1    The Catskill A-Frame - Mid-Century Modern Cabin   Jun 6 - 11   \n",
       "2  The Triangle: A-Frame Cabin for your city retreat   Jul 9 - 14   \n",
       "3  *Summer Sizzle* 5 Min to Blue Ridge* Pets* Hot...  Jun 11 - 16   \n",
       "4  Luxury Treehouse Couples Getaway w/ Peaceful V...    Jun 4 - 9   \n",
       "\n",
       "   Price(in dollar)  Offer price(in dollar) Review and rating Number of bed  \\\n",
       "0             306.0                   229.0        4.85 (531)        4 beds   \n",
       "1             485.0                   170.0        4.77 (146)        4 beds   \n",
       "2             119.0                   522.0        4.91 (515)        4 beds   \n",
       "3             192.0                   348.0         4.94 (88)        5 beds   \n",
       "4             232.0                   196.0        4.99 (222)   1 queen bed   \n",
       "\n",
       "   Rating  Review  \n",
       "0    4.85     531  \n",
       "1    4.77     146  \n",
       "2    4.91     515  \n",
       "3    4.94      88  \n",
       "4    4.99     222  "
      ]
     },
     "execution_count": 16,
     "metadata": {},
     "output_type": "execute_result"
    }
   ],
   "source": [
    "df[['Rating', 'Review']] = df['Review and rating'].str.extract(r'([0-9.]+)\\s*\\((\\d+)\\)')\n",
    "\n",
    "df['Rating'] = df['Rating'].fillna(0).astype(float)\n",
    "df['Review'] = df['Review'].fillna(0).astype(int)\n",
    "\n",
    "df.head()"
   ]
  },
  {
   "cell_type": "code",
   "execution_count": 17,
   "id": "218ee8a8",
   "metadata": {},
   "outputs": [
    {
     "data": {
      "application/vnd.microsoft.datawrangler.viewer.v0+json": {
       "columns": [
        {
         "name": "Number of bed",
         "rawType": "object",
         "type": "string"
        },
        {
         "name": "count",
         "rawType": "int64",
         "type": "integer"
        }
       ],
       "ref": "2ac5093a-2f4a-425c-997d-d5d9031a92b8",
       "rows": [
        [
         "2 beds",
         "221"
        ],
        [
         "3 beds",
         "117"
        ],
        [
         "1 queen bed",
         "104"
        ],
        [
         "1 bed",
         "99"
        ],
        [
         "1 king bed",
         "86"
        ],
        [
         "4 beds",
         "62"
        ],
        [
         "1 double bed",
         "55"
        ],
        [
         "2 queen beds",
         "49"
        ],
        [
         "2 double beds",
         "23"
        ],
        [
         "2 king beds",
         "21"
        ],
        [
         "1 sofa bed",
         "19"
        ],
        [
         "5 beds",
         "17"
        ],
        [
         "6 beds",
         "17"
        ],
        [
         "3 queen beds",
         "8"
        ],
        [
         "2 single beds",
         "6"
        ],
        [
         "4 double beds",
         "5"
        ],
        [
         "9 beds",
         "5"
        ],
        [
         "3 double beds",
         "5"
        ],
        [
         "4 single beds",
         "4"
        ],
        [
         "8 beds",
         "4"
        ],
        [
         "7 beds",
         "3"
        ],
        [
         "2 sofa beds",
         "3"
        ],
        [
         "1 bunk bed",
         "3"
        ],
        [
         "5 double beds",
         "2"
        ],
        [
         "4 sofa beds",
         "1"
        ],
        [
         "11 beds",
         "1"
        ],
        [
         "22 beds",
         "1"
        ],
        [
         "3 king beds",
         "1"
        ],
        [
         "4 king beds",
         "1"
        ],
        [
         "17 beds",
         "1"
        ],
        [
         "4 queen beds",
         "1"
        ],
        [
         "13 beds",
         "1"
        ],
        [
         "10 beds",
         "1"
        ]
       ],
       "shape": {
        "columns": 1,
        "rows": 33
       }
      },
      "text/plain": [
       "Number of bed\n",
       "2 beds           221\n",
       "3 beds           117\n",
       "1 queen bed      104\n",
       "1 bed             99\n",
       "1 king bed        86\n",
       "4 beds            62\n",
       "1 double bed      55\n",
       "2 queen beds      49\n",
       "2 double beds     23\n",
       "2 king beds       21\n",
       "1 sofa bed        19\n",
       "5 beds            17\n",
       "6 beds            17\n",
       "3 queen beds       8\n",
       "2 single beds      6\n",
       "4 double beds      5\n",
       "9 beds             5\n",
       "3 double beds      5\n",
       "4 single beds      4\n",
       "8 beds             4\n",
       "7 beds             3\n",
       "2 sofa beds        3\n",
       "1 bunk bed         3\n",
       "5 double beds      2\n",
       "4 sofa beds        1\n",
       "11 beds            1\n",
       "22 beds            1\n",
       "3 king beds        1\n",
       "4 king beds        1\n",
       "17 beds            1\n",
       "4 queen beds       1\n",
       "13 beds            1\n",
       "10 beds            1\n",
       "Name: count, dtype: int64"
      ]
     },
     "execution_count": 17,
     "metadata": {},
     "output_type": "execute_result"
    }
   ],
   "source": [
    "df['Number of bed'].value_counts()"
   ]
  },
  {
   "cell_type": "code",
   "execution_count": 18,
   "id": "ae87765f",
   "metadata": {},
   "outputs": [
    {
     "data": {
      "application/vnd.microsoft.datawrangler.viewer.v0+json": {
       "columns": [
        {
         "name": "index",
         "rawType": "int64",
         "type": "integer"
        },
        {
         "name": "Title",
         "rawType": "object",
         "type": "string"
        },
        {
         "name": "Detail",
         "rawType": "object",
         "type": "string"
        },
        {
         "name": "Date",
         "rawType": "object",
         "type": "string"
        },
        {
         "name": "Price(in dollar)",
         "rawType": "float64",
         "type": "float"
        },
        {
         "name": "Offer price(in dollar)",
         "rawType": "float64",
         "type": "float"
        },
        {
         "name": "Review and rating",
         "rawType": "object",
         "type": "string"
        },
        {
         "name": "Number of bed",
         "rawType": "object",
         "type": "string"
        },
        {
         "name": "Rating",
         "rawType": "float64",
         "type": "float"
        },
        {
         "name": "Review",
         "rawType": "int64",
         "type": "integer"
        },
        {
         "name": "Beds",
         "rawType": "int64",
         "type": "integer"
        },
        {
         "name": "Type of bed",
         "rawType": "object",
         "type": "string"
        }
       ],
       "ref": "7a424637-5621-4cbb-b0f9-eacbbdba3e7a",
       "rows": [
        [
         "0",
         "Chalet in Skykomish, Washington, US",
         "Sky Haus - A-Frame Cabin",
         "Jun 11 - 16",
         "306.0",
         "229.0",
         "4.85 (531)",
         "4 beds",
         "4.85",
         "531",
         "4",
         "normal"
        ],
        [
         "1",
         "Cabin in Hancock, New York, US",
         "The Catskill A-Frame - Mid-Century Modern Cabin",
         "Jun 6 - 11",
         "485.0",
         "170.0",
         "4.77 (146)",
         "4 beds",
         "4.77",
         "146",
         "4",
         "normal"
        ],
        [
         "2",
         "Cabin in West Farmington, Ohio, US",
         "The Triangle: A-Frame Cabin for your city retreat",
         "Jul 9 - 14",
         "119.0",
         "522.0",
         "4.91 (515)",
         "4 beds",
         "4.91",
         "515",
         "4",
         "normal"
        ],
        [
         "3",
         "Home in Blue Ridge, Georgia, US",
         "*Summer Sizzle* 5 Min to Blue Ridge* Pets* Hot tub",
         "Jun 11 - 16",
         "192.0",
         "348.0",
         "4.94 (88)",
         "5 beds",
         "4.94",
         "88",
         "5",
         "normal"
        ],
        [
         "4",
         "Treehouse in Grandview, Texas, US",
         "Luxury Treehouse Couples Getaway w/ Peaceful Views",
         "Jun 4 - 9",
         "232.0",
         "196.0",
         "4.99 (222)",
         "1 queen bed",
         "4.99",
         "222",
         "1",
         "queen"
        ],
        [
         "5",
         "Tiny home in Puerto Escondido, Mexico",
         "Casa Tiny near Casa Wabi",
         "Jun 21 - 26",
         "261.0",
         "148.0",
         "4.84 (555)",
         "1 double bed",
         "4.84",
         "555",
         "1",
         "double"
        ],
        [
         "6",
         "Home in Saco, Maine, US",
         "The Beach House. Oceanfront & Sunrise Views!",
         "Jun 4 - 9",
         "607.0",
         "156.56",
         "4.64 (90)",
         "2 queen beds",
         "4.64",
         "90",
         "2",
         "queen"
        ],
        [
         "7",
         "Chalet in Grand Étang, Canada",
         "• Cedar Peak • 2 Bedroom Barrier-Free Chalet",
         "Jun 8 - 15",
         "381.0",
         "156.56",
         "5.0 (48)",
         "2 beds",
         "5.0",
         "48",
         "2",
         "normal"
        ],
        [
         "8",
         "Room in Mexico City, Mexico",
         "Room in apartment, traditional neighborhood",
         "Jul 3 - 8",
         "29.0",
         "156.56",
         "4.84 (58)",
         "2 beds",
         "4.84",
         "58",
         "2",
         "normal"
        ],
        [
         "9",
         "Tiny home in Sandy Valley, Nevada, US",
         "Peacock Tiny House near Las Vegas",
         "Jun 26 - Jul 1",
         "154.0",
         "156.56",
         "4.92 (744)",
         "3 beds",
         "4.92",
         "744",
         "3",
         "normal"
        ],
        [
         "10",
         "Guest suite in Huntsville, Canada",
         "Hidden Valley’s Guest Suite - explore nature",
         "Sep 4 - 10",
         "207.0",
         "156.56",
         "4.97 (265)",
         "2 beds",
         "4.97",
         "265",
         "2",
         "normal"
        ],
        [
         "11",
         "Cabin in Nelson, Canada",
         "Downey Family Cabin. Barrel Sauna Included!",
         "Jun 1 - 6",
         "162.0",
         "156.56",
         "4.99 (226)",
         "2 king beds",
         "4.99",
         "226",
         "2",
         "king"
        ],
        [
         "12",
         "Dome in Joshua Tree, California, US",
         "Dome in the Desert in Joshua Tree",
         "Jun 1 - 6",
         "268.0",
         "156.56",
         "4.94 (944)",
         "1 king bed",
         "4.94",
         "944",
         "1",
         "king"
        ],
        [
         "13",
         "Barn in Vero Beach, Florida, US",
         "Private Barn Studio at Pura Vida Florida Farm",
         "Sep 11 - 16",
         "111.0",
         "156.56",
         "4.95 (417)",
         "2 double beds",
         "4.95",
         "417",
         "2",
         "double"
        ],
        [
         "14",
         "Tiny home in Bolton, Vermont, US",
         "Cozy Tiny House Cabin between Burlington and Stowe",
         "Jun 1 - 6",
         "174.0",
         "156.56",
         "4.97 (372)",
         "2 queen beds",
         "4.97",
         "372",
         "2",
         "queen"
        ],
        [
         "15",
         "Cabin in Ucluelet, Canada",
         "Peace Cabin - private waterfront forest retreat",
         "Sep 8 - 13",
         "497.0",
         "156.56",
         "4.99 (69)",
         "1 king bed",
         "4.99",
         "69",
         "1",
         "king"
        ],
        [
         "16",
         "Barn in Essex, Canada",
         "14th Homestead Barn Loft",
         "Jun 11 - 16",
         "163.0",
         "156.56",
         "4.9 (289)",
         "1 king bed",
         "4.9",
         "289",
         "1",
         "king"
        ],
        [
         "17",
         "Apartment in Bacalar, Mexico",
         "Lagoon Front Hut: Daily Cleaning, Bikes & Kayaks!",
         "Jun 18 - 23",
         "141.0",
         "156.56",
         "4.89 (633)",
         "1 king bed",
         "4.89",
         "633",
         "1",
         "king"
        ],
        [
         "18",
         "Treehouse in Travelers Rest, South Carolina, US",
         "The Forestry House - A modern luxury treehouse.",
         "Aug 20 - 25",
         "282.0",
         "417.0",
         "New",
         "1 bed",
         "0.0",
         "0",
         "1",
         "normal"
        ],
        [
         "19",
         "Farm stay in Del Norte County, California, US",
         "Underground Hobbit Hole @ Sustainable Ecovillage",
         "Jun 9 - 14",
         "89.0",
         "253.0",
         "4.54 (195)",
         "1 bed",
         "4.54",
         "195",
         "1",
         "normal"
        ],
        [
         "20",
         "Treehouse in San Carlos, Costa Rica",
         "Rainforest Tree House with Hot Springs",
         "Aug 31 - Sep 5",
         "132.0",
         "156.56",
         "4.84 (763)",
         "3 beds",
         "4.84",
         "763",
         "3",
         "normal"
        ],
        [
         "21",
         "Treehouse in Frazeysburg, Ohio, US",
         "Tullihas in the Trees Off-Grid Treehouse",
         "Jun 4 - 9",
         "143.0",
         "156.56",
         "4.98 (181)",
         "2 beds",
         "4.98",
         "181",
         "2",
         "normal"
        ],
        [
         "22",
         "Cabin in Rodney, Canada",
         "SECLUDED LAKESIDE CABIN",
         "Jul 23 - 28",
         "463.0",
         "156.56",
         "4.99 (172)",
         "3 beds",
         "4.99",
         "172",
         "3",
         "normal"
        ],
        [
         "23",
         "Room in La Habana, Cuba",
         "Fauria Colonial House (Room 3)",
         "Jun 21 - 26",
         "29.0",
         "156.56",
         "4.92 (75)",
         "1 bed",
         "4.92",
         "75",
         "1",
         "normal"
        ],
        [
         "24",
         "Dome in Terlingua, Texas, US",
         "Domeland: Off-grid Adobe Dome near Big Bend",
         "Jul 9 - 14",
         "136.0",
         "156.56",
         "4.95 (863)",
         "5 beds",
         "4.95",
         "863",
         "5",
         "normal"
        ],
        [
         "25",
         "Home in Port Angeles, Washington, US",
         "Lake Sutherland Waterfront Cabin w/ Expansive Dock",
         "Sep 1 - 6",
         "688.0",
         "156.56",
         "4.82 (83)",
         "1 king bed",
         "4.82",
         "83",
         "1",
         "king"
        ],
        [
         "26",
         "Treehouse in Fredericksburg, Texas, US",
         "Luxury Tree House X Magical Romantic Forest! Pool!",
         "Jun 18 - 23",
         "658.0",
         "156.56",
         "4.91 (142)",
         "1 king bed",
         "4.91",
         "142",
         "1",
         "king"
        ],
        [
         "27",
         "Cottage in Harcourt, Canada",
         "Scandinavian-Inspired Tiny Home Experience",
         "Sep 3 - 8",
         "392.0",
         "156.56",
         "4.98 (95)",
         "2 beds",
         "4.98",
         "95",
         "2",
         "normal"
        ],
        [
         "28",
         "Tiny home in Medellín, Colombia",
         "Tiny House Cubo Nube Santa Elena 40 min. Medellin.",
         "Jun 17 - 22",
         "67.0",
         "156.56",
         "4.95 (197)",
         "1 queen bed",
         "4.95",
         "197",
         "1",
         "queen"
        ],
        [
         "29",
         "Cabin in Medellín, Colombia",
         "Chalet Boutique Saltamontes Santa Elena",
         "Jun 4 - 9",
         "51.0",
         "156.56",
         "4.94 (232)",
         "2 beds",
         "4.94",
         "232",
         "2",
         "normal"
        ],
        [
         "30",
         "Cabin in Bryson City, North Carolina, US",
         "Secluded View! A-Frame Hot Tub and Fire Pit",
         "Jun 19 - 24",
         "354.0",
         "156.56",
         "4.95 (20)",
         "1 queen bed",
         "4.95",
         "20",
         "1",
         "queen"
        ],
        [
         "31",
         "Place to stay in Retiro, Colombia",
         "★ BubbleSky Glamping ★ One Night Under Stars ★3",
         "Jun 23 - 28",
         "107.0",
         "156.56",
         "4.9 (154)",
         "2 king beds",
         "4.9",
         "154",
         "2",
         "king"
        ],
        [
         "32",
         "Cabin in Bluefields, Jamaica",
         "Cozy Oceanview Cabin",
         "Jul 14 - 21",
         "102.0",
         "156.56",
         "4.88 (76)",
         "1 king bed",
         "4.88",
         "76",
         "1",
         "king"
        ],
        [
         "33",
         "Hut in Bavaro, Dominican Republic",
         "Hut #1 Romantic Luxury Beachfront",
         "Jul 1 - 6",
         "171.0",
         "156.56",
         "4.89 (377)",
         "2 beds",
         "4.89",
         "377",
         "2",
         "normal"
        ],
        [
         "34",
         "Treehouse in Marion, North Carolina, US",
         "Treehouse w/Breathtaking Views+HotTub+Hiking+Falls",
         "Aug 12 - 17",
         "286.0",
         "156.56",
         "5.0 (21)",
         "1 queen bed",
         "5.0",
         "21",
         "1",
         "queen"
        ],
        [
         "35",
         "Dome in Sandgate, Vermont, US",
         "“Whimsical Stone Abode” - Boston Magazine",
         "Jun 6 - 11",
         "301.0",
         "156.56",
         "5.0 (244)",
         "1 queen bed",
         "5.0",
         "244",
         "1",
         "queen"
        ],
        [
         "36",
         "Condo in Puerto Vallarta, Mexico",
         "Buddha Loft in Romantic Zone of Puerto Vallarta",
         "Jul 12 - 17",
         "112.0",
         "146.0",
         "4.85 (175)",
         "1 bed",
         "4.85",
         "175",
         "1",
         "normal"
        ],
        [
         "37",
         "Cabin in Sanbornton, New Hampshire, US",
         "The G Frame...an offGrid Cabin + woodstove sauna",
         "Jun 4 - 9",
         "169.0",
         "1089.0",
         "4.96 (395)",
         "2 king beds",
         "4.96",
         "395",
         "2",
         "king"
        ],
        [
         "38",
         "Room in La Habana, Cuba",
         "Casa Blanca B&B with beautiful terrace &sea views",
         "Sep 11 - 16",
         "43.0",
         "630.0",
         "4.82 (359)",
         "2 king beds",
         "4.82",
         "359",
         "2",
         "king"
        ],
        [
         "39",
         "Home in Moss Beach, California, US",
         "Walk to the Beach from this Ocean Front Home",
         "Jun 1 - 6",
         "1463.0",
         "225.0",
         "4.94 (149)",
         "9 beds",
         "4.94",
         "149",
         "9",
         "normal"
        ],
        [
         "40",
         "Cottage in Wheatley, Canada",
         "Cozy Modern Beach House w/ Pool, Hot Tub & More!",
         "Jun 4 - 11",
         "764.0",
         "819.0",
         "4.74 (19)",
         "2 queen beds",
         "4.74",
         "19",
         "2",
         "queen"
        ],
        [
         "41",
         "Cabin in Topanga, California, US",
         "Crystal Cabin, Restored Vintage Lodge in Topanga State Park",
         "Jun 3 - 8",
         "225.0",
         "156.56",
         "4.94 (209)",
         "1 double bed",
         "4.94",
         "209",
         "1",
         "double"
        ],
        [
         "42",
         "Chalet in Cajicá, Colombia",
         "Casa Anís",
         "Jun 1 - 6",
         "40.0",
         "156.56",
         "4.96 (202)",
         "3 beds",
         "4.96",
         "202",
         "3",
         "normal"
        ],
        [
         "43",
         "Cabin in Center Conway, New Hampshire, US",
         "Warm Pine A-frame Nestled In The Trees!",
         "Jul 1 - 6",
         "287.0",
         "156.56",
         "4.79 (536)",
         "1 double bed",
         "4.79",
         "536",
         "1",
         "double"
        ],
        [
         "44",
         "Cottage in Renous, Canada",
         "Hambrook Point Cottage “Homestead”",
         "Jun 25 - 30",
         "93.0",
         "156.56",
         "4.87 (360)",
         "3 beds",
         "4.87",
         "360",
         "3",
         "normal"
        ],
        [
         "45",
         "Tiny home in Huntsville, Missouri, US",
         "O’s Barn Cabin",
         "Jul 4 - 9",
         "118.0",
         "156.56",
         "4.94 (296)",
         "2 double beds",
         "4.94",
         "296",
         "2",
         "double"
        ],
        [
         "46",
         "Tiny home in Castleton, Canada",
         "Artsy \"Glamping\" experience",
         "Jul 21 - 26",
         "138.0",
         "156.56",
         "4.91 (278)",
         "3 beds",
         "4.91",
         "278",
         "3",
         "normal"
        ],
        [
         "47",
         "Cottage in Bodega Bay, California, US",
         "Seamist Beach Cottage, Private Beach & Ocean views",
         "Aug 13 - 18",
         "670.0",
         "156.56",
         "4.7 (256)",
         "2 beds",
         "4.7",
         "256",
         "2",
         "normal"
        ],
        [
         "48",
         "Cabin in Rocky View County, Canada",
         "100+ Year old Rustic Log Cabin near Ghost Lake",
         "Aug 25 - 30",
         "135.0",
         "156.56",
         "4.83 (459)",
         "1 sofa bed",
         "4.83",
         "459",
         "1",
         "sofa"
        ],
        [
         "49",
         "Houseboat in Low, Canada",
         "The Dragon + Private Island",
         "Jun 1 - 6",
         "178.0",
         "156.56",
         "4.87 (61)",
         "1 queen bed",
         "4.87",
         "61",
         "1",
         "queen"
        ]
       ],
       "shape": {
        "columns": 11,
        "rows": 947
       }
      },
      "text/html": [
       "<div>\n",
       "<style scoped>\n",
       "    .dataframe tbody tr th:only-of-type {\n",
       "        vertical-align: middle;\n",
       "    }\n",
       "\n",
       "    .dataframe tbody tr th {\n",
       "        vertical-align: top;\n",
       "    }\n",
       "\n",
       "    .dataframe thead th {\n",
       "        text-align: right;\n",
       "    }\n",
       "</style>\n",
       "<table border=\"1\" class=\"dataframe\">\n",
       "  <thead>\n",
       "    <tr style=\"text-align: right;\">\n",
       "      <th></th>\n",
       "      <th>Title</th>\n",
       "      <th>Detail</th>\n",
       "      <th>Date</th>\n",
       "      <th>Price(in dollar)</th>\n",
       "      <th>Offer price(in dollar)</th>\n",
       "      <th>Review and rating</th>\n",
       "      <th>Number of bed</th>\n",
       "      <th>Rating</th>\n",
       "      <th>Review</th>\n",
       "      <th>Beds</th>\n",
       "      <th>Type of bed</th>\n",
       "    </tr>\n",
       "  </thead>\n",
       "  <tbody>\n",
       "    <tr>\n",
       "      <th>0</th>\n",
       "      <td>Chalet in Skykomish, Washington, US</td>\n",
       "      <td>Sky Haus - A-Frame Cabin</td>\n",
       "      <td>Jun 11 - 16</td>\n",
       "      <td>306.0</td>\n",
       "      <td>229.00</td>\n",
       "      <td>4.85 (531)</td>\n",
       "      <td>4 beds</td>\n",
       "      <td>4.85</td>\n",
       "      <td>531</td>\n",
       "      <td>4</td>\n",
       "      <td>normal</td>\n",
       "    </tr>\n",
       "    <tr>\n",
       "      <th>1</th>\n",
       "      <td>Cabin in Hancock, New York, US</td>\n",
       "      <td>The Catskill A-Frame - Mid-Century Modern Cabin</td>\n",
       "      <td>Jun 6 - 11</td>\n",
       "      <td>485.0</td>\n",
       "      <td>170.00</td>\n",
       "      <td>4.77 (146)</td>\n",
       "      <td>4 beds</td>\n",
       "      <td>4.77</td>\n",
       "      <td>146</td>\n",
       "      <td>4</td>\n",
       "      <td>normal</td>\n",
       "    </tr>\n",
       "    <tr>\n",
       "      <th>2</th>\n",
       "      <td>Cabin in West Farmington, Ohio, US</td>\n",
       "      <td>The Triangle: A-Frame Cabin for your city retreat</td>\n",
       "      <td>Jul 9 - 14</td>\n",
       "      <td>119.0</td>\n",
       "      <td>522.00</td>\n",
       "      <td>4.91 (515)</td>\n",
       "      <td>4 beds</td>\n",
       "      <td>4.91</td>\n",
       "      <td>515</td>\n",
       "      <td>4</td>\n",
       "      <td>normal</td>\n",
       "    </tr>\n",
       "    <tr>\n",
       "      <th>3</th>\n",
       "      <td>Home in Blue Ridge, Georgia, US</td>\n",
       "      <td>*Summer Sizzle* 5 Min to Blue Ridge* Pets* Hot...</td>\n",
       "      <td>Jun 11 - 16</td>\n",
       "      <td>192.0</td>\n",
       "      <td>348.00</td>\n",
       "      <td>4.94 (88)</td>\n",
       "      <td>5 beds</td>\n",
       "      <td>4.94</td>\n",
       "      <td>88</td>\n",
       "      <td>5</td>\n",
       "      <td>normal</td>\n",
       "    </tr>\n",
       "    <tr>\n",
       "      <th>4</th>\n",
       "      <td>Treehouse in Grandview, Texas, US</td>\n",
       "      <td>Luxury Treehouse Couples Getaway w/ Peaceful V...</td>\n",
       "      <td>Jun 4 - 9</td>\n",
       "      <td>232.0</td>\n",
       "      <td>196.00</td>\n",
       "      <td>4.99 (222)</td>\n",
       "      <td>1 queen bed</td>\n",
       "      <td>4.99</td>\n",
       "      <td>222</td>\n",
       "      <td>1</td>\n",
       "      <td>queen</td>\n",
       "    </tr>\n",
       "    <tr>\n",
       "      <th>...</th>\n",
       "      <td>...</td>\n",
       "      <td>...</td>\n",
       "      <td>...</td>\n",
       "      <td>...</td>\n",
       "      <td>...</td>\n",
       "      <td>...</td>\n",
       "      <td>...</td>\n",
       "      <td>...</td>\n",
       "      <td>...</td>\n",
       "      <td>...</td>\n",
       "      <td>...</td>\n",
       "    </tr>\n",
       "    <tr>\n",
       "      <th>948</th>\n",
       "      <td>Guest suite in Lake Worth</td>\n",
       "      <td>The Garden Suite at the Historic Chateau Bleu</td>\n",
       "      <td>May 1 - 6</td>\n",
       "      <td>141.0</td>\n",
       "      <td>156.56</td>\n",
       "      <td>4.85 (82)</td>\n",
       "      <td>1 king bed</td>\n",
       "      <td>4.85</td>\n",
       "      <td>82</td>\n",
       "      <td>1</td>\n",
       "      <td>king</td>\n",
       "    </tr>\n",
       "    <tr>\n",
       "      <th>949</th>\n",
       "      <td>Room in Kissimmee</td>\n",
       "      <td>Private Room in Orlando/Kissimmee (2Twins) T1</td>\n",
       "      <td>May 1 - 6</td>\n",
       "      <td>43.0</td>\n",
       "      <td>156.56</td>\n",
       "      <td>4.9 (300)</td>\n",
       "      <td>1 king bed</td>\n",
       "      <td>4.90</td>\n",
       "      <td>300</td>\n",
       "      <td>1</td>\n",
       "      <td>king</td>\n",
       "    </tr>\n",
       "    <tr>\n",
       "      <th>950</th>\n",
       "      <td>Guesthouse in San Antonio</td>\n",
       "      <td>Casa Alexander</td>\n",
       "      <td>May 1 - 6</td>\n",
       "      <td>73.0</td>\n",
       "      <td>156.56</td>\n",
       "      <td>4.92 (282)</td>\n",
       "      <td>5 beds</td>\n",
       "      <td>4.92</td>\n",
       "      <td>282</td>\n",
       "      <td>5</td>\n",
       "      <td>normal</td>\n",
       "    </tr>\n",
       "    <tr>\n",
       "      <th>951</th>\n",
       "      <td>Apartment in Englewood</td>\n",
       "      <td>BEACH FRONT Unit w/ Pool Sandy Toe's # 5</td>\n",
       "      <td>May 7 - 12</td>\n",
       "      <td>233.0</td>\n",
       "      <td>156.56</td>\n",
       "      <td>4.96 (318)</td>\n",
       "      <td>4 beds</td>\n",
       "      <td>4.96</td>\n",
       "      <td>318</td>\n",
       "      <td>4</td>\n",
       "      <td>normal</td>\n",
       "    </tr>\n",
       "    <tr>\n",
       "      <th>952</th>\n",
       "      <td>Room in Long Beach</td>\n",
       "      <td>Across the Street from Beach Getaway/Near Conv...</td>\n",
       "      <td>May 1 - 6</td>\n",
       "      <td>106.0</td>\n",
       "      <td>156.56</td>\n",
       "      <td>4.85 (97)</td>\n",
       "      <td>4 beds</td>\n",
       "      <td>4.85</td>\n",
       "      <td>97</td>\n",
       "      <td>4</td>\n",
       "      <td>normal</td>\n",
       "    </tr>\n",
       "  </tbody>\n",
       "</table>\n",
       "<p>947 rows × 11 columns</p>\n",
       "</div>"
      ],
      "text/plain": [
       "                                   Title  \\\n",
       "0    Chalet in Skykomish, Washington, US   \n",
       "1         Cabin in Hancock, New York, US   \n",
       "2     Cabin in West Farmington, Ohio, US   \n",
       "3        Home in Blue Ridge, Georgia, US   \n",
       "4      Treehouse in Grandview, Texas, US   \n",
       "..                                   ...   \n",
       "948            Guest suite in Lake Worth   \n",
       "949                    Room in Kissimmee   \n",
       "950            Guesthouse in San Antonio   \n",
       "951               Apartment in Englewood   \n",
       "952                   Room in Long Beach   \n",
       "\n",
       "                                                Detail         Date  \\\n",
       "0                             Sky Haus - A-Frame Cabin  Jun 11 - 16   \n",
       "1      The Catskill A-Frame - Mid-Century Modern Cabin   Jun 6 - 11   \n",
       "2    The Triangle: A-Frame Cabin for your city retreat   Jul 9 - 14   \n",
       "3    *Summer Sizzle* 5 Min to Blue Ridge* Pets* Hot...  Jun 11 - 16   \n",
       "4    Luxury Treehouse Couples Getaway w/ Peaceful V...    Jun 4 - 9   \n",
       "..                                                 ...          ...   \n",
       "948      The Garden Suite at the Historic Chateau Bleu    May 1 - 6   \n",
       "949      Private Room in Orlando/Kissimmee (2Twins) T1    May 1 - 6   \n",
       "950                                     Casa Alexander    May 1 - 6   \n",
       "951           BEACH FRONT Unit w/ Pool Sandy Toe's # 5   May 7 - 12   \n",
       "952  Across the Street from Beach Getaway/Near Conv...    May 1 - 6   \n",
       "\n",
       "     Price(in dollar)  Offer price(in dollar) Review and rating Number of bed  \\\n",
       "0               306.0                  229.00        4.85 (531)        4 beds   \n",
       "1               485.0                  170.00        4.77 (146)        4 beds   \n",
       "2               119.0                  522.00        4.91 (515)        4 beds   \n",
       "3               192.0                  348.00         4.94 (88)        5 beds   \n",
       "4               232.0                  196.00        4.99 (222)   1 queen bed   \n",
       "..                ...                     ...               ...           ...   \n",
       "948             141.0                  156.56         4.85 (82)    1 king bed   \n",
       "949              43.0                  156.56         4.9 (300)    1 king bed   \n",
       "950              73.0                  156.56        4.92 (282)        5 beds   \n",
       "951             233.0                  156.56        4.96 (318)        4 beds   \n",
       "952             106.0                  156.56         4.85 (97)        4 beds   \n",
       "\n",
       "     Rating  Review  Beds Type of bed  \n",
       "0      4.85     531     4      normal  \n",
       "1      4.77     146     4      normal  \n",
       "2      4.91     515     4      normal  \n",
       "3      4.94      88     5      normal  \n",
       "4      4.99     222     1       queen  \n",
       "..      ...     ...   ...         ...  \n",
       "948    4.85      82     1        king  \n",
       "949    4.90     300     1        king  \n",
       "950    4.92     282     5      normal  \n",
       "951    4.96     318     4      normal  \n",
       "952    4.85      97     4      normal  \n",
       "\n",
       "[947 rows x 11 columns]"
      ]
     },
     "execution_count": 18,
     "metadata": {},
     "output_type": "execute_result"
    }
   ],
   "source": [
    "df[['Beds', 'Type of bed']] = df['Number of bed'].str.extract(r'(\\d+)\\s*([a-zA-Z ]+)')\n",
    "\n",
    "df['Beds'] = df['Beds'].astype(int)\n",
    "\n",
    "df['Type of bed'] = df['Type of bed'].str.strip().str.lower()\n",
    "\n",
    "df['Type of bed'] = df['Type of bed'].replace({\n",
    "    'beds': 'normal',\n",
    "    'bed': 'normal',\n",
    "    'queen bed': 'queen',\n",
    "    'queen beds': 'queen',\n",
    "    'king bed': 'king',\n",
    "    'king beds': 'king',\n",
    "    'double bed': 'double',\n",
    "    'double beds': 'double',\n",
    "    'sofa bed': 'sofa',\n",
    "    'sofa beds': 'sofa',\n",
    "    'single bed': 'single',\n",
    "    'single beds': 'single',\n",
    "    'bunk bed': 'bunk',\n",
    "    'bunk beds': 'bunk',\n",
    "})\n",
    "\n",
    "df"
   ]
  },
  {
   "cell_type": "code",
   "execution_count": 19,
   "id": "0baa0465",
   "metadata": {},
   "outputs": [
    {
     "data": {
      "application/vnd.microsoft.datawrangler.viewer.v0+json": {
       "columns": [
        {
         "name": "index",
         "rawType": "int64",
         "type": "integer"
        },
        {
         "name": "Date",
         "rawType": "object",
         "type": "string"
        },
        {
         "name": "Date formatted",
         "rawType": "object",
         "type": "string"
        }
       ],
       "ref": "bd032974-aa64-4a94-b39d-cf53f545bea9",
       "rows": [
        [
         "0",
         "Jun 11 - 16",
         "11 - 16 Jun, 2023"
        ],
        [
         "1",
         "Jun 6 - 11",
         "6 - 11 Jun, 2023"
        ],
        [
         "2",
         "Jul 9 - 14",
         "9 - 14 Jul, 2023"
        ],
        [
         "3",
         "Jun 11 - 16",
         "11 - 16 Jun, 2023"
        ],
        [
         "4",
         "Jun 4 - 9",
         "4 - 9 Jun, 2023"
        ]
       ],
       "shape": {
        "columns": 2,
        "rows": 5
       }
      },
      "text/html": [
       "<div>\n",
       "<style scoped>\n",
       "    .dataframe tbody tr th:only-of-type {\n",
       "        vertical-align: middle;\n",
       "    }\n",
       "\n",
       "    .dataframe tbody tr th {\n",
       "        vertical-align: top;\n",
       "    }\n",
       "\n",
       "    .dataframe thead th {\n",
       "        text-align: right;\n",
       "    }\n",
       "</style>\n",
       "<table border=\"1\" class=\"dataframe\">\n",
       "  <thead>\n",
       "    <tr style=\"text-align: right;\">\n",
       "      <th></th>\n",
       "      <th>Date</th>\n",
       "      <th>Date formatted</th>\n",
       "    </tr>\n",
       "  </thead>\n",
       "  <tbody>\n",
       "    <tr>\n",
       "      <th>0</th>\n",
       "      <td>Jun 11 - 16</td>\n",
       "      <td>11 - 16 Jun, 2023</td>\n",
       "    </tr>\n",
       "    <tr>\n",
       "      <th>1</th>\n",
       "      <td>Jun 6 - 11</td>\n",
       "      <td>6 - 11 Jun, 2023</td>\n",
       "    </tr>\n",
       "    <tr>\n",
       "      <th>2</th>\n",
       "      <td>Jul 9 - 14</td>\n",
       "      <td>9 - 14 Jul, 2023</td>\n",
       "    </tr>\n",
       "    <tr>\n",
       "      <th>3</th>\n",
       "      <td>Jun 11 - 16</td>\n",
       "      <td>11 - 16 Jun, 2023</td>\n",
       "    </tr>\n",
       "    <tr>\n",
       "      <th>4</th>\n",
       "      <td>Jun 4 - 9</td>\n",
       "      <td>4 - 9 Jun, 2023</td>\n",
       "    </tr>\n",
       "  </tbody>\n",
       "</table>\n",
       "</div>"
      ],
      "text/plain": [
       "          Date     Date formatted\n",
       "0  Jun 11 - 16  11 - 16 Jun, 2023\n",
       "1   Jun 6 - 11   6 - 11 Jun, 2023\n",
       "2   Jul 9 - 14   9 - 14 Jul, 2023\n",
       "3  Jun 11 - 16  11 - 16 Jun, 2023\n",
       "4    Jun 4 - 9    4 - 9 Jun, 2023"
      ]
     },
     "execution_count": 19,
     "metadata": {},
     "output_type": "execute_result"
    }
   ],
   "source": [
    "import re\n",
    "\n",
    "def format_date_range(date_str):\n",
    "    year = 2023\n",
    "    # Pattern: \"Jun 11 - 16\"\n",
    "    m1 = re.match(r'([A-Za-z]+)\\s+(\\d+)\\s*-\\s*(\\d+)$', date_str)\n",
    "    # Pattern: \"Jun 26 - Jul 1\"\n",
    "    m2 = re.match(r'([A-Za-z]+)\\s+(\\d+)\\s*-\\s*([A-Za-z]+)\\s+(\\d+)$', date_str)\n",
    "    if m1:\n",
    "        month = m1.group(1)\n",
    "        start_day = m1.group(2)\n",
    "        end_day = m1.group(3)\n",
    "        return f\"{start_day} - {end_day} {month}, {year}\"\n",
    "    elif m2:\n",
    "        start_month = m2.group(1)\n",
    "        start_day = m2.group(2)\n",
    "        end_month = m2.group(3)\n",
    "        end_day = m2.group(4)\n",
    "        return f\"{start_day} {start_month} - {end_day} {end_month}, {year}\"\n",
    "    else:\n",
    "        return date_str  # fallback\n",
    "\n",
    "df['Date formatted'] = df['Date'].apply(format_date_range)\n",
    "df[['Date', 'Date formatted']].head()"
   ]
  },
  {
   "cell_type": "code",
   "execution_count": 20,
   "id": "a2980f8b",
   "metadata": {},
   "outputs": [
    {
     "data": {
      "text/plain": [
       "Index(['Title', 'Detail', 'Date', 'Price(in dollar)', 'Offer price(in dollar)',\n",
       "       'Review and rating', 'Number of bed', 'Rating', 'Review', 'Beds',\n",
       "       'Type of bed', 'Date formatted'],\n",
       "      dtype='object')"
      ]
     },
     "execution_count": 20,
     "metadata": {},
     "output_type": "execute_result"
    }
   ],
   "source": [
    "df.columns"
   ]
  },
  {
   "cell_type": "code",
   "execution_count": 21,
   "id": "38dbdd3f",
   "metadata": {},
   "outputs": [
    {
     "data": {
      "application/vnd.microsoft.datawrangler.viewer.v0+json": {
       "columns": [
        {
         "name": "index",
         "rawType": "int64",
         "type": "integer"
        },
        {
         "name": "Title",
         "rawType": "object",
         "type": "string"
        },
        {
         "name": "Detail",
         "rawType": "object",
         "type": "string"
        },
        {
         "name": "Price",
         "rawType": "float64",
         "type": "float"
        },
        {
         "name": "Offer price",
         "rawType": "float64",
         "type": "float"
        },
        {
         "name": "Rating",
         "rawType": "float64",
         "type": "float"
        },
        {
         "name": "Review",
         "rawType": "int64",
         "type": "integer"
        },
        {
         "name": "Number of Beds",
         "rawType": "int64",
         "type": "integer"
        },
        {
         "name": "Type of bed",
         "rawType": "object",
         "type": "string"
        },
        {
         "name": "Date",
         "rawType": "object",
         "type": "string"
        }
       ],
       "ref": "dc4f93cb-298e-4a36-b52e-032188735dd5",
       "rows": [
        [
         "0",
         "Chalet in Skykomish, Washington, US",
         "Sky Haus - A-Frame Cabin",
         "306.0",
         "229.0",
         "4.85",
         "531",
         "4",
         "normal",
         "11 - 16 Jun, 2023"
        ],
        [
         "1",
         "Cabin in Hancock, New York, US",
         "The Catskill A-Frame - Mid-Century Modern Cabin",
         "485.0",
         "170.0",
         "4.77",
         "146",
         "4",
         "normal",
         "6 - 11 Jun, 2023"
        ],
        [
         "2",
         "Cabin in West Farmington, Ohio, US",
         "The Triangle: A-Frame Cabin for your city retreat",
         "119.0",
         "522.0",
         "4.91",
         "515",
         "4",
         "normal",
         "9 - 14 Jul, 2023"
        ],
        [
         "3",
         "Home in Blue Ridge, Georgia, US",
         "*Summer Sizzle* 5 Min to Blue Ridge* Pets* Hot tub",
         "192.0",
         "348.0",
         "4.94",
         "88",
         "5",
         "normal",
         "11 - 16 Jun, 2023"
        ],
        [
         "4",
         "Treehouse in Grandview, Texas, US",
         "Luxury Treehouse Couples Getaway w/ Peaceful Views",
         "232.0",
         "196.0",
         "4.99",
         "222",
         "1",
         "queen",
         "4 - 9 Jun, 2023"
        ],
        [
         "5",
         "Tiny home in Puerto Escondido, Mexico",
         "Casa Tiny near Casa Wabi",
         "261.0",
         "148.0",
         "4.84",
         "555",
         "1",
         "double",
         "21 - 26 Jun, 2023"
        ],
        [
         "6",
         "Home in Saco, Maine, US",
         "The Beach House. Oceanfront & Sunrise Views!",
         "607.0",
         "156.56",
         "4.64",
         "90",
         "2",
         "queen",
         "4 - 9 Jun, 2023"
        ],
        [
         "7",
         "Chalet in Grand Étang, Canada",
         "• Cedar Peak • 2 Bedroom Barrier-Free Chalet",
         "381.0",
         "156.56",
         "5.0",
         "48",
         "2",
         "normal",
         "8 - 15 Jun, 2023"
        ],
        [
         "8",
         "Room in Mexico City, Mexico",
         "Room in apartment, traditional neighborhood",
         "29.0",
         "156.56",
         "4.84",
         "58",
         "2",
         "normal",
         "3 - 8 Jul, 2023"
        ],
        [
         "9",
         "Tiny home in Sandy Valley, Nevada, US",
         "Peacock Tiny House near Las Vegas",
         "154.0",
         "156.56",
         "4.92",
         "744",
         "3",
         "normal",
         "26 Jun - 1 Jul, 2023"
        ],
        [
         "10",
         "Guest suite in Huntsville, Canada",
         "Hidden Valley’s Guest Suite - explore nature",
         "207.0",
         "156.56",
         "4.97",
         "265",
         "2",
         "normal",
         "4 - 10 Sep, 2023"
        ],
        [
         "11",
         "Cabin in Nelson, Canada",
         "Downey Family Cabin. Barrel Sauna Included!",
         "162.0",
         "156.56",
         "4.99",
         "226",
         "2",
         "king",
         "1 - 6 Jun, 2023"
        ],
        [
         "12",
         "Dome in Joshua Tree, California, US",
         "Dome in the Desert in Joshua Tree",
         "268.0",
         "156.56",
         "4.94",
         "944",
         "1",
         "king",
         "1 - 6 Jun, 2023"
        ],
        [
         "13",
         "Barn in Vero Beach, Florida, US",
         "Private Barn Studio at Pura Vida Florida Farm",
         "111.0",
         "156.56",
         "4.95",
         "417",
         "2",
         "double",
         "11 - 16 Sep, 2023"
        ],
        [
         "14",
         "Tiny home in Bolton, Vermont, US",
         "Cozy Tiny House Cabin between Burlington and Stowe",
         "174.0",
         "156.56",
         "4.97",
         "372",
         "2",
         "queen",
         "1 - 6 Jun, 2023"
        ],
        [
         "15",
         "Cabin in Ucluelet, Canada",
         "Peace Cabin - private waterfront forest retreat",
         "497.0",
         "156.56",
         "4.99",
         "69",
         "1",
         "king",
         "8 - 13 Sep, 2023"
        ],
        [
         "16",
         "Barn in Essex, Canada",
         "14th Homestead Barn Loft",
         "163.0",
         "156.56",
         "4.9",
         "289",
         "1",
         "king",
         "11 - 16 Jun, 2023"
        ],
        [
         "17",
         "Apartment in Bacalar, Mexico",
         "Lagoon Front Hut: Daily Cleaning, Bikes & Kayaks!",
         "141.0",
         "156.56",
         "4.89",
         "633",
         "1",
         "king",
         "18 - 23 Jun, 2023"
        ],
        [
         "18",
         "Treehouse in Travelers Rest, South Carolina, US",
         "The Forestry House - A modern luxury treehouse.",
         "282.0",
         "417.0",
         "0.0",
         "0",
         "1",
         "normal",
         "20 - 25 Aug, 2023"
        ],
        [
         "19",
         "Farm stay in Del Norte County, California, US",
         "Underground Hobbit Hole @ Sustainable Ecovillage",
         "89.0",
         "253.0",
         "4.54",
         "195",
         "1",
         "normal",
         "9 - 14 Jun, 2023"
        ],
        [
         "20",
         "Treehouse in San Carlos, Costa Rica",
         "Rainforest Tree House with Hot Springs",
         "132.0",
         "156.56",
         "4.84",
         "763",
         "3",
         "normal",
         "31 Aug - 5 Sep, 2023"
        ],
        [
         "21",
         "Treehouse in Frazeysburg, Ohio, US",
         "Tullihas in the Trees Off-Grid Treehouse",
         "143.0",
         "156.56",
         "4.98",
         "181",
         "2",
         "normal",
         "4 - 9 Jun, 2023"
        ],
        [
         "22",
         "Cabin in Rodney, Canada",
         "SECLUDED LAKESIDE CABIN",
         "463.0",
         "156.56",
         "4.99",
         "172",
         "3",
         "normal",
         "23 - 28 Jul, 2023"
        ],
        [
         "23",
         "Room in La Habana, Cuba",
         "Fauria Colonial House (Room 3)",
         "29.0",
         "156.56",
         "4.92",
         "75",
         "1",
         "normal",
         "21 - 26 Jun, 2023"
        ],
        [
         "24",
         "Dome in Terlingua, Texas, US",
         "Domeland: Off-grid Adobe Dome near Big Bend",
         "136.0",
         "156.56",
         "4.95",
         "863",
         "5",
         "normal",
         "9 - 14 Jul, 2023"
        ],
        [
         "25",
         "Home in Port Angeles, Washington, US",
         "Lake Sutherland Waterfront Cabin w/ Expansive Dock",
         "688.0",
         "156.56",
         "4.82",
         "83",
         "1",
         "king",
         "1 - 6 Sep, 2023"
        ],
        [
         "26",
         "Treehouse in Fredericksburg, Texas, US",
         "Luxury Tree House X Magical Romantic Forest! Pool!",
         "658.0",
         "156.56",
         "4.91",
         "142",
         "1",
         "king",
         "18 - 23 Jun, 2023"
        ],
        [
         "27",
         "Cottage in Harcourt, Canada",
         "Scandinavian-Inspired Tiny Home Experience",
         "392.0",
         "156.56",
         "4.98",
         "95",
         "2",
         "normal",
         "3 - 8 Sep, 2023"
        ],
        [
         "28",
         "Tiny home in Medellín, Colombia",
         "Tiny House Cubo Nube Santa Elena 40 min. Medellin.",
         "67.0",
         "156.56",
         "4.95",
         "197",
         "1",
         "queen",
         "17 - 22 Jun, 2023"
        ],
        [
         "29",
         "Cabin in Medellín, Colombia",
         "Chalet Boutique Saltamontes Santa Elena",
         "51.0",
         "156.56",
         "4.94",
         "232",
         "2",
         "normal",
         "4 - 9 Jun, 2023"
        ],
        [
         "30",
         "Cabin in Bryson City, North Carolina, US",
         "Secluded View! A-Frame Hot Tub and Fire Pit",
         "354.0",
         "156.56",
         "4.95",
         "20",
         "1",
         "queen",
         "19 - 24 Jun, 2023"
        ],
        [
         "31",
         "Place to stay in Retiro, Colombia",
         "★ BubbleSky Glamping ★ One Night Under Stars ★3",
         "107.0",
         "156.56",
         "4.9",
         "154",
         "2",
         "king",
         "23 - 28 Jun, 2023"
        ],
        [
         "32",
         "Cabin in Bluefields, Jamaica",
         "Cozy Oceanview Cabin",
         "102.0",
         "156.56",
         "4.88",
         "76",
         "1",
         "king",
         "14 - 21 Jul, 2023"
        ],
        [
         "33",
         "Hut in Bavaro, Dominican Republic",
         "Hut #1 Romantic Luxury Beachfront",
         "171.0",
         "156.56",
         "4.89",
         "377",
         "2",
         "normal",
         "1 - 6 Jul, 2023"
        ],
        [
         "34",
         "Treehouse in Marion, North Carolina, US",
         "Treehouse w/Breathtaking Views+HotTub+Hiking+Falls",
         "286.0",
         "156.56",
         "5.0",
         "21",
         "1",
         "queen",
         "12 - 17 Aug, 2023"
        ],
        [
         "35",
         "Dome in Sandgate, Vermont, US",
         "“Whimsical Stone Abode” - Boston Magazine",
         "301.0",
         "156.56",
         "5.0",
         "244",
         "1",
         "queen",
         "6 - 11 Jun, 2023"
        ],
        [
         "36",
         "Condo in Puerto Vallarta, Mexico",
         "Buddha Loft in Romantic Zone of Puerto Vallarta",
         "112.0",
         "146.0",
         "4.85",
         "175",
         "1",
         "normal",
         "12 - 17 Jul, 2023"
        ],
        [
         "37",
         "Cabin in Sanbornton, New Hampshire, US",
         "The G Frame...an offGrid Cabin + woodstove sauna",
         "169.0",
         "1089.0",
         "4.96",
         "395",
         "2",
         "king",
         "4 - 9 Jun, 2023"
        ],
        [
         "38",
         "Room in La Habana, Cuba",
         "Casa Blanca B&B with beautiful terrace &sea views",
         "43.0",
         "630.0",
         "4.82",
         "359",
         "2",
         "king",
         "11 - 16 Sep, 2023"
        ],
        [
         "39",
         "Home in Moss Beach, California, US",
         "Walk to the Beach from this Ocean Front Home",
         "1463.0",
         "225.0",
         "4.94",
         "149",
         "9",
         "normal",
         "1 - 6 Jun, 2023"
        ],
        [
         "40",
         "Cottage in Wheatley, Canada",
         "Cozy Modern Beach House w/ Pool, Hot Tub & More!",
         "764.0",
         "819.0",
         "4.74",
         "19",
         "2",
         "queen",
         "4 - 11 Jun, 2023"
        ],
        [
         "41",
         "Cabin in Topanga, California, US",
         "Crystal Cabin, Restored Vintage Lodge in Topanga State Park",
         "225.0",
         "156.56",
         "4.94",
         "209",
         "1",
         "double",
         "3 - 8 Jun, 2023"
        ],
        [
         "42",
         "Chalet in Cajicá, Colombia",
         "Casa Anís",
         "40.0",
         "156.56",
         "4.96",
         "202",
         "3",
         "normal",
         "1 - 6 Jun, 2023"
        ],
        [
         "43",
         "Cabin in Center Conway, New Hampshire, US",
         "Warm Pine A-frame Nestled In The Trees!",
         "287.0",
         "156.56",
         "4.79",
         "536",
         "1",
         "double",
         "1 - 6 Jul, 2023"
        ],
        [
         "44",
         "Cottage in Renous, Canada",
         "Hambrook Point Cottage “Homestead”",
         "93.0",
         "156.56",
         "4.87",
         "360",
         "3",
         "normal",
         "25 - 30 Jun, 2023"
        ],
        [
         "45",
         "Tiny home in Huntsville, Missouri, US",
         "O’s Barn Cabin",
         "118.0",
         "156.56",
         "4.94",
         "296",
         "2",
         "double",
         "4 - 9 Jul, 2023"
        ],
        [
         "46",
         "Tiny home in Castleton, Canada",
         "Artsy \"Glamping\" experience",
         "138.0",
         "156.56",
         "4.91",
         "278",
         "3",
         "normal",
         "21 - 26 Jul, 2023"
        ],
        [
         "47",
         "Cottage in Bodega Bay, California, US",
         "Seamist Beach Cottage, Private Beach & Ocean views",
         "670.0",
         "156.56",
         "4.7",
         "256",
         "2",
         "normal",
         "13 - 18 Aug, 2023"
        ],
        [
         "48",
         "Cabin in Rocky View County, Canada",
         "100+ Year old Rustic Log Cabin near Ghost Lake",
         "135.0",
         "156.56",
         "4.83",
         "459",
         "1",
         "sofa",
         "25 - 30 Aug, 2023"
        ],
        [
         "49",
         "Houseboat in Low, Canada",
         "The Dragon + Private Island",
         "178.0",
         "156.56",
         "4.87",
         "61",
         "1",
         "queen",
         "1 - 6 Jun, 2023"
        ]
       ],
       "shape": {
        "columns": 9,
        "rows": 947
       }
      },
      "text/html": [
       "<div>\n",
       "<style scoped>\n",
       "    .dataframe tbody tr th:only-of-type {\n",
       "        vertical-align: middle;\n",
       "    }\n",
       "\n",
       "    .dataframe tbody tr th {\n",
       "        vertical-align: top;\n",
       "    }\n",
       "\n",
       "    .dataframe thead th {\n",
       "        text-align: right;\n",
       "    }\n",
       "</style>\n",
       "<table border=\"1\" class=\"dataframe\">\n",
       "  <thead>\n",
       "    <tr style=\"text-align: right;\">\n",
       "      <th></th>\n",
       "      <th>Title</th>\n",
       "      <th>Detail</th>\n",
       "      <th>Price</th>\n",
       "      <th>Offer price</th>\n",
       "      <th>Rating</th>\n",
       "      <th>Review</th>\n",
       "      <th>Number of Beds</th>\n",
       "      <th>Type of bed</th>\n",
       "      <th>Date</th>\n",
       "    </tr>\n",
       "  </thead>\n",
       "  <tbody>\n",
       "    <tr>\n",
       "      <th>0</th>\n",
       "      <td>Chalet in Skykomish, Washington, US</td>\n",
       "      <td>Sky Haus - A-Frame Cabin</td>\n",
       "      <td>306.0</td>\n",
       "      <td>229.00</td>\n",
       "      <td>4.85</td>\n",
       "      <td>531</td>\n",
       "      <td>4</td>\n",
       "      <td>normal</td>\n",
       "      <td>11 - 16 Jun, 2023</td>\n",
       "    </tr>\n",
       "    <tr>\n",
       "      <th>1</th>\n",
       "      <td>Cabin in Hancock, New York, US</td>\n",
       "      <td>The Catskill A-Frame - Mid-Century Modern Cabin</td>\n",
       "      <td>485.0</td>\n",
       "      <td>170.00</td>\n",
       "      <td>4.77</td>\n",
       "      <td>146</td>\n",
       "      <td>4</td>\n",
       "      <td>normal</td>\n",
       "      <td>6 - 11 Jun, 2023</td>\n",
       "    </tr>\n",
       "    <tr>\n",
       "      <th>2</th>\n",
       "      <td>Cabin in West Farmington, Ohio, US</td>\n",
       "      <td>The Triangle: A-Frame Cabin for your city retreat</td>\n",
       "      <td>119.0</td>\n",
       "      <td>522.00</td>\n",
       "      <td>4.91</td>\n",
       "      <td>515</td>\n",
       "      <td>4</td>\n",
       "      <td>normal</td>\n",
       "      <td>9 - 14 Jul, 2023</td>\n",
       "    </tr>\n",
       "    <tr>\n",
       "      <th>3</th>\n",
       "      <td>Home in Blue Ridge, Georgia, US</td>\n",
       "      <td>*Summer Sizzle* 5 Min to Blue Ridge* Pets* Hot...</td>\n",
       "      <td>192.0</td>\n",
       "      <td>348.00</td>\n",
       "      <td>4.94</td>\n",
       "      <td>88</td>\n",
       "      <td>5</td>\n",
       "      <td>normal</td>\n",
       "      <td>11 - 16 Jun, 2023</td>\n",
       "    </tr>\n",
       "    <tr>\n",
       "      <th>4</th>\n",
       "      <td>Treehouse in Grandview, Texas, US</td>\n",
       "      <td>Luxury Treehouse Couples Getaway w/ Peaceful V...</td>\n",
       "      <td>232.0</td>\n",
       "      <td>196.00</td>\n",
       "      <td>4.99</td>\n",
       "      <td>222</td>\n",
       "      <td>1</td>\n",
       "      <td>queen</td>\n",
       "      <td>4 - 9 Jun, 2023</td>\n",
       "    </tr>\n",
       "    <tr>\n",
       "      <th>...</th>\n",
       "      <td>...</td>\n",
       "      <td>...</td>\n",
       "      <td>...</td>\n",
       "      <td>...</td>\n",
       "      <td>...</td>\n",
       "      <td>...</td>\n",
       "      <td>...</td>\n",
       "      <td>...</td>\n",
       "      <td>...</td>\n",
       "    </tr>\n",
       "    <tr>\n",
       "      <th>948</th>\n",
       "      <td>Guest suite in Lake Worth</td>\n",
       "      <td>The Garden Suite at the Historic Chateau Bleu</td>\n",
       "      <td>141.0</td>\n",
       "      <td>156.56</td>\n",
       "      <td>4.85</td>\n",
       "      <td>82</td>\n",
       "      <td>1</td>\n",
       "      <td>king</td>\n",
       "      <td>1 - 6 May, 2023</td>\n",
       "    </tr>\n",
       "    <tr>\n",
       "      <th>949</th>\n",
       "      <td>Room in Kissimmee</td>\n",
       "      <td>Private Room in Orlando/Kissimmee (2Twins) T1</td>\n",
       "      <td>43.0</td>\n",
       "      <td>156.56</td>\n",
       "      <td>4.90</td>\n",
       "      <td>300</td>\n",
       "      <td>1</td>\n",
       "      <td>king</td>\n",
       "      <td>1 - 6 May, 2023</td>\n",
       "    </tr>\n",
       "    <tr>\n",
       "      <th>950</th>\n",
       "      <td>Guesthouse in San Antonio</td>\n",
       "      <td>Casa Alexander</td>\n",
       "      <td>73.0</td>\n",
       "      <td>156.56</td>\n",
       "      <td>4.92</td>\n",
       "      <td>282</td>\n",
       "      <td>5</td>\n",
       "      <td>normal</td>\n",
       "      <td>1 - 6 May, 2023</td>\n",
       "    </tr>\n",
       "    <tr>\n",
       "      <th>951</th>\n",
       "      <td>Apartment in Englewood</td>\n",
       "      <td>BEACH FRONT Unit w/ Pool Sandy Toe's # 5</td>\n",
       "      <td>233.0</td>\n",
       "      <td>156.56</td>\n",
       "      <td>4.96</td>\n",
       "      <td>318</td>\n",
       "      <td>4</td>\n",
       "      <td>normal</td>\n",
       "      <td>7 - 12 May, 2023</td>\n",
       "    </tr>\n",
       "    <tr>\n",
       "      <th>952</th>\n",
       "      <td>Room in Long Beach</td>\n",
       "      <td>Across the Street from Beach Getaway/Near Conv...</td>\n",
       "      <td>106.0</td>\n",
       "      <td>156.56</td>\n",
       "      <td>4.85</td>\n",
       "      <td>97</td>\n",
       "      <td>4</td>\n",
       "      <td>normal</td>\n",
       "      <td>1 - 6 May, 2023</td>\n",
       "    </tr>\n",
       "  </tbody>\n",
       "</table>\n",
       "<p>947 rows × 9 columns</p>\n",
       "</div>"
      ],
      "text/plain": [
       "                                   Title  \\\n",
       "0    Chalet in Skykomish, Washington, US   \n",
       "1         Cabin in Hancock, New York, US   \n",
       "2     Cabin in West Farmington, Ohio, US   \n",
       "3        Home in Blue Ridge, Georgia, US   \n",
       "4      Treehouse in Grandview, Texas, US   \n",
       "..                                   ...   \n",
       "948            Guest suite in Lake Worth   \n",
       "949                    Room in Kissimmee   \n",
       "950            Guesthouse in San Antonio   \n",
       "951               Apartment in Englewood   \n",
       "952                   Room in Long Beach   \n",
       "\n",
       "                                                Detail  Price  Offer price  \\\n",
       "0                             Sky Haus - A-Frame Cabin  306.0       229.00   \n",
       "1      The Catskill A-Frame - Mid-Century Modern Cabin  485.0       170.00   \n",
       "2    The Triangle: A-Frame Cabin for your city retreat  119.0       522.00   \n",
       "3    *Summer Sizzle* 5 Min to Blue Ridge* Pets* Hot...  192.0       348.00   \n",
       "4    Luxury Treehouse Couples Getaway w/ Peaceful V...  232.0       196.00   \n",
       "..                                                 ...    ...          ...   \n",
       "948      The Garden Suite at the Historic Chateau Bleu  141.0       156.56   \n",
       "949      Private Room in Orlando/Kissimmee (2Twins) T1   43.0       156.56   \n",
       "950                                     Casa Alexander   73.0       156.56   \n",
       "951           BEACH FRONT Unit w/ Pool Sandy Toe's # 5  233.0       156.56   \n",
       "952  Across the Street from Beach Getaway/Near Conv...  106.0       156.56   \n",
       "\n",
       "     Rating  Review  Number of Beds Type of bed               Date  \n",
       "0      4.85     531               4      normal  11 - 16 Jun, 2023  \n",
       "1      4.77     146               4      normal   6 - 11 Jun, 2023  \n",
       "2      4.91     515               4      normal   9 - 14 Jul, 2023  \n",
       "3      4.94      88               5      normal  11 - 16 Jun, 2023  \n",
       "4      4.99     222               1       queen    4 - 9 Jun, 2023  \n",
       "..      ...     ...             ...         ...                ...  \n",
       "948    4.85      82               1        king    1 - 6 May, 2023  \n",
       "949    4.90     300               1        king    1 - 6 May, 2023  \n",
       "950    4.92     282               5      normal    1 - 6 May, 2023  \n",
       "951    4.96     318               4      normal   7 - 12 May, 2023  \n",
       "952    4.85      97               4      normal    1 - 6 May, 2023  \n",
       "\n",
       "[947 rows x 9 columns]"
      ]
     },
     "execution_count": 21,
     "metadata": {},
     "output_type": "execute_result"
    }
   ],
   "source": [
    "final_df = df.drop(columns=['Date', 'Review and rating', 'Number of bed'])\n",
    "\n",
    "final_df.rename(columns={\n",
    "    'Price(in dollar)': 'Price',\n",
    "    'Offer price(in dollar)':'Offer price',\n",
    "     'Beds':'Number of Beds',\n",
    "     'Date formatted': 'Date'\n",
    "}, inplace=True)\n",
    "\n",
    "final_df"
   ]
  },
  {
   "cell_type": "code",
   "execution_count": 22,
   "id": "8817faf8",
   "metadata": {},
   "outputs": [
    {
     "data": {
      "text/plain": [
       "(947, 9)"
      ]
     },
     "execution_count": 22,
     "metadata": {},
     "output_type": "execute_result"
    }
   ],
   "source": [
    "final_df.shape"
   ]
  },
  {
   "cell_type": "code",
   "execution_count": 23,
   "id": "41c805d4",
   "metadata": {},
   "outputs": [
    {
     "name": "stdout",
     "output_type": "stream",
     "text": [
      "<class 'pandas.core.frame.DataFrame'>\n",
      "Index: 947 entries, 0 to 952\n",
      "Data columns (total 9 columns):\n",
      " #   Column          Non-Null Count  Dtype  \n",
      "---  ------          --------------  -----  \n",
      " 0   Title           947 non-null    object \n",
      " 1   Detail          947 non-null    object \n",
      " 2   Price           947 non-null    float64\n",
      " 3   Offer price     947 non-null    float64\n",
      " 4   Rating          947 non-null    float64\n",
      " 5   Review          947 non-null    int64  \n",
      " 6   Number of Beds  947 non-null    int64  \n",
      " 7   Type of bed     947 non-null    object \n",
      " 8   Date            947 non-null    object \n",
      "dtypes: float64(3), int64(2), object(4)\n",
      "memory usage: 74.0+ KB\n"
     ]
    }
   ],
   "source": [
    "final_df.info()"
   ]
  },
  {
   "cell_type": "code",
   "execution_count": 24,
   "id": "5d664a37",
   "metadata": {},
   "outputs": [
    {
     "data": {
      "application/vnd.microsoft.datawrangler.viewer.v0+json": {
       "columns": [
        {
         "name": "index",
         "rawType": "object",
         "type": "string"
        },
        {
         "name": "Price",
         "rawType": "float64",
         "type": "float"
        },
        {
         "name": "Offer price",
         "rawType": "float64",
         "type": "float"
        },
        {
         "name": "Rating",
         "rawType": "float64",
         "type": "float"
        },
        {
         "name": "Review",
         "rawType": "float64",
         "type": "float"
        },
        {
         "name": "Number of Beds",
         "rawType": "float64",
         "type": "float"
        }
       ],
       "ref": "d4362b51-c17a-4d09-9a25-b534931cb470",
       "rows": [
        [
         "count",
         "947.0",
         "947.0",
         "947.0",
         "947.0",
         "947.0"
        ],
        [
         "mean",
         "172.07708553326293",
         "156.56004223864835",
         "4.780369588173179",
         "189.1129883843717",
         "2.1847940865892292"
        ],
        [
         "std",
         "141.79443243853643",
         "63.84376491729072",
         "0.6416263119200606",
         "185.36653852545206",
         "1.6446019827472926"
        ],
        [
         "min",
         "16.0",
         "16.0",
         "0.0",
         "0.0",
         "1.0"
        ],
        [
         "25%",
         "84.5",
         "156.56",
         "4.81",
         "54.0",
         "1.0"
        ],
        [
         "50%",
         "135.0",
         "156.56",
         "4.89",
         "136.0",
         "2.0"
        ],
        [
         "75%",
         "221.0",
         "156.56",
         "4.96",
         "268.0",
         "3.0"
        ],
        [
         "max",
         "1463.0",
         "1089.0",
         "5.0",
         "1239.0",
         "22.0"
        ]
       ],
       "shape": {
        "columns": 5,
        "rows": 8
       }
      },
      "text/html": [
       "<div>\n",
       "<style scoped>\n",
       "    .dataframe tbody tr th:only-of-type {\n",
       "        vertical-align: middle;\n",
       "    }\n",
       "\n",
       "    .dataframe tbody tr th {\n",
       "        vertical-align: top;\n",
       "    }\n",
       "\n",
       "    .dataframe thead th {\n",
       "        text-align: right;\n",
       "    }\n",
       "</style>\n",
       "<table border=\"1\" class=\"dataframe\">\n",
       "  <thead>\n",
       "    <tr style=\"text-align: right;\">\n",
       "      <th></th>\n",
       "      <th>Price</th>\n",
       "      <th>Offer price</th>\n",
       "      <th>Rating</th>\n",
       "      <th>Review</th>\n",
       "      <th>Number of Beds</th>\n",
       "    </tr>\n",
       "  </thead>\n",
       "  <tbody>\n",
       "    <tr>\n",
       "      <th>count</th>\n",
       "      <td>947.000000</td>\n",
       "      <td>947.000000</td>\n",
       "      <td>947.000000</td>\n",
       "      <td>947.000000</td>\n",
       "      <td>947.000000</td>\n",
       "    </tr>\n",
       "    <tr>\n",
       "      <th>mean</th>\n",
       "      <td>172.077086</td>\n",
       "      <td>156.560042</td>\n",
       "      <td>4.780370</td>\n",
       "      <td>189.112988</td>\n",
       "      <td>2.184794</td>\n",
       "    </tr>\n",
       "    <tr>\n",
       "      <th>std</th>\n",
       "      <td>141.794432</td>\n",
       "      <td>63.843765</td>\n",
       "      <td>0.641626</td>\n",
       "      <td>185.366539</td>\n",
       "      <td>1.644602</td>\n",
       "    </tr>\n",
       "    <tr>\n",
       "      <th>min</th>\n",
       "      <td>16.000000</td>\n",
       "      <td>16.000000</td>\n",
       "      <td>0.000000</td>\n",
       "      <td>0.000000</td>\n",
       "      <td>1.000000</td>\n",
       "    </tr>\n",
       "    <tr>\n",
       "      <th>25%</th>\n",
       "      <td>84.500000</td>\n",
       "      <td>156.560000</td>\n",
       "      <td>4.810000</td>\n",
       "      <td>54.000000</td>\n",
       "      <td>1.000000</td>\n",
       "    </tr>\n",
       "    <tr>\n",
       "      <th>50%</th>\n",
       "      <td>135.000000</td>\n",
       "      <td>156.560000</td>\n",
       "      <td>4.890000</td>\n",
       "      <td>136.000000</td>\n",
       "      <td>2.000000</td>\n",
       "    </tr>\n",
       "    <tr>\n",
       "      <th>75%</th>\n",
       "      <td>221.000000</td>\n",
       "      <td>156.560000</td>\n",
       "      <td>4.960000</td>\n",
       "      <td>268.000000</td>\n",
       "      <td>3.000000</td>\n",
       "    </tr>\n",
       "    <tr>\n",
       "      <th>max</th>\n",
       "      <td>1463.000000</td>\n",
       "      <td>1089.000000</td>\n",
       "      <td>5.000000</td>\n",
       "      <td>1239.000000</td>\n",
       "      <td>22.000000</td>\n",
       "    </tr>\n",
       "  </tbody>\n",
       "</table>\n",
       "</div>"
      ],
      "text/plain": [
       "             Price  Offer price      Rating       Review  Number of Beds\n",
       "count   947.000000   947.000000  947.000000   947.000000      947.000000\n",
       "mean    172.077086   156.560042    4.780370   189.112988        2.184794\n",
       "std     141.794432    63.843765    0.641626   185.366539        1.644602\n",
       "min      16.000000    16.000000    0.000000     0.000000        1.000000\n",
       "25%      84.500000   156.560000    4.810000    54.000000        1.000000\n",
       "50%     135.000000   156.560000    4.890000   136.000000        2.000000\n",
       "75%     221.000000   156.560000    4.960000   268.000000        3.000000\n",
       "max    1463.000000  1089.000000    5.000000  1239.000000       22.000000"
      ]
     },
     "execution_count": 24,
     "metadata": {},
     "output_type": "execute_result"
    }
   ],
   "source": [
    "final_df.describe()"
   ]
  },
  {
   "cell_type": "code",
   "execution_count": 25,
   "id": "ace8bd5a",
   "metadata": {},
   "outputs": [],
   "source": [
    "numric_columns = [\"Price\", \"Offer price\", \"Rating\", \"Review\", \"Number of Beds\"]\n",
    "categorical_columns = [\"Type of Bed\", \"Date\"]"
   ]
  },
  {
   "cell_type": "markdown",
   "id": "87dc8691",
   "metadata": {},
   "source": [
    "What is the distribution of prices and offer prices?"
   ]
  },
  {
   "cell_type": "code",
   "execution_count": 26,
   "id": "4af49913",
   "metadata": {},
   "outputs": [
    {
     "data": {
      "text/plain": [
       "Text(0, 0.5, 'Count')"
      ]
     },
     "execution_count": 26,
     "metadata": {},
     "output_type": "execute_result"
    },
    {
     "data": {
      "image/png": "[encoded data removed]",
      "text/plain": [
       "<Figure size 1200x400 with 2 Axes>"
      ]
     },
     "metadata": {},
     "output_type": "display_data"
    }
   ],
   "source": [
    "plt.figure(figsize=(12, 4))\n",
    "plt.subplot(1,2,1)\n",
    "sns.histplot(final_df['Price'], bins=30, kde=True, color='purple')\n",
    "plt.title('Distribution of Price')\n",
    "plt.xlabel('Price')\n",
    "plt.ylabel('Count')\n",
    "\n",
    "plt.subplot(1,2,2)\n",
    "sns.histplot(final_df['Offer price'], bins=30, kde=True, color='red')\n",
    "plt.title('Distribution of Offer price')\n",
    "plt.xlabel('Offer price')\n",
    "plt.ylabel('Count')"
   ]
  },
  {
   "cell_type": "markdown",
   "id": "1b5ad152",
   "metadata": {},
   "source": [
    "What is the average, minimum, and maximum rating for listings?"
   ]
  },
  {
   "cell_type": "code",
   "execution_count": 27,
   "id": "d34bcb1f",
   "metadata": {},
   "outputs": [
    {
     "name": "stdout",
     "output_type": "stream",
     "text": [
      "Maximum rating 5.0\n",
      "Minimum rating 0.0\n",
      "Average rating 4.780369588173179\n"
     ]
    }
   ],
   "source": [
    "print('Maximum rating',df['Rating'].max())\n",
    "print('Minimum rating',df['Rating'].min())\n",
    "print('Average rating',df['Rating'].mean())"
   ]
  },
  {
   "cell_type": "markdown",
   "id": "5621fd52",
   "metadata": {},
   "source": [
    "How many reviews do listings typically have?"
   ]
  },
  {
   "cell_type": "code",
   "execution_count": 28,
   "id": "964de5da",
   "metadata": {},
   "outputs": [
    {
     "name": "stdout",
     "output_type": "stream",
     "text": [
      "Average number of reviews: 189.1129883843717\n",
      "Median number of reviews: 136.0\n",
      "Minimum number of reviews: 0\n",
      "Maximum number of reviews: 1239\n"
     ]
    },
    {
     "data": {
      "image/png": "[encoded data removed]",
      "text/plain": [
       "<Figure size 800x400 with 1 Axes>"
      ]
     },
     "metadata": {},
     "output_type": "display_data"
    }
   ],
   "source": [
    "# Typical number of reviews for listings\n",
    "print('Average number of reviews:', final_df['Review'].mean())\n",
    "print('Median number of reviews:', final_df['Review'].median())\n",
    "print('Minimum number of reviews:', final_df['Review'].min())\n",
    "print('Maximum number of reviews:', final_df['Review'].max())\n",
    "\n",
    "plt.figure(figsize=(8,4))\n",
    "sns.histplot(final_df['Review'], bins=30, kde=True, color='teal')\n",
    "plt.title('Distribution of Number of Reviews')\n",
    "plt.xlabel('Number of Reviews')\n",
    "plt.ylabel('Count')\n",
    "plt.show()"
   ]
  },
  {
   "cell_type": "markdown",
   "id": "72bf2b6d",
   "metadata": {},
   "source": [
    "What are the most common types of beds and their frequencies?"
   ]
  },
  {
   "cell_type": "code",
   "execution_count": 29,
   "id": "21190628",
   "metadata": {},
   "outputs": [
    {
     "name": "stderr",
     "output_type": "stream",
     "text": [
      "C:\\Users\\itxkakar\\AppData\\Local\\Temp\\ipykernel_6228\\3986023866.py:3: FutureWarning: \n",
      "\n",
      "Passing `palette` without assigning `hue` is deprecated and will be removed in v0.14.0. Assign the `y` variable to `hue` and set `legend=False` for the same effect.\n",
      "\n",
      "  sns.countplot(y=final_df['Type of bed'], order=final_df['Type of bed'].value_counts().index, palette='viridis')\n"
     ]
    },
    {
     "data": {
      "image/png": "[encoded data removed]",
      "text/plain": [
       "<Figure size 800x400 with 1 Axes>"
      ]
     },
     "metadata": {},
     "output_type": "display_data"
    },
    {
     "name": "stdout",
     "output_type": "stream",
     "text": [
      "Type of bed\n",
      "normal    550\n",
      "queen     162\n",
      "king      109\n",
      "double     90\n",
      "sofa       23\n",
      "single     10\n",
      "bunk        3\n",
      "Name: count, dtype: int64\n"
     ]
    }
   ],
   "source": [
    "# Most common types of beds and their frequencies\n",
    "plt.figure(figsize=(8,4))\n",
    "sns.countplot(y=final_df['Type of bed'], order=final_df['Type of bed'].value_counts().index, palette='viridis')\n",
    "plt.title(\"Most Common Bed Types\")\n",
    "plt.xlabel('Count')\n",
    "plt.ylabel('Type of Bed')\n",
    "plt.show()\n",
    "\n",
    "print(final_df['Type of bed'].value_counts())"
   ]
  },
  {
   "cell_type": "code",
   "execution_count": 30,
   "id": "6997ada0",
   "metadata": {},
   "outputs": [
    {
     "data": {
      "image/png": "[encoded data removed]",
      "text/plain": [
       "<Figure size 800x400 with 1 Axes>"
      ]
     },
     "metadata": {},
     "output_type": "display_data"
    },
    {
     "name": "stdout",
     "output_type": "stream",
     "text": [
      "Number of Beds\n",
      "1     366\n",
      "2     323\n",
      "3     131\n",
      "4      74\n",
      "5      19\n",
      "6      17\n",
      "7       3\n",
      "8       4\n",
      "9       5\n",
      "10      1\n",
      "11      1\n",
      "13      1\n",
      "17      1\n",
      "22      1\n",
      "Name: count, dtype: int64\n"
     ]
    }
   ],
   "source": [
    "# How many beds do most listings offer?\n",
    "plt.figure(figsize=(8,4))\n",
    "sns.countplot(x=final_df['Number of Beds'], color='cornflowerblue')\n",
    "plt.title('Number of Beds per Listing')\n",
    "plt.xlabel('Number of Beds')\n",
    "plt.ylabel('Count')\n",
    "plt.show()\n",
    "\n",
    "print(final_df['Number of Beds'].value_counts().sort_index())"
   ]
  },
  {
   "cell_type": "markdown",
   "id": "71234417",
   "metadata": {},
   "source": [
    "Grouped Analysis"
   ]
  },
  {
   "cell_type": "markdown",
   "id": "3a651615",
   "metadata": {},
   "source": [
    "How does the average price vary by type of bed?"
   ]
  },
  {
   "cell_type": "code",
   "execution_count": 36,
   "id": "97758ca9",
   "metadata": {},
   "outputs": [
    {
     "name": "stdout",
     "output_type": "stream",
     "text": [
      "Type of bed\n",
      "normal    182.736364\n",
      "queen     170.141975\n",
      "king      157.403670\n",
      "double    153.500000\n",
      "sofa      112.000000\n",
      "single    104.600000\n",
      "bunk       98.333333\n",
      "Name: Price, dtype: float64\n"
     ]
    },
    {
     "name": "stderr",
     "output_type": "stream",
     "text": [
      "C:\\Users\\itxkakar\\AppData\\Local\\Temp\\ipykernel_6228\\2395686840.py:6: FutureWarning: \n",
      "\n",
      "Passing `palette` without assigning `hue` is deprecated and will be removed in v0.14.0. Assign the `x` variable to `hue` and set `legend=False` for the same effect.\n",
      "\n",
      "  sns.barplot(x=avg_price_by_bed.index, y=avg_price_by_bed.values, palette='mako')\n"
     ]
    },
    {
     "data": {
      "image/png": "[encoded data removed]",
      "text/plain": [
       "<Figure size 1000x500 with 1 Axes>"
      ]
     },
     "metadata": {},
     "output_type": "display_data"
    }
   ],
   "source": [
    "avg_price_by_bed = final_df.groupby('Type of bed')['Price'].mean().sort_values(ascending=False)\n",
    "\n",
    "print(avg_price_by_bed)\n",
    "\n",
    "plt.figure(figsize=(10,5))\n",
    "sns.barplot(x=avg_price_by_bed.index, y=avg_price_by_bed.values, palette='mako')\n",
    "plt.title('Average Price by Type of Bed')\n",
    "plt.xlabel('Type of Bed')\n",
    "plt.ylabel('Average Price')\n",
    "plt.xticks(rotation=90)\n",
    "plt.show()"
   ]
  },
  {
   "cell_type": "markdown",
   "id": "80b832bf",
   "metadata": {},
   "source": [
    "Is there a relationship between the number of beds and the price?"
   ]
  },
  {
   "cell_type": "code",
   "execution_count": 41,
   "id": "ee96ed06",
   "metadata": {},
   "outputs": [
    {
     "name": "stdout",
     "output_type": "stream",
     "text": [
      "                Number of Beds     Price\n",
      "Number of Beds        1.000000  0.265266\n",
      "Price                 0.265266  1.000000\n"
     ]
    },
    {
     "data": {
      "text/plain": [
       "<Axes: >"
      ]
     },
     "execution_count": 41,
     "metadata": {},
     "output_type": "execute_result"
    },
    {
     "data": {
      "image/png": "[encoded data removed]",
      "text/plain": [
       "<Figure size 640x480 with 2 Axes>"
      ]
     },
     "metadata": {},
     "output_type": "display_data"
    }
   ],
   "source": [
    "print(final_df[['Number of Beds', 'Price']].corr())\n",
    "sns.heatmap(final_df[['Number of Beds', 'Price']].corr(), annot=True)"
   ]
  },
  {
   "cell_type": "markdown",
   "id": "d64344f5",
   "metadata": {},
   "source": [
    "Do listings with higher ratings tend to have more reviews?"
   ]
  },
  {
   "cell_type": "code",
   "execution_count": 42,
   "id": "ad997d8b",
   "metadata": {},
   "outputs": [
    {
     "data": {
      "image/png": "[encoded data removed]",
      "text/plain": [
       "<Figure size 800x500 with 1 Axes>"
      ]
     },
     "metadata": {},
     "output_type": "display_data"
    },
    {
     "name": "stdout",
     "output_type": "stream",
     "text": [
      "Correlation between rating and number of reviews: 0.14\n"
     ]
    }
   ],
   "source": [
    "# Do listings with higher ratings tend to have more reviews?\n",
    "plt.figure(figsize=(8,5))\n",
    "sns.scatterplot(x=final_df['Rating'], y=final_df['Review'], alpha=0.6)\n",
    "plt.title('Number of Reviews vs. Rating')\n",
    "plt.xlabel('Rating')\n",
    "plt.ylabel('Number of Reviews')\n",
    "plt.show()\n",
    "\n",
    "corr = final_df['Rating'].corr(final_df['Review'])\n",
    "print(f'Correlation between rating and number of reviews: {corr:.2f}')"
   ]
  },
  {
   "cell_type": "markdown",
   "id": "8a9cd227",
   "metadata": {},
   "source": [
    "How do prices and ratings change over different dates (seasonality)?"
   ]
  },
  {
   "cell_type": "code",
   "execution_count": 43,
   "id": "a281d267",
   "metadata": {},
   "outputs": [
    {
     "data": {
      "image/png": "[encoded data removed]",
      "text/plain": [
       "<Figure size 1200x500 with 1 Axes>"
      ]
     },
     "metadata": {},
     "output_type": "display_data"
    }
   ],
   "source": [
    "# How do prices and ratings change over different dates (seasonality)?\n",
    "# Extract start month from the 'Date' column for seasonality analysis\n",
    "final_df['Start Month'] = final_df['Date'].str.extract(r'(\\d+|\\d+ \\w+) - (\\d+) (\\w+), 2023|\\d+ (\\w+) - \\d+ (\\w+), 2023')[2].fillna(final_df['Date'].str.extract(r'(\\d+|\\d+) (\\w+) -')[1])\n",
    "final_df['Start Month'] = final_df['Start Month'].str.capitalize()\n",
    "\n",
    "# Group by month and calculate average price and rating\n",
    "monthly_stats = final_df.groupby('Start Month').agg({'Price':'mean', 'Rating':'mean'}).reindex(['January','February','March','April','May','June','July','August','September','October','November','December'])\n",
    "\n",
    "plt.figure(figsize=(12,5))\n",
    "plt.plot(monthly_stats.index, monthly_stats['Price'], marker='o', label='Average Price')\n",
    "plt.plot(monthly_stats.index, monthly_stats['Rating'], marker='s', label='Average Rating')\n",
    "plt.title('Seasonality: Average Price and Rating by Month')\n",
    "plt.xlabel('Month')\n",
    "plt.ylabel('Value')\n",
    "plt.legend()\n",
    "plt.xticks(rotation=45)\n",
    "plt.show()"
   ]
  }
 ],
 "metadata": {
  "kernelspec": {
   "display_name": "env",
   "language": "python",
   "name": "python3"
  },
  "language_info": {
   "codemirror_mode": {
    "name": "ipython",
    "version": 3
   },
   "file_extension": ".py",
   "mimetype": "text/x-python",
   "name": "python",
   "nbconvert_exporter": "python",
   "pygments_lexer": "ipython3",
   "version": "3.13.1"
  }
 },
 "nbformat": 4,
 "nbformat_minor": 5
}
