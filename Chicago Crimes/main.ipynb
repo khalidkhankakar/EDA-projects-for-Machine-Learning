{
 "cells": [
  {
   "cell_type": "markdown",
   "id": "95ec4c89",
   "metadata": {},
   "source": [
    "First of all download the chicago crime dataset from kaggle "
   ]
  },
  {
   "cell_type": "code",
   "execution_count": 15,
   "id": "bd383b49",
   "metadata": {},
   "outputs": [],
   "source": [
    "# https://www.kaggle.com/datasets/usmanlovescode/city-of-chicago-crimes-2001-to-present-dataset"
   ]
  },
  {
   "cell_type": "code",
   "execution_count": 16,
   "id": "0ae3db86",
   "metadata": {},
   "outputs": [],
   "source": [
    "import pandas as pd\n",
    "import matplotlib.pyplot as plt\n",
    "import seaborn as sns\n",
    "import numpy as np"
   ]
  },
  {
   "cell_type": "code",
   "execution_count": 17,
   "id": "3eced78c",
   "metadata": {},
   "outputs": [
    {
     "name": "stderr",
     "output_type": "stream",
     "text": [
      "C:\\Users\\itxkakar\\AppData\\Local\\Temp\\ipykernel_6344\\1143136787.py:1: DtypeWarning: Columns (0,8,9) have mixed types. Specify dtype option on import or set low_memory=False.\n",
      "  df = pd.read_csv('crime.csv')\n"
     ]
    }
   ],
   "source": [
    "df = pd.read_csv('crime.csv')"
   ]
  },
  {
   "cell_type": "code",
   "execution_count": 24,
   "id": "4637f1d7",
   "metadata": {},
   "outputs": [
    {
     "data": {
      "application/vnd.microsoft.datawrangler.viewer.v0+json": {
       "columns": [
        {
         "name": "index",
         "rawType": "int64",
         "type": "integer"
        },
        {
         "name": "ID",
         "rawType": "object",
         "type": "unknown"
        },
        {
         "name": "Case Number",
         "rawType": "object",
         "type": "string"
        },
        {
         "name": "Date",
         "rawType": "object",
         "type": "string"
        },
        {
         "name": "Block",
         "rawType": "object",
         "type": "string"
        },
        {
         "name": "IUCR",
         "rawType": "object",
         "type": "string"
        },
        {
         "name": "Primary Type",
         "rawType": "object",
         "type": "string"
        },
        {
         "name": "Description",
         "rawType": "object",
         "type": "string"
        },
        {
         "name": "Location Description",
         "rawType": "object",
         "type": "string"
        },
        {
         "name": "Arrest",
         "rawType": "object",
         "type": "unknown"
        },
        {
         "name": "Domestic",
         "rawType": "object",
         "type": "unknown"
        },
        {
         "name": "Beat",
         "rawType": "float64",
         "type": "float"
        },
        {
         "name": "District",
         "rawType": "float64",
         "type": "float"
        },
        {
         "name": "Ward",
         "rawType": "float64",
         "type": "float"
        },
        {
         "name": "Community Area",
         "rawType": "float64",
         "type": "float"
        },
        {
         "name": "FBI Code",
         "rawType": "object",
         "type": "string"
        },
        {
         "name": "X Coordinate",
         "rawType": "float64",
         "type": "float"
        },
        {
         "name": "Y Coordinate",
         "rawType": "float64",
         "type": "float"
        },
        {
         "name": "Year",
         "rawType": "float64",
         "type": "float"
        },
        {
         "name": "Updated On",
         "rawType": "object",
         "type": "string"
        },
        {
         "name": "Latitude",
         "rawType": "float64",
         "type": "float"
        },
        {
         "name": "Longitude",
         "rawType": "float64",
         "type": "float"
        },
        {
         "name": "Location",
         "rawType": "object",
         "type": "string"
        }
       ],
       "ref": "f600f54a-63f2-454f-bec5-56e1f2d84257",
       "rows": [
        [
         "6",
         "10224881",
         "HY411873",
         "09/03/2015 06:00:00 PM",
         "044XX S UNIVERSITY AVE",
         "1310",
         "CRIMINAL DAMAGE",
         "TO PROPERTY",
         "RESIDENCE",
         "False",
         "False",
         "222.0",
         "2.0",
         "4.0",
         "39.0",
         "14",
         "1184667.0",
         "1875669.0",
         "2015.0",
         "02/10/2018 03:50:01 PM",
         "41.81399924",
         "-87.598137918",
         "(41.81399924, -87.598137918)"
        ],
        [
         "11",
         "10225155",
         "HY412177",
         "09/05/2015 10:42:00 PM",
         "007XX W IRVING PARK RD",
         "0470",
         "PUBLIC PEACE VIOLATION",
         "RECKLESS CONDUCT",
         "STREET",
         "True",
         "False",
         "1915.0",
         "19.0",
         "46.0",
         "3.0",
         "24",
         "1170563.0",
         "1926785.0",
         "2015.0",
         "02/10/2018 03:50:01 PM",
         "41.954584472",
         "-87.648375776",
         "(41.954584472, -87.648375776)"
        ],
        [
         "15",
         "10225206",
         "HY412253",
         "09/06/2015 01:10:00 AM",
         "047XX S STATE ST",
         "041A",
         "BATTERY",
         "AGGRAVATED: HANDGUN",
         "VACANT LOT/LAND",
         "False",
         "False",
         "224.0",
         "2.0",
         "3.0",
         "38.0",
         "04B",
         "1177070.0",
         "1873609.0",
         "2015.0",
         "02/10/2018 03:50:01 PM",
         "41.80852139",
         "-87.62606631",
         "(41.80852139, -87.62606631)"
        ],
        [
         "17",
         "10225234",
         "HY412306",
         "09/06/2015 02:00:00 AM",
         "002XX N ST LOUIS AVE",
         "0420",
         "BATTERY",
         "AGGRAVATED:KNIFE/CUTTING INSTR",
         "SIDEWALK",
         "False",
         "False",
         "1123.0",
         "11.0",
         "28.0",
         "27.0",
         "04B",
         "1153006.0",
         "1901570.0",
         "2015.0",
         "02/10/2018 03:50:01 PM",
         "41.885759278",
         "-87.713588042",
         "(41.885759278, -87.713588042)"
        ],
        [
         "23",
         "10225308",
         "HY412341",
         "09/06/2015 02:35:00 AM",
         "013XX W ADDISON ST",
         "2230",
         "LIQUOR LAW VIOLATION",
         "ILLEGAL CONSUMPTION BY MINOR",
         "SIDEWALK",
         "True",
         "False",
         "1923.0",
         "19.0",
         "44.0",
         "6.0",
         "22",
         "1166847.0",
         "1924028.0",
         "2015.0",
         "09/17/2015 11:37:18 AM",
         "41.947099832",
         "-87.662115668",
         "(41.947099832, -87.662115668)"
        ]
       ],
       "shape": {
        "columns": 22,
        "rows": 5
       }
      },
      "text/html": [
       "<div>\n",
       "<style scoped>\n",
       "    .dataframe tbody tr th:only-of-type {\n",
       "        vertical-align: middle;\n",
       "    }\n",
       "\n",
       "    .dataframe tbody tr th {\n",
       "        vertical-align: top;\n",
       "    }\n",
       "\n",
       "    .dataframe thead th {\n",
       "        text-align: right;\n",
       "    }\n",
       "</style>\n",
       "<table border=\"1\" class=\"dataframe\">\n",
       "  <thead>\n",
       "    <tr style=\"text-align: right;\">\n",
       "      <th></th>\n",
       "      <th>ID</th>\n",
       "      <th>Case Number</th>\n",
       "      <th>Date</th>\n",
       "      <th>Block</th>\n",
       "      <th>IUCR</th>\n",
       "      <th>Primary Type</th>\n",
       "      <th>Description</th>\n",
       "      <th>Location Description</th>\n",
       "      <th>Arrest</th>\n",
       "      <th>Domestic</th>\n",
       "      <th>...</th>\n",
       "      <th>Ward</th>\n",
       "      <th>Community Area</th>\n",
       "      <th>FBI Code</th>\n",
       "      <th>X Coordinate</th>\n",
       "      <th>Y Coordinate</th>\n",
       "      <th>Year</th>\n",
       "      <th>Updated On</th>\n",
       "      <th>Latitude</th>\n",
       "      <th>Longitude</th>\n",
       "      <th>Location</th>\n",
       "    </tr>\n",
       "  </thead>\n",
       "  <tbody>\n",
       "    <tr>\n",
       "      <th>6</th>\n",
       "      <td>10224881</td>\n",
       "      <td>HY411873</td>\n",
       "      <td>09/03/2015 06:00:00 PM</td>\n",
       "      <td>044XX S UNIVERSITY AVE</td>\n",
       "      <td>1310</td>\n",
       "      <td>CRIMINAL DAMAGE</td>\n",
       "      <td>TO PROPERTY</td>\n",
       "      <td>RESIDENCE</td>\n",
       "      <td>False</td>\n",
       "      <td>False</td>\n",
       "      <td>...</td>\n",
       "      <td>4.0</td>\n",
       "      <td>39.0</td>\n",
       "      <td>14</td>\n",
       "      <td>1184667.0</td>\n",
       "      <td>1875669.0</td>\n",
       "      <td>2015.0</td>\n",
       "      <td>02/10/2018 03:50:01 PM</td>\n",
       "      <td>41.813999</td>\n",
       "      <td>-87.598138</td>\n",
       "      <td>(41.81399924, -87.598137918)</td>\n",
       "    </tr>\n",
       "    <tr>\n",
       "      <th>11</th>\n",
       "      <td>10225155</td>\n",
       "      <td>HY412177</td>\n",
       "      <td>09/05/2015 10:42:00 PM</td>\n",
       "      <td>007XX W IRVING PARK RD</td>\n",
       "      <td>0470</td>\n",
       "      <td>PUBLIC PEACE VIOLATION</td>\n",
       "      <td>RECKLESS CONDUCT</td>\n",
       "      <td>STREET</td>\n",
       "      <td>True</td>\n",
       "      <td>False</td>\n",
       "      <td>...</td>\n",
       "      <td>46.0</td>\n",
       "      <td>3.0</td>\n",
       "      <td>24</td>\n",
       "      <td>1170563.0</td>\n",
       "      <td>1926785.0</td>\n",
       "      <td>2015.0</td>\n",
       "      <td>02/10/2018 03:50:01 PM</td>\n",
       "      <td>41.954584</td>\n",
       "      <td>-87.648376</td>\n",
       "      <td>(41.954584472, -87.648375776)</td>\n",
       "    </tr>\n",
       "    <tr>\n",
       "      <th>15</th>\n",
       "      <td>10225206</td>\n",
       "      <td>HY412253</td>\n",
       "      <td>09/06/2015 01:10:00 AM</td>\n",
       "      <td>047XX S STATE ST</td>\n",
       "      <td>041A</td>\n",
       "      <td>BATTERY</td>\n",
       "      <td>AGGRAVATED: HANDGUN</td>\n",
       "      <td>VACANT LOT/LAND</td>\n",
       "      <td>False</td>\n",
       "      <td>False</td>\n",
       "      <td>...</td>\n",
       "      <td>3.0</td>\n",
       "      <td>38.0</td>\n",
       "      <td>04B</td>\n",
       "      <td>1177070.0</td>\n",
       "      <td>1873609.0</td>\n",
       "      <td>2015.0</td>\n",
       "      <td>02/10/2018 03:50:01 PM</td>\n",
       "      <td>41.808521</td>\n",
       "      <td>-87.626066</td>\n",
       "      <td>(41.80852139, -87.62606631)</td>\n",
       "    </tr>\n",
       "    <tr>\n",
       "      <th>17</th>\n",
       "      <td>10225234</td>\n",
       "      <td>HY412306</td>\n",
       "      <td>09/06/2015 02:00:00 AM</td>\n",
       "      <td>002XX N ST LOUIS AVE</td>\n",
       "      <td>0420</td>\n",
       "      <td>BATTERY</td>\n",
       "      <td>AGGRAVATED:KNIFE/CUTTING INSTR</td>\n",
       "      <td>SIDEWALK</td>\n",
       "      <td>False</td>\n",
       "      <td>False</td>\n",
       "      <td>...</td>\n",
       "      <td>28.0</td>\n",
       "      <td>27.0</td>\n",
       "      <td>04B</td>\n",
       "      <td>1153006.0</td>\n",
       "      <td>1901570.0</td>\n",
       "      <td>2015.0</td>\n",
       "      <td>02/10/2018 03:50:01 PM</td>\n",
       "      <td>41.885759</td>\n",
       "      <td>-87.713588</td>\n",
       "      <td>(41.885759278, -87.713588042)</td>\n",
       "    </tr>\n",
       "    <tr>\n",
       "      <th>23</th>\n",
       "      <td>10225308</td>\n",
       "      <td>HY412341</td>\n",
       "      <td>09/06/2015 02:35:00 AM</td>\n",
       "      <td>013XX W ADDISON ST</td>\n",
       "      <td>2230</td>\n",
       "      <td>LIQUOR LAW VIOLATION</td>\n",
       "      <td>ILLEGAL CONSUMPTION BY MINOR</td>\n",
       "      <td>SIDEWALK</td>\n",
       "      <td>True</td>\n",
       "      <td>False</td>\n",
       "      <td>...</td>\n",
       "      <td>44.0</td>\n",
       "      <td>6.0</td>\n",
       "      <td>22</td>\n",
       "      <td>1166847.0</td>\n",
       "      <td>1924028.0</td>\n",
       "      <td>2015.0</td>\n",
       "      <td>09/17/2015 11:37:18 AM</td>\n",
       "      <td>41.947100</td>\n",
       "      <td>-87.662116</td>\n",
       "      <td>(41.947099832, -87.662115668)</td>\n",
       "    </tr>\n",
       "  </tbody>\n",
       "</table>\n",
       "<p>5 rows × 22 columns</p>\n",
       "</div>"
      ],
      "text/plain": [
       "          ID Case Number                    Date                   Block  \\\n",
       "6   10224881    HY411873  09/03/2015 06:00:00 PM  044XX S UNIVERSITY AVE   \n",
       "11  10225155    HY412177  09/05/2015 10:42:00 PM  007XX W IRVING PARK RD   \n",
       "15  10225206    HY412253  09/06/2015 01:10:00 AM        047XX S STATE ST   \n",
       "17  10225234    HY412306  09/06/2015 02:00:00 AM    002XX N ST LOUIS AVE   \n",
       "23  10225308    HY412341  09/06/2015 02:35:00 AM      013XX W ADDISON ST   \n",
       "\n",
       "    IUCR            Primary Type                     Description  \\\n",
       "6   1310         CRIMINAL DAMAGE                     TO PROPERTY   \n",
       "11  0470  PUBLIC PEACE VIOLATION                RECKLESS CONDUCT   \n",
       "15  041A                 BATTERY             AGGRAVATED: HANDGUN   \n",
       "17  0420                 BATTERY  AGGRAVATED:KNIFE/CUTTING INSTR   \n",
       "23  2230    LIQUOR LAW VIOLATION    ILLEGAL CONSUMPTION BY MINOR   \n",
       "\n",
       "   Location Description Arrest Domestic  ...  Ward  Community Area  FBI Code  \\\n",
       "6             RESIDENCE  False    False  ...   4.0            39.0        14   \n",
       "11               STREET   True    False  ...  46.0             3.0        24   \n",
       "15      VACANT LOT/LAND  False    False  ...   3.0            38.0       04B   \n",
       "17             SIDEWALK  False    False  ...  28.0            27.0       04B   \n",
       "23             SIDEWALK   True    False  ...  44.0             6.0        22   \n",
       "\n",
       "    X Coordinate Y Coordinate    Year              Updated On   Latitude  \\\n",
       "6      1184667.0    1875669.0  2015.0  02/10/2018 03:50:01 PM  41.813999   \n",
       "11     1170563.0    1926785.0  2015.0  02/10/2018 03:50:01 PM  41.954584   \n",
       "15     1177070.0    1873609.0  2015.0  02/10/2018 03:50:01 PM  41.808521   \n",
       "17     1153006.0    1901570.0  2015.0  02/10/2018 03:50:01 PM  41.885759   \n",
       "23     1166847.0    1924028.0  2015.0  09/17/2015 11:37:18 AM  41.947100   \n",
       "\n",
       "    Longitude                       Location  \n",
       "6  -87.598138   (41.81399924, -87.598137918)  \n",
       "11 -87.648376  (41.954584472, -87.648375776)  \n",
       "15 -87.626066    (41.80852139, -87.62606631)  \n",
       "17 -87.713588  (41.885759278, -87.713588042)  \n",
       "23 -87.662116  (41.947099832, -87.662115668)  \n",
       "\n",
       "[5 rows x 22 columns]"
      ]
     },
     "execution_count": 24,
     "metadata": {},
     "output_type": "execute_result"
    }
   ],
   "source": [
    "df.head()"
   ]
  },
  {
   "cell_type": "code",
   "execution_count": 19,
   "id": "4ee42f04",
   "metadata": {},
   "outputs": [
    {
     "name": "stdout",
     "output_type": "stream",
     "text": [
      "<class 'pandas.core.frame.DataFrame'>\n",
      "RangeIndex: 687044 entries, 0 to 687043\n",
      "Data columns (total 22 columns):\n",
      " #   Column                Non-Null Count   Dtype  \n",
      "---  ------                --------------   -----  \n",
      " 0   ID                    687044 non-null  object \n",
      " 1   Case Number           687040 non-null  object \n",
      " 2   Date                  687040 non-null  object \n",
      " 3   Block                 687040 non-null  object \n",
      " 4   IUCR                  687040 non-null  object \n",
      " 5   Primary Type          687040 non-null  object \n",
      " 6   Description           687040 non-null  object \n",
      " 7   Location Description  681487 non-null  object \n",
      " 8   Arrest                687039 non-null  object \n",
      " 9   Domestic              687039 non-null  object \n",
      " 10  Beat                  687039 non-null  float64\n",
      " 11  District              687039 non-null  float64\n",
      " 12  Ward                  671780 non-null  float64\n",
      " 13  Community Area        671865 non-null  float64\n",
      " 14  FBI Code              687039 non-null  object \n",
      " 15  X Coordinate          612403 non-null  float64\n",
      " 16  Y Coordinate          612403 non-null  float64\n",
      " 17  Year                  687039 non-null  float64\n",
      " 18  Updated On            687039 non-null  object \n",
      " 19  Latitude              612403 non-null  float64\n",
      " 20  Longitude             612403 non-null  float64\n",
      " 21  Location              612403 non-null  object \n",
      "dtypes: float64(9), object(13)\n",
      "memory usage: 115.3+ MB\n"
     ]
    }
   ],
   "source": [
    "df.info()"
   ]
  },
  {
   "cell_type": "code",
   "execution_count": 20,
   "id": "be0dfa31",
   "metadata": {},
   "outputs": [],
   "source": [
    "df.dropna(inplace=True)"
   ]
  },
  {
   "cell_type": "code",
   "execution_count": 22,
   "id": "a9bd4bff",
   "metadata": {},
   "outputs": [
    {
     "data": {
      "text/plain": [
       "Index(['ID', 'Case Number', 'Date', 'Block', 'IUCR', 'Primary Type',\n",
       "       'Description', 'Location Description', 'Arrest', 'Domestic', 'Beat',\n",
       "       'District', 'Ward', 'Community Area', 'FBI Code', 'X Coordinate',\n",
       "       'Y Coordinate', 'Year', 'Updated On', 'Latitude', 'Longitude',\n",
       "       'Location'],\n",
       "      dtype='object')"
      ]
     },
     "execution_count": 22,
     "metadata": {},
     "output_type": "execute_result"
    }
   ],
   "source": [
    "df.columns"
   ]
  }
 ],
 "metadata": {
  "kernelspec": {
   "display_name": "env",
   "language": "python",
   "name": "python3"
  },
  "language_info": {
   "codemirror_mode": {
    "name": "ipython",
    "version": 3
   },
   "file_extension": ".py",
   "mimetype": "text/x-python",
   "name": "python",
   "nbconvert_exporter": "python",
   "pygments_lexer": "ipython3",
   "version": "3.13.1"
  }
 },
 "nbformat": 4,
 "nbformat_minor": 5
}
